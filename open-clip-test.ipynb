{
 "cells": [
  {
   "cell_type": "code",
   "execution_count": 1,
   "id": "28487a8d-3e3e-4a2e-83af-46d377bf085b",
   "metadata": {},
   "outputs": [
    {
     "name": "stdout",
     "output_type": "stream",
     "text": [
      "Label probs: [[0. 1. 0. 0.]]\n"
     ]
    }
   ],
   "source": [
    "import open_clip\n",
    "from open_clip import create_model_and_transforms, trace_model, get_tokenizer, create_loss\n",
    "from PIL import Image\n",
    "import torch\n",
    "import numpy as np\n",
    "\n",
    "model, _, preprocess = open_clip.create_model_and_transforms('RN50', pretrained='openai')\n",
    "tokenizer = open_clip.get_tokenizer('ViT-B-32')\n",
    "\n",
    "image = preprocess(Image.open(\"./images/text_image_dog_example.jpg\")).unsqueeze(0) # preprocess(Image.open(\"./data/UCM/imgs/1.tif\")).unsqueeze(0)\n",
    "text = tokenizer([\"a photo of a diagrams\", \"a photo of a dog or cat\", \"a photo of a cat and feline\", \"a photo of a fields\"])\n",
    "\n",
    "with torch.no_grad(), torch.cuda.amp.autocast():\n",
    "    image_features = model.encode_image(image)\n",
    "    text_features = model.encode_text(text)\n",
    "    image_features /= image_features.norm(dim=-1, keepdim=True)\n",
    "    text_features /= text_features.norm(dim=-1, keepdim=True)\n",
    "\n",
    "    text_probs = (100.0 * image_features @ text_features.T).softmax(dim=-1).numpy()\n",
    "\n",
    "print(\"Label probs:\", np.round(text_probs,2))  # prints: [[1., 0., 0.]]"
   ]
  },
  {
   "cell_type": "code",
   "execution_count": 2,
   "id": "c5eb2e45-a519-48f8-b98a-17420b764490",
   "metadata": {},
   "outputs": [
    {
     "data": {
      "text/plain": [
       "(torch.Size([4, 1024]), torch.Size([1, 1024]))"
      ]
     },
     "execution_count": 2,
     "metadata": {},
     "output_type": "execute_result"
    }
   ],
   "source": [
    "text_features.shape, image_features.shape"
   ]
  },
  {
   "cell_type": "code",
   "execution_count": null,
   "id": "5f73b45d-148c-4144-88fc-4110f3a9c645",
   "metadata": {},
   "outputs": [],
   "source": [
    "# Model names: \n",
    "# ['RN50', 'RN50-quickgelu', 'RN101', 'RN101-quickgelu', 'RN50x4', 'RN50x16', 'RN50x64', 'ViT-B-32', 'ViT-B-32-quickgelu', 'ViT-B-16', 'ViT-L-14', 'ViT-L-14-336']"
   ]
  }
 ],
 "metadata": {
  "kernelspec": {
   "display_name": "Python 3 (ipykernel)",
   "language": "python",
   "name": "python3"
  },
  "language_info": {
   "codemirror_mode": {
    "name": "ipython",
    "version": 3
   },
   "file_extension": ".py",
   "mimetype": "text/x-python",
   "name": "python",
   "nbconvert_exporter": "python",
   "pygments_lexer": "ipython3",
   "version": "3.10.12"
  }
 },
 "nbformat": 4,
 "nbformat_minor": 5
}
