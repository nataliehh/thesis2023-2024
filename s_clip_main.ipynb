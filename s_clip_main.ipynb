{
 "cells": [
  {
   "cell_type": "code",
   "execution_count": 1,
   "id": "9517c26a-cecc-4363-97d4-4538aeacb558",
   "metadata": {},
   "outputs": [],
   "source": [
    "import sys\n",
    "sys.path.append('/vol/tensusers5/nhollain/s_clip_scripts')\n",
    "\n",
    "import itertools\n",
    "from main import main, format_checkpoint\n",
    "from params import parse_args\n",
    "import copy\n",
    "\n",
    "def prep_str_args(str_args): # Code to parse the string style arguments, as shown below\n",
    "    str_args = str_args.split('\\n') # Split on newline\n",
    "    str_args = [s.strip() for s in str_args] # Remove any whitespaces from the start and end of the strings\n",
    "    # Split on the space between the parameter name and the value, e.g. '--name x' becomes ['--name', 'x']\n",
    "    str_args = [s.split(' ') for s in str_args] \n",
    "    str_args = list(itertools.chain(*str_args)) # Flatten the resulting list of lists\n",
    "    str_args = [s for s in str_args if len(s) > 0] # Remove arguments that are empty\n",
    "    return str_args\n",
    "    \n",
    "def evaluate(checkpoint):\n",
    "    checkpoint = checkpoint_path \n",
    "    if 'Fashion' in checkpoint:\n",
    "        zeroshot_datasets = [\"Fashion200k-SUBCLS\", \"Fashion200k-CLS\", \"FashionGen-CLS\", \"FashionGen-SUBCLS\", \"Polyvore-CLS\", ]\n",
    "        retrieval_datasets = [\"FashionGen\", \"Polyvore\", \"Fashion200k\",]\n",
    "    else:\n",
    "        zeroshot_datasets = [\"RSICD-CLS\", \"UCM-CLS\"] # \"WHU-RS19\", \"RSSCN7\", \"AID\" -> NOT WORKING bc of different data-loading workings\n",
    "        retrieval_datasets = [\"RSICD\", \"UCM\", \"Sydney\"]\n",
    "    \n",
    "    for dataset in zeroshot_datasets:\n",
    "        str_args = ['--name', checkpoint, '--imagenet-val', dataset]\n",
    "        args = parse_args(str_args)\n",
    "        main(args)\n",
    "    \n",
    "    for dataset in retrieval_datasets:\n",
    "        str_args = ['--name', checkpoint, '--val-data', dataset]\n",
    "        args = parse_args(str_args)\n",
    "        main(args)"
   ]
  },
  {
   "cell_type": "code",
   "execution_count": 2,
   "id": "a99e8109-1b98-4d55-96b6-ba9d06db445b",
   "metadata": {},
   "outputs": [
    {
     "data": {
      "text/plain": [
       "{'data_RS-ALL-ratio_0.1-model_RN50-method_base-kw_none-AL_False-PL_None-vit_False-epochs_5-lr_0.0005-bs_64': 180,\n",
       " 'data_RS-ALL-ratio_0.1-model_RN50-method_base-kw_none-AL_False-PL_None-vit_False-epochs_5-lr_0.0005-bs_128': 180,\n",
       " 'data_RS-ALL-ratio_0.1-model_RN50-method_base-kw_none-AL_False-PL_None-vit_False-epochs_5-lr_0.00005-bs_64': 180,\n",
       " 'data_RS-ALL-ratio_0.1-model_RN50-method_base-kw_none-AL_False-PL_None-vit_False-epochs_5-lr_0.00005-bs_128': 180,\n",
       " 'data_RS-ALL-ratio_0.1-model_RN50-method_base-kw_none-AL_False-PL_None-vit_False-epochs_5-lr_0.000005-bs_64': 180,\n",
       " 'data_RS-ALL-ratio_0.1-model_RN50-method_base-kw_none-AL_False-PL_None-vit_False-epochs_5-lr_0.000005-bs_128': 180,\n",
       " 'data_RS-ALL-ratio_0.1-model_RN50-method_base-kw_none-AL_False-PL_None-vit_False-epochs_15-lr_0.0005-bs_64': 180,\n",
       " 'data_RS-ALL-ratio_0.1-model_RN50-method_base-kw_none-AL_False-PL_None-vit_False-epochs_15-lr_0.0005-bs_128': 180,\n",
       " 'data_RS-ALL-ratio_0.1-model_RN50-method_base-kw_none-AL_False-PL_None-vit_False-epochs_15-lr_0.00005-bs_64': 180,\n",
       " 'data_RS-ALL-ratio_0.1-model_RN50-method_base-kw_none-AL_False-PL_None-vit_False-epochs_15-lr_0.00005-bs_128': 180,\n",
       " 'data_RS-ALL-ratio_0.1-model_RN50-method_base-kw_none-AL_False-PL_None-vit_False-epochs_15-lr_0.000005-bs_64': 180,\n",
       " 'data_RS-ALL-ratio_0.1-model_RN50-method_base-kw_none-AL_False-PL_None-vit_False-epochs_15-lr_0.000005-bs_128': 180,\n",
       " 'data_RS-ALL-ratio_0.1-model_RN50-method_base-kw_none-AL_False-PL_None-vit_False-epochs_25-lr_0.0005-bs_64': 180,\n",
       " 'data_RS-ALL-ratio_0.1-model_RN50-method_base-kw_none-AL_False-PL_None-vit_False-epochs_25-lr_0.0005-bs_128': 180,\n",
       " 'data_RS-ALL-ratio_0.1-model_RN50-method_base-kw_none-AL_False-PL_None-vit_False-epochs_25-lr_0.00005-bs_64': 180,\n",
       " 'data_RS-ALL-ratio_0.1-model_RN50-method_base-kw_none-AL_False-PL_None-vit_False-epochs_25-lr_0.00005-bs_128': 180,\n",
       " 'data_RS-ALL-ratio_0.1-model_RN50-method_base-kw_none-AL_False-PL_None-vit_False-epochs_25-lr_0.000005-bs_64': 180,\n",
       " 'data_RS-ALL-ratio_0.1-model_RN50-method_base-kw_none-AL_False-PL_None-vit_False-epochs_25-lr_0.000005-bs_128': 180,\n",
       " 'data_RS-ALL-ratio_0.1-model_RN50-method_base-kw_none-AL_False-PL_None-vit_False-epochs_35-lr_0.0005-bs_64': 180,\n",
       " 'data_RS-ALL-ratio_0.1-model_RN50-method_base-kw_none-AL_False-PL_None-vit_False-epochs_35-lr_0.0005-bs_128': 180,\n",
       " 'data_RS-ALL-ratio_0.1-model_RN50-method_base-kw_none-AL_False-PL_None-vit_False-epochs_35-lr_0.00005-bs_64': 180,\n",
       " 'data_RS-ALL-ratio_0.1-model_RN50-method_base-kw_none-AL_False-PL_None-vit_False-epochs_35-lr_0.00005-bs_128': 180,\n",
       " 'data_RS-ALL-ratio_0.1-model_RN50-method_base-kw_none-AL_False-PL_None-vit_False-epochs_35-lr_0.000005-bs_64': 180,\n",
       " 'data_RS-ALL-ratio_0.1-model_RN50-method_base-kw_none-AL_False-PL_None-vit_False-epochs_35-lr_0.000005-bs_128': 180}"
      ]
     },
     "execution_count": 2,
     "metadata": {},
     "output_type": "execute_result"
    }
   ],
   "source": [
    "from collections import Counter\n",
    "with open('./eval.txt', 'r') as f:\n",
    "    results = f.readlines()\n",
    "\n",
    "# Remove any non-result lines from the eval file, and split the lines on the tab character\n",
    "# (results have format: model_name\\tdataset_name\\tmetric_name\\tmetric_value)\n",
    "results = [r.replace('\\n','').split('\\t')[0] for r in results if '\\t' in r]\n",
    "model_names = results\n",
    "# Remove the timestamp from the model names, as well as the specific fold - rest of the name contains params\n",
    "model_names = ['-'.join(m.split('-')[2:]).split('-fold')[0] for m in model_names]\n",
    "model_names = dict(Counter(model_names))\n",
    "model_names"
   ]
  },
  {
   "cell_type": "markdown",
   "id": "3e6311e1-c938-434d-9d14-04385c1347b0",
   "metadata": {},
   "source": [
    "# Grid Search"
   ]
  },
  {
   "cell_type": "code",
   "execution_count": null,
   "id": "f405aaa0-49e5-47ad-9ec2-0dadb0ae4522",
   "metadata": {},
   "outputs": [
    {
     "name": "stdout",
     "output_type": "stream",
     "text": [
      "Number of configs: 7\n",
      "['--train-data', 'RS-ALL', '--label-ratio', '0.1', '--val-data', 'RS-ALL', '--imagenet-val', 'RSICD-CLS', '--keyword-path', 'keywords/RS/class-name.txt', '--zeroshot-frequency', '5', '--method', 'base', '--epochs', '5', '--lr', '5e-05', '--batch-size', '64']\n",
      "data_RS-ALL-ratio_0.1-model_RN50-method_base-kw_none-AL_False-PL_None-vit_False-epochs_5-lr_0.00005-bs_64\n",
      "Config number 0: 0 repeats\n",
      "['--train-data', 'RS-ALL', '--label-ratio', '0.1', '--val-data', 'RS-ALL', '--imagenet-val', 'RSICD-CLS', '--keyword-path', 'keywords/RS/class-name.txt', '--zeroshot-frequency', '5', '--method', 'base', '--epochs', '10', '--lr', '5e-05', '--batch-size', '64']\n",
      "data_RS-ALL-ratio_0.1-model_RN50-method_base-kw_none-AL_False-PL_None-vit_False-epochs_10-lr_0.00005-bs_64\n",
      "Config number 1: 9 repeats\n",
      "repeat number 0\n",
      "Args k fold (outside): 0\n",
      "formatting...\n",
      "kfold: 0\n",
      "Log path: ./checkpoint/2023_11_07-16_49_19-data_RS-ALL-ratio_0.1-model_RN50-method_base-kw_none-AL_False-PL_None-vit_False-epochs_10-lr_0.00005-bs_64-fold_0\n",
      "Getting data...\n",
      "RS-ALL (split: val)\n",
      "Using kfold split 0\n",
      "Using kfold split 0\n",
      "Using kfold split 0\n",
      "Sub-dataset sizes: [1092, 234, 62] (sum = 1388)\n",
      "RSICD-CLS (split: val)\n",
      "Using kfold split 0\n",
      "CLS size: 1092\n",
      "RS-ALL (split: train)\n",
      "Using kfold split 0\n",
      "Using kfold split 0\n",
      "Using kfold split 0\n",
      "Sub-dataset sizes: [8736, 1866, 493] (sum = 11095)\n",
      "Labeled size: 1109\n"
     ]
    },
    {
     "name": "stderr",
     "output_type": "stream",
     "text": [
      "100%|██████████████████████████████████████████████████████████████████████████████████████████████████████████████████████████████████████████████████████| 10/10 [03:05<00:00, 18.54s/it]\n"
     ]
    },
    {
     "name": "stdout",
     "output_type": "stream",
     "text": [
      "=> resuming checkpoint './checkpoint/2023_11_07-16_49_19-data_RS-ALL-ratio_0.1-model_RN50-method_base-kw_none-AL_False-PL_None-vit_False-epochs_10-lr_0.00005-bs_64-fold_0/checkpoints/epoch_latest.pt' (epoch 10)\n",
      "Getting data...\n",
      "RSICD-CLS (split: val)\n",
      "CLS size: 1094\n",
      "=> resuming checkpoint './checkpoint/2023_11_07-16_49_19-data_RS-ALL-ratio_0.1-model_RN50-method_base-kw_none-AL_False-PL_None-vit_False-epochs_10-lr_0.00005-bs_64-fold_0/checkpoints/epoch_latest.pt' (epoch 10)\n",
      "Getting data...\n",
      "UCM-CLS (split: val)\n",
      "CLS size: 210\n",
      "=> resuming checkpoint './checkpoint/2023_11_07-16_49_19-data_RS-ALL-ratio_0.1-model_RN50-method_base-kw_none-AL_False-PL_None-vit_False-epochs_10-lr_0.00005-bs_64-fold_0/checkpoints/epoch_latest.pt' (epoch 10)\n",
      "Getting data...\n",
      "RSICD (split: val)\n",
      "=> resuming checkpoint './checkpoint/2023_11_07-16_49_19-data_RS-ALL-ratio_0.1-model_RN50-method_base-kw_none-AL_False-PL_None-vit_False-epochs_10-lr_0.00005-bs_64-fold_0/checkpoints/epoch_latest.pt' (epoch 10)\n",
      "Getting data...\n",
      "UCM (split: val)\n",
      "=> resuming checkpoint './checkpoint/2023_11_07-16_49_19-data_RS-ALL-ratio_0.1-model_RN50-method_base-kw_none-AL_False-PL_None-vit_False-epochs_10-lr_0.00005-bs_64-fold_0/checkpoints/epoch_latest.pt' (epoch 10)\n",
      "Getting data...\n",
      "Sydney (split: val)\n",
      "repeat number 1\n",
      "Args k fold (outside): 1\n",
      "formatting...\n",
      "kfold: 1\n",
      "Log path: ./checkpoint/2023_11_07-16_53_01-data_RS-ALL-ratio_0.1-model_RN50-method_base-kw_none-AL_False-PL_None-vit_False-epochs_10-lr_0.00005-bs_64-fold_1\n",
      "Getting data...\n",
      "RS-ALL (split: val)\n",
      "Using kfold split 1\n",
      "Using kfold split 1\n",
      "Using kfold split 1\n",
      "Sub-dataset sizes: [1092, 234, 62] (sum = 1388)\n",
      "RSICD-CLS (split: val)\n",
      "Using kfold split 1\n",
      "CLS size: 1092\n",
      "RS-ALL (split: train)\n",
      "Using kfold split 1\n",
      "Using kfold split 1\n",
      "Using kfold split 1\n",
      "Sub-dataset sizes: [8736, 1866, 493] (sum = 11095)\n",
      "Labeled size: 1109\n"
     ]
    },
    {
     "name": "stderr",
     "output_type": "stream",
     "text": [
      "100%|██████████████████████████████████████████████████████████████████████████████████████████████████████████████████████████████████████████████████████| 10/10 [02:53<00:00, 17.32s/it]\n"
     ]
    },
    {
     "name": "stdout",
     "output_type": "stream",
     "text": [
      "=> resuming checkpoint './checkpoint/2023_11_07-16_53_01-data_RS-ALL-ratio_0.1-model_RN50-method_base-kw_none-AL_False-PL_None-vit_False-epochs_10-lr_0.00005-bs_64-fold_1/checkpoints/epoch_latest.pt' (epoch 10)\n",
      "Getting data...\n",
      "RSICD-CLS (split: val)\n",
      "CLS size: 1094\n",
      "=> resuming checkpoint './checkpoint/2023_11_07-16_53_01-data_RS-ALL-ratio_0.1-model_RN50-method_base-kw_none-AL_False-PL_None-vit_False-epochs_10-lr_0.00005-bs_64-fold_1/checkpoints/epoch_latest.pt' (epoch 10)\n",
      "Getting data...\n",
      "UCM-CLS (split: val)\n",
      "CLS size: 210\n",
      "=> resuming checkpoint './checkpoint/2023_11_07-16_53_01-data_RS-ALL-ratio_0.1-model_RN50-method_base-kw_none-AL_False-PL_None-vit_False-epochs_10-lr_0.00005-bs_64-fold_1/checkpoints/epoch_latest.pt' (epoch 10)\n",
      "Getting data...\n",
      "RSICD (split: val)\n",
      "=> resuming checkpoint './checkpoint/2023_11_07-16_53_01-data_RS-ALL-ratio_0.1-model_RN50-method_base-kw_none-AL_False-PL_None-vit_False-epochs_10-lr_0.00005-bs_64-fold_1/checkpoints/epoch_latest.pt' (epoch 10)\n",
      "Getting data...\n",
      "UCM (split: val)\n",
      "=> resuming checkpoint './checkpoint/2023_11_07-16_53_01-data_RS-ALL-ratio_0.1-model_RN50-method_base-kw_none-AL_False-PL_None-vit_False-epochs_10-lr_0.00005-bs_64-fold_1/checkpoints/epoch_latest.pt' (epoch 10)\n",
      "Getting data...\n",
      "Sydney (split: val)\n",
      "repeat number 2\n",
      "Args k fold (outside): 2\n",
      "formatting...\n",
      "kfold: 2\n",
      "Log path: ./checkpoint/2023_11_07-16_56_28-data_RS-ALL-ratio_0.1-model_RN50-method_base-kw_none-AL_False-PL_None-vit_False-epochs_10-lr_0.00005-bs_64-fold_2\n",
      "Getting data...\n",
      "RS-ALL (split: val)\n",
      "Using kfold split 2\n",
      "Using kfold split 2\n",
      "Using kfold split 2\n",
      "Sub-dataset sizes: [1092, 234, 62] (sum = 1388)\n",
      "RSICD-CLS (split: val)\n",
      "Using kfold split 2\n",
      "CLS size: 1092\n",
      "RS-ALL (split: train)\n",
      "Using kfold split 2\n",
      "Using kfold split 2\n",
      "Using kfold split 2\n",
      "Sub-dataset sizes: [8736, 1866, 493] (sum = 11095)\n",
      "Labeled size: 1109\n"
     ]
    },
    {
     "name": "stderr",
     "output_type": "stream",
     "text": [
      "100%|██████████████████████████████████████████████████████████████████████████████████████████████████████████████████████████████████████████████████████| 10/10 [02:54<00:00, 17.48s/it]\n"
     ]
    },
    {
     "name": "stdout",
     "output_type": "stream",
     "text": [
      "=> resuming checkpoint './checkpoint/2023_11_07-16_56_28-data_RS-ALL-ratio_0.1-model_RN50-method_base-kw_none-AL_False-PL_None-vit_False-epochs_10-lr_0.00005-bs_64-fold_2/checkpoints/epoch_latest.pt' (epoch 10)\n",
      "Getting data...\n",
      "RSICD-CLS (split: val)\n",
      "CLS size: 1094\n",
      "=> resuming checkpoint './checkpoint/2023_11_07-16_56_28-data_RS-ALL-ratio_0.1-model_RN50-method_base-kw_none-AL_False-PL_None-vit_False-epochs_10-lr_0.00005-bs_64-fold_2/checkpoints/epoch_latest.pt' (epoch 10)\n",
      "Getting data...\n",
      "UCM-CLS (split: val)\n",
      "CLS size: 210\n",
      "=> resuming checkpoint './checkpoint/2023_11_07-16_56_28-data_RS-ALL-ratio_0.1-model_RN50-method_base-kw_none-AL_False-PL_None-vit_False-epochs_10-lr_0.00005-bs_64-fold_2/checkpoints/epoch_latest.pt' (epoch 10)\n",
      "Getting data...\n",
      "RSICD (split: val)\n"
     ]
    }
   ],
   "source": [
    "# %%time\n",
    "# Do a grid search on the parameters\n",
    "base_str_args = ''' --train-data RS-ALL\n",
    "--label-ratio 0.1\n",
    "--val-data RS-ALL\n",
    "--imagenet-val RSICD-CLS \n",
    "--keyword-path keywords/RS/class-name.txt\n",
    "--zeroshot-frequency 5  \n",
    "--method base\n",
    "'''\n",
    "\n",
    "# Dictionary of values to gridsearch for hyperparam tuning\n",
    "gridsearch_dict = {\n",
    "    '--epochs' : [5,10,15,20,25,30,35],\n",
    "    '--lr' : [5e-5,], # 5e-4, 5e-6\n",
    "    '--batch-size' : [64] #,128,256],\n",
    "}\n",
    "num_repeats = 9\n",
    "num_evals = 20 # How many evaluations are done with evaluate(...)\n",
    "\n",
    "gridsearch_values = list(gridsearch_dict.values())\n",
    "gridsearch_keys = list(gridsearch_dict.keys())\n",
    "configs = list(itertools.product(*gridsearch_values))\n",
    "print('Number of configs:', len(configs))\n",
    "\n",
    "for c, config in enumerate(configs): # Gridsearch\n",
    "    str_args = copy.deepcopy(base_str_args)\n",
    "    for i, param in enumerate(config):\n",
    "        param_name = gridsearch_keys[i]\n",
    "        str_args += '\\n{} {}'.format(param_name, param)\n",
    "        \n",
    "    str_args = prep_str_args(str_args)\n",
    "    print(str_args)\n",
    "    args = parse_args(str_args)\n",
    "    checkpoint_hypothetical = format_checkpoint(args)\n",
    "    # Remove the timestamp from the hypothetical checkpoint, so we can compare to the params of other checkpoints\n",
    "    checkpoint_params = '-'.join(checkpoint_hypothetical.split('-')[2:]).split('-fold')[0]\n",
    "    print(checkpoint_params)\n",
    "    # Check if we've already trained the exact same model, correct the number of training iterations we still need to do\n",
    "    if checkpoint_params in model_names:\n",
    "        # The number of times to repeat depends on how often the model's been evaluated already\n",
    "        start_repeat = int(model_names[checkpoint_params]/num_evals)\n",
    "    else: # If we've never trained + evaluated the model before, just use num_repeats\n",
    "        start_repeat = 0\n",
    "    print('Config number {}: {} repeats'.format(c, num_repeats-start_repeat))\n",
    "    for i in range(start_repeat, num_repeats):\n",
    "        print('repeat number', i) \n",
    "        args = parse_args(str_args)\n",
    "        args.k_fold = i\n",
    "        print('Args k fold (outside):' , args.k_fold)\n",
    "        checkpoint_path = main(args) # Calls the main.py function of S-CLIP\n",
    "        evaluate(checkpoint_path)"
   ]
  },
  {
   "cell_type": "markdown",
   "id": "63c4b79f-34b8-43ce-b5a0-e4cd20d58d28",
   "metadata": {},
   "source": [
    "# Training"
   ]
  },
  {
   "cell_type": "code",
   "execution_count": 4,
   "id": "21839599-a8c4-4936-8122-039e0b063b63",
   "metadata": {},
   "outputs": [],
   "source": [
    "fashion = False\n",
    "\n",
    "if fashion:\n",
    "    str_args = '''--train-data Fashion-ALL\n",
    "            --label-ratio 0.1\n",
    "            --val-data Fashion-ALL\n",
    "            --keyword-path keywords/fashion/class-name.txt\n",
    "            --epochs 10\n",
    "            --method base  \n",
    "    '''\n",
    "else:\n",
    "    str_args = ''' --train-data RS-ALL\n",
    "            --label-ratio 0.1\n",
    "            --val-data RS-ALL\n",
    "            --imagenet-val RSICD-CLS \\\n",
    "            --keyword-path keywords/RS/class-name.txt\n",
    "            --epochs 25\n",
    "            --lr 5e-5\n",
    "            --zeroshot-frequency 5  \n",
    "            --method base\n",
    "    '''\n",
    "           # --active-learning\n",
    "        # --al-iter 3\n",
    "\n",
    "# Convert string arguments to a format that can be parsed by parse_args             \n",
    "str_args = prep_str_args(str_args)\n",
    "args = parse_args(str_args)"
   ]
  },
  {
   "cell_type": "code",
   "execution_count": null,
   "id": "451e9538-7246-4ed0-986f-42336bf8b6df",
   "metadata": {},
   "outputs": [],
   "source": [
    "%%time\n",
    "checkpoint_path = main(args)"
   ]
  },
  {
   "cell_type": "markdown",
   "id": "f9e5d79c-3fbb-4e0b-996a-5c2556d12122",
   "metadata": {},
   "source": [
    "# Eval"
   ]
  },
  {
   "cell_type": "code",
   "execution_count": null,
   "id": "e1218276-2fe6-40ec-a825-31cc54c0027c",
   "metadata": {},
   "outputs": [],
   "source": [
    "%%time\n",
    "evaluate(checkpoint_path)"
   ]
  },
  {
   "cell_type": "code",
   "execution_count": null,
   "id": "bff853d9-f270-4443-9e6f-a98def1b60e1",
   "metadata": {},
   "outputs": [],
   "source": []
  }
 ],
 "metadata": {
  "kernelspec": {
   "display_name": "Python 3 (ipykernel)",
   "language": "python",
   "name": "python3"
  },
  "language_info": {
   "codemirror_mode": {
    "name": "ipython",
    "version": 3
   },
   "file_extension": ".py",
   "mimetype": "text/x-python",
   "name": "python",
   "nbconvert_exporter": "python",
   "pygments_lexer": "ipython3",
   "version": "3.10.12"
  }
 },
 "nbformat": 4,
 "nbformat_minor": 5
}
