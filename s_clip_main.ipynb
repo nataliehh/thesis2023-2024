{
 "cells": [
  {
   "cell_type": "code",
   "execution_count": 1,
   "id": "9517c26a-cecc-4363-97d4-4538aeacb558",
   "metadata": {},
   "outputs": [
    {
     "name": "stderr",
     "output_type": "stream",
     "text": [
      "[nltk_data] Downloading package punkt to /home/nhollain/nltk_data...\n",
      "[nltk_data]   Package punkt is already up-to-date!\n",
      "[nltk_data] Downloading package averaged_perceptron_tagger to\n",
      "[nltk_data]     /home/nhollain/nltk_data...\n",
      "[nltk_data]   Package averaged_perceptron_tagger is already up-to-\n",
      "[nltk_data]       date!\n"
     ]
    }
   ],
   "source": [
    "import sys\n",
    "sys.path.append('/vol/tensusers4/nhollain/thesis2023-2024/s_clip_scripts')\n",
    "\n",
    "import itertools\n",
    "from main import main, format_checkpoint\n",
    "from params import parse_args\n",
    "import copy\n",
    "import os\n",
    "from tqdm import tqdm\n",
    "from tuning_tools import prep_str_args, evaluate_checkpoint    "
   ]
  },
  {
   "cell_type": "code",
   "execution_count": 2,
   "id": "4fadeac9",
   "metadata": {},
   "outputs": [
    {
     "name": "stdout",
     "output_type": "stream",
     "text": [
      "CPU times: user 8 µs, sys: 1 µs, total: 9 µs\n",
      "Wall time: 19.1 µs\n"
     ]
    }
   ],
   "source": [
    "%%time\n",
    "# To evaluate CLIP without fine-tuning it! Set to False to skip\n",
    "evaluate_baseline = False\n",
    "if evaluate_baseline:\n",
    "    evaluate_checkpoint(checkpoint_path = None, epoch = 0, split = 'test')"
   ]
  },
  {
   "cell_type": "code",
   "execution_count": 3,
   "id": "a99e8109-1b98-4d55-96b6-ba9d06db445b",
   "metadata": {},
   "outputs": [],
   "source": [
    "from collections import Counter\n",
    "\n",
    "results = []\n",
    "if os.path.exists('./eval.txt'):   \n",
    "    with open('./eval.txt', 'r') as f:\n",
    "        results = f.readlines()\n",
    "\n",
    "# Remove any non-result lines from the eval file, and split the lines on the tab character\n",
    "# (results have format: model_name\\tdataset_name\\tmetric_name\\tmetric_value)\n",
    "results = [r.replace('\\n','').split('\\t')[0] for r in results if '\\t' in r]\n",
    "model_names = results\n",
    "# Remove the timestamp from the model names, as well as the specific fold - rest of the name contains params\n",
    "model_names = ['-'.join(m.split('-')[2:]).split('-fold')[0] for m in model_names]\n",
    "model_names = dict(Counter(model_names))\n",
    "# Show which models are already present in eval.txt\n",
    "# model_names"
   ]
  },
  {
   "cell_type": "markdown",
   "id": "3e6311e1-c938-434d-9d14-04385c1347b0",
   "metadata": {},
   "source": [
    "# Grid Search"
   ]
  },
  {
   "cell_type": "code",
   "execution_count": 7,
   "id": "ae7eaa23-316d-4c09-847e-bdd9c30550a8",
   "metadata": {},
   "outputs": [
    {
     "name": "stdout",
     "output_type": "stream",
     "text": [
      "Number of configs: 1\n"
     ]
    }
   ],
   "source": [
    "# Do a grid search on the parameters\n",
    "# NOTE: for active learning, save-freq should be set to 1\n",
    "base_str_args = ''' --train-data RS.ALL\n",
    "--val-data RS.ALL\n",
    "--imagenet-val RSICD-CLS \n",
    "--keyword-path keywords/RS/class-name.txt\n",
    "--zeroshot-frequency 5  \n",
    "--method base\n",
    "--lr 5e-5\n",
    "--save-freq 1\n",
    "'''\n",
    "# --label-ratio 0.1\n",
    "# --active-learning\n",
    "\n",
    "# Dictionary of values to gridsearch for hyperparam tuning\n",
    "gridsearch_dict = {\n",
    "    '--epochs' : [25], #list(range(15,36,5)) if 'active-learning' in base_str_args else [35], #[10,15,20,25,30,35],\n",
    "    '--batch-size' : [64],\n",
    "#     '--al-iter': [1], #list(range(3,17,2)), #list(range(1,6,2)),\n",
    "#     '--al-epochs': [35],\n",
    "    '--label-ratio': [1.0], # 0.05, 0.1, 0.2, 0.4, 0.8,\n",
    "#     '--pl-method': ['hard.text'],\n",
    "}\n",
    "\n",
    "\n",
    "split = 'test'\n",
    "# The number of validation repetitions is very specifically chosen because we have 9 folds for the datasets!\n",
    "num_repeats = 5 if 'test' else 9\n",
    "num_evals = 20 # How many evaluations are done with evaluate(...) - KEEP THIS FIXED\n",
    "\n",
    "gridsearch_values = list(gridsearch_dict.values())\n",
    "gridsearch_keys = list(gridsearch_dict.keys())\n",
    "configs = list(itertools.product(*gridsearch_values))\n",
    "print('Number of configs:', len(configs))"
   ]
  },
  {
   "cell_type": "code",
   "execution_count": 8,
   "id": "f405aaa0-49e5-47ad-9ec2-0dadb0ae4522",
   "metadata": {},
   "outputs": [
    {
     "name": "stdout",
     "output_type": "stream",
     "text": [
      "['--train-data', 'RS.ALL', '--val-data', 'RS.ALL', '--imagenet-val', 'RSICD-CLS', '--keyword-path', 'keywords/RS/class-name.txt', '--zeroshot-frequency', '5', '--method', 'base', '--lr', '5e-5', '--save-freq', '1', '--epochs', '25', '--batch-size', '64', '--label-ratio', '1.0']\n",
      "Config number 0: 5 repeats\n"
     ]
    },
    {
     "name": "stderr",
     "output_type": "stream",
     "text": [
      "100%|███████████████████████████████████████████████████████████████████████████████████████████████████████████████████████████████████████████████████| 25/25 [4:00:25<00:00, 577.01s/it]\n"
     ]
    },
    {
     "ename": "NameError",
     "evalue": "name 'evaluate' is not defined",
     "output_type": "error",
     "traceback": [
      "\u001b[0;31m---------------------------------------------------------------------------\u001b[0m",
      "\u001b[0;31mNameError\u001b[0m                                 Traceback (most recent call last)",
      "File \u001b[0;32m<timed exec>:33\u001b[0m, in \u001b[0;36m<module>\u001b[0;34m\u001b[0m\n",
      "\u001b[0;31mNameError\u001b[0m: name 'evaluate' is not defined"
     ]
    }
   ],
   "source": [
    "%%time\n",
    "for c, config in enumerate(configs): # Gridsearch\n",
    "    str_args = copy.deepcopy(base_str_args)\n",
    "    # Add the gridsearch parameters to the arguments\n",
    "    for i, param in enumerate(config):\n",
    "        param_name = gridsearch_keys[i]\n",
    "        str_args += '\\n{} {}'.format(param_name, param)\n",
    "        \n",
    "    str_args = prep_str_args(str_args)\n",
    "    print(str_args)\n",
    "    args = parse_args(str_args)\n",
    "    checkpoint_hypothetical = format_checkpoint(args)\n",
    "    # Remove the timestamp from the hypothetical checkpoint, so we can compare to the params of other checkpoints\n",
    "    checkpoint_params = '-'.join(checkpoint_hypothetical.split('-')[2:]).split('-fold')[0]\n",
    "\n",
    "    # Check if we've already trained the exact same model, correct the number of training iterations we still need to do\n",
    "    if checkpoint_params in model_names:\n",
    "        # The number of times to repeat depends on how often the model's been evaluated already\n",
    "        start_repeat = int(model_names[checkpoint_params]/num_evals)\n",
    "    else: # If we've never trained + evaluated the model before, just use num_repeats\n",
    "        start_repeat = 0\n",
    "    print('Config number {}: {} repeats'.format(c, max(0,num_repeats-start_repeat)))\n",
    "    for i in range(start_repeat, num_repeats):\n",
    "        # print('repeat number', i) \n",
    "        args = parse_args(str_args)\n",
    "        args.k_fold = i\n",
    "        # We compute here for which epochs we need to evaluate (based on for which epochs we checkpoint)\n",
    "        epoch_freq = args.save_freq\n",
    "        epochs = list(range(epoch_freq,args.epochs+1,epoch_freq))\n",
    "        # print('Epochs to checkpoint', epochs)\n",
    "        # print('Args k fold (outside):' , args.k_fold)\n",
    "        checkpoint_path = main(args) # Calls the main.py function of S-CLIP\n",
    "        for epoch in epochs:\n",
    "            evaluate(checkpoint_path, epoch = epoch, kfold = i, split = split)\n",
    "        # Remove the checkpoint after evaluating, to save space\n",
    "        os.system(\"rm -r {}\".format(checkpoint_path))  "
   ]
  },
  {
   "cell_type": "markdown",
   "id": "63c4b79f-34b8-43ce-b5a0-e4cd20d58d28",
   "metadata": {},
   "source": [
    "# Training"
   ]
  },
  {
   "cell_type": "code",
   "execution_count": null,
   "id": "21839599-a8c4-4936-8122-039e0b063b63",
   "metadata": {},
   "outputs": [],
   "source": [
    "fashion = False\n",
    "\n",
    "if fashion:\n",
    "    str_args = '''--train-data Fashion-ALL\n",
    "            --label-ratio 0.1\n",
    "            --val-data Fashion-ALL\n",
    "            --keyword-path keywords/fashion/class-name.txt\n",
    "            --epochs 10\n",
    "            --method base  \n",
    "    '''\n",
    "else:\n",
    "    str_args = ''' --train-data RS-ALL\n",
    "            --label-ratio 0.1\n",
    "            --val-data RS-ALL\n",
    "            --imagenet-val RSICD-CLS \\\n",
    "            --keyword-path keywords/RS/class-name.txt\n",
    "            --epochs 5\n",
    "            --lr 5e-5\n",
    "            --zeroshot-frequency 5  \n",
    "            --method base\n",
    "            --active-learning\n",
    "            --al-iter 3\n",
    "    '''\n",
    "           # --active-learning\n",
    "        # --al-iter 3\n",
    "\n",
    "# Convert string arguments to a format that can be parsed by parse_args             \n",
    "str_args = prep_str_args(str_args)\n",
    "args = parse_args(str_args)"
   ]
  },
  {
   "cell_type": "code",
   "execution_count": null,
   "id": "451e9538-7246-4ed0-986f-42336bf8b6df",
   "metadata": {},
   "outputs": [],
   "source": [
    "%%time\n",
    "# checkpoint_path = main(args)"
   ]
  },
  {
   "cell_type": "markdown",
   "id": "f9e5d79c-3fbb-4e0b-996a-5c2556d12122",
   "metadata": {},
   "source": [
    "# Eval"
   ]
  },
  {
   "cell_type": "code",
   "execution_count": null,
   "id": "e1218276-2fe6-40ec-a825-31cc54c0027c",
   "metadata": {},
   "outputs": [],
   "source": [
    "%%time\n",
    "# evaluate(checkpoint_path)"
   ]
  },
  {
   "cell_type": "code",
   "execution_count": null,
   "id": "bff853d9-f270-4443-9e6f-a98def1b60e1",
   "metadata": {},
   "outputs": [],
   "source": []
  }
 ],
 "metadata": {
  "kernelspec": {
   "display_name": "Python 3 (ipykernel)",
   "language": "python",
   "name": "python3"
  },
  "language_info": {
   "codemirror_mode": {
    "name": "ipython",
    "version": 3
   },
   "file_extension": ".py",
   "mimetype": "text/x-python",
   "name": "python",
   "nbconvert_exporter": "python",
   "pygments_lexer": "ipython3",
   "version": "3.11.7"
  }
 },
 "nbformat": 4,
 "nbformat_minor": 5
}
