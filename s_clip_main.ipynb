{
 "cells": [
  {
   "cell_type": "code",
   "execution_count": 1,
   "id": "b9a91316-40b3-4026-9998-aaf594efc658",
   "metadata": {},
   "outputs": [],
   "source": [
    "# import subprocess\n",
    "# subprocess.call(['sh', './train.sh'])"
   ]
  },
  {
   "cell_type": "code",
   "execution_count": 2,
   "id": "9517c26a-cecc-4363-97d4-4538aeacb558",
   "metadata": {},
   "outputs": [],
   "source": [
    "from itertools import chain\n",
    "from s_clip_scripts.main import main\n",
    "from s_clip_scripts.params import parse_args\n",
    "\n",
    "str_args = '''--model RN50 \n",
    "        --pretrained openai \n",
    "        --train-data Fashion-ALL\n",
    "        --label-ratio 0.1\n",
    "        --val-data Fashion-ALL\n",
    "        --keyword-path keywords/RS/class-name.txt\n",
    "        --lr 5e-5 \n",
    "        --batch-size 64 \n",
    "        --warmup 10 \n",
    "        --epochs 25 \n",
    "        --zeroshot-frequency 5 \n",
    "        --precision amp \n",
    "        --method base \n",
    "        --seed 0 \n",
    "'''\n",
    "str_args = str_args.split('\\n')\n",
    "str_args = [s.strip() for s in str_args]\n",
    "str_args = [s.split(' ') for s in str_args]\n",
    "str_args = list(chain(*str_args))\n",
    "str_args = [s for s in str_args if len(s) > 0]\n",
    "args = parse_args(str_args)"
   ]
  },
  {
   "cell_type": "code",
   "execution_count": null,
   "id": "451e9538-7246-4ed0-986f-42336bf8b6df",
   "metadata": {},
   "outputs": [],
   "source": [
    "%%time\n",
    "main(args) # Calls the main.py function of S-CLIP"
   ]
  }
 ],
 "metadata": {
  "kernelspec": {
   "display_name": "Python 3 (ipykernel)",
   "language": "python",
   "name": "python3"
  },
  "language_info": {
   "codemirror_mode": {
    "name": "ipython",
    "version": 3
   },
   "file_extension": ".py",
   "mimetype": "text/x-python",
   "name": "python",
   "nbconvert_exporter": "python",
   "pygments_lexer": "ipython3",
   "version": "3.10.12"
  }
 },
 "nbformat": 4,
 "nbformat_minor": 5
}
