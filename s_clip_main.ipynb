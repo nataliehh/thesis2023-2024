{
 "cells": [
  {
   "cell_type": "code",
   "execution_count": 1,
   "id": "b9a91316-40b3-4026-9998-aaf594efc658",
   "metadata": {},
   "outputs": [],
   "source": [
    "# import subprocess\n",
    "# subprocess.call(['sh', './train.sh'])"
   ]
  },
  {
   "cell_type": "markdown",
   "id": "63c4b79f-34b8-43ce-b5a0-e4cd20d58d28",
   "metadata": {},
   "source": [
    "# Training"
   ]
  },
  {
   "cell_type": "code",
   "execution_count": 2,
   "id": "9517c26a-cecc-4363-97d4-4538aeacb558",
   "metadata": {},
   "outputs": [],
   "source": [
    "from itertools import chain\n",
    "from s_clip_scripts.main import main\n",
    "from s_clip_scripts.params import parse_args\n",
    "\n",
    "fashion = False\n",
    "\n",
    "if fashion:\n",
    "    str_args = '''--model RN50 \n",
    "            --pretrained openai \n",
    "            --train-data Fashion-ALL\n",
    "            --label-ratio 0.1\n",
    "            --val-data Fashion-ALL\n",
    "            --keyword-path keywords/fashion/class-name.txt\n",
    "            --lr 5e-5 \n",
    "            --batch-size 64 \n",
    "            --warmup 10 \n",
    "            --epochs 10\n",
    "            --precision amp \n",
    "            --method base \n",
    "            --seed 0 \n",
    "    '''\n",
    "else:\n",
    "    str_args = '''--model RN50 \n",
    "            --pretrained openai \n",
    "            --train-data RS-ALL\n",
    "            --label-ratio 0.1\n",
    "            --val-data RS-ALL\n",
    "            --imagenet-val RSICD-CLS \\\n",
    "            --keyword-path keywords/RS/class-name.txt\n",
    "            --lr 5e-5 \n",
    "            --batch-size 64 \n",
    "            --warmup 10 \n",
    "            --epochs 25\n",
    "            --zeroshot-frequency 5 \n",
    "            --precision amp \n",
    "            --method base \n",
    "            --seed 0 \n",
    "    '''\n",
    "str_args = str_args.split('\\n')\n",
    "str_args = [s.strip() for s in str_args]\n",
    "str_args = [s.split(' ') for s in str_args]\n",
    "str_args = list(chain(*str_args))\n",
    "str_args = [s for s in str_args if len(s) > 0]\n",
    "args = parse_args(str_args)"
   ]
  },
  {
   "cell_type": "code",
   "execution_count": 3,
   "id": "451e9538-7246-4ed0-986f-42336bf8b6df",
   "metadata": {},
   "outputs": [
    {
     "name": "stdout",
     "output_type": "stream",
     "text": [
      "Making log path: 2023_10_13-16_00_21-data_RS-ALL-ratio_0.1-model_RN50-method_base-keyword_none\n",
      "Running with a single process on device cuda:0.\n",
      "Getting data...\n",
      "RS-ALL\n"
     ]
    },
    {
     "name": "stderr",
     "output_type": "stream",
     "text": [
      "100%|██████████████████████████████████████████████████████████████████████████████████████████████████████████████████████████████████████████████████| 1344/1344 [01:17<00:00, 17.27it/s]\n"
     ]
    },
    {
     "name": "stdout",
     "output_type": "stream",
     "text": [
      "cosine time: 103.95272016525269\n",
      "(10752,)\n",
      "RS-ALL\n",
      "RSICD-CLS\n",
      "['Airport', 'BareLand', 'BaseballField', 'Beach', 'Bridge', 'Center', 'Church', 'Commercial', 'DenseResidential', 'Desert', 'Farmland', 'Forest', 'Industrial', 'Meadow', 'MediumResidential', 'Mountain', 'Park', 'Parking', 'Playground', 'Pond', 'Port', 'RailwayStation', 'Resort', 'River', 'School', 'SparseResidential', 'Square', 'Stadium', 'StorageTanks', 'Viaduct', 'playfields']\n",
      "Data got.\n",
      "Start epoch 0\n",
      "Done training.\n",
      "Done evaluating.\n",
      "Start epoch 1\n",
      "Done training.\n",
      "Done evaluating.\n",
      "Start epoch 2\n",
      "Done training.\n",
      "Done evaluating.\n",
      "Start epoch 3\n",
      "Done training.\n",
      "Done evaluating.\n",
      "Start epoch 4\n",
      "Done training.\n",
      "Done evaluating.\n",
      "Start epoch 5\n",
      "Done training.\n",
      "Done evaluating.\n",
      "Start epoch 6\n",
      "Done training.\n",
      "Done evaluating.\n",
      "Start epoch 7\n",
      "Done training.\n",
      "Done evaluating.\n",
      "Start epoch 8\n",
      "Done training.\n",
      "Done evaluating.\n",
      "Start epoch 9\n",
      "Done training.\n",
      "Done evaluating.\n",
      "Start epoch 10\n",
      "Done training.\n",
      "Done evaluating.\n",
      "Start epoch 11\n",
      "Done training.\n",
      "Done evaluating.\n",
      "Start epoch 12\n",
      "Done training.\n",
      "Done evaluating.\n",
      "Start epoch 13\n",
      "Done training.\n",
      "Done evaluating.\n",
      "Start epoch 14\n",
      "Done training.\n",
      "Done evaluating.\n",
      "Start epoch 15\n",
      "Done training.\n",
      "Done evaluating.\n",
      "Start epoch 16\n",
      "Done training.\n",
      "Done evaluating.\n",
      "Start epoch 17\n",
      "Done training.\n",
      "Done evaluating.\n",
      "Start epoch 18\n",
      "Done training.\n",
      "Done evaluating.\n",
      "Start epoch 19\n",
      "Done training.\n",
      "Done evaluating.\n",
      "Start epoch 20\n",
      "Done training.\n",
      "Done evaluating.\n",
      "Start epoch 21\n",
      "Done training.\n",
      "Done evaluating.\n",
      "Start epoch 22\n",
      "Done training.\n",
      "Done evaluating.\n",
      "Start epoch 23\n",
      "Done training.\n",
      "Done evaluating.\n",
      "Start epoch 24\n",
      "Done training.\n",
      "Done evaluating.\n",
      "CPU times: user 41min 59s, sys: 26.6 s, total: 42min 26s\n",
      "Wall time: 7min 19s\n"
     ]
    }
   ],
   "source": [
    "%%time\n",
    "main(args) # Calls the main.py function of S-CLIP"
   ]
  },
  {
   "cell_type": "markdown",
   "id": "f9e5d79c-3fbb-4e0b-996a-5c2556d12122",
   "metadata": {},
   "source": [
    "# Eval"
   ]
  },
  {
   "cell_type": "code",
   "execution_count": 4,
   "id": "e1218276-2fe6-40ec-a825-31cc54c0027c",
   "metadata": {},
   "outputs": [
    {
     "name": "stdout",
     "output_type": "stream",
     "text": [
      "Running with a single process on device cuda:0.\n",
      "=> resuming checkpoint '2023_10_13-16_00_21-data_RS-ALL-ratio_0.1-model_RN50-method_base-keyword_none/checkpoints/epoch_latest.pt' (epoch 25)\n",
      "Getting data...\n",
      "RSICD-CLS\n",
      "['Airport', 'BareLand', 'BaseballField', 'Beach', 'Bridge', 'Center', 'Church', 'Commercial', 'DenseResidential', 'Desert', 'Farmland', 'Forest', 'Industrial', 'Meadow', 'MediumResidential', 'Mountain', 'Park', 'Parking', 'Playground', 'Pond', 'Port', 'RailwayStation', 'Resort', 'River', 'School', 'SparseResidential', 'Square', 'Stadium', 'StorageTanks', 'Viaduct', 'playfields']\n",
      "Data got.\n"
     ]
    },
    {
     "name": "stderr",
     "output_type": "stream",
     "text": [
      "100%|██████████████████████████████████████████████████████████████████████████████████████████████████████████████████████████████████████████████████████| 31/31 [00:00<00:00, 63.55it/s]\n",
      "100%|█████████████████████████████████████████████████████████████████████████████████████████████████████████████████████████████████████████████████| 1152/1152 [00:04<00:00, 271.72it/s]\n"
     ]
    },
    {
     "name": "stdout",
     "output_type": "stream",
     "text": [
      "Running with a single process on device cuda:0.\n",
      "=> resuming checkpoint '2023_10_13-16_00_21-data_RS-ALL-ratio_0.1-model_RN50-method_base-keyword_none/checkpoints/epoch_latest.pt' (epoch 25)\n",
      "Getting data...\n",
      "UCM-CLS\n",
      "['agricultural', 'airplane', 'baseballdiamond', 'beach', 'buildings', 'chaparral', 'denseresidential', 'forest', 'freeway', 'golfcourse', 'harbor', 'intersection', 'mediumresidential', 'mobilehomepark', 'overpass', 'parkinglot', 'river', 'runway', 'sparseresidential', 'storagetanks', 'tenniscourt']\n",
      "Data got.\n"
     ]
    },
    {
     "name": "stderr",
     "output_type": "stream",
     "text": [
      "100%|██████████████████████████████████████████████████████████████████████████████████████████████████████████████████████████████████████████████████████| 21/21 [00:00<00:00, 76.14it/s]\n",
      "100%|█████████████████████████████████████████████████████████████████████████████████████████████████████████████████████████████████████████████████| 2112/2112 [00:11<00:00, 182.65it/s]\n"
     ]
    },
    {
     "name": "stdout",
     "output_type": "stream",
     "text": [
      "Running with a single process on device cuda:0.\n",
      "=> resuming checkpoint '2023_10_13-16_00_21-data_RS-ALL-ratio_0.1-model_RN50-method_base-keyword_none/checkpoints/epoch_latest.pt' (epoch 25)\n",
      "Getting data...\n",
      "RSICD\n",
      "Data got.\n",
      "Running with a single process on device cuda:0.\n",
      "=> resuming checkpoint '2023_10_13-16_00_21-data_RS-ALL-ratio_0.1-model_RN50-method_base-keyword_none/checkpoints/epoch_latest.pt' (epoch 25)\n",
      "Getting data...\n",
      "UCM\n",
      "Data got.\n",
      "Running with a single process on device cuda:0.\n",
      "=> resuming checkpoint '2023_10_13-16_00_21-data_RS-ALL-ratio_0.1-model_RN50-method_base-keyword_none/checkpoints/epoch_latest.pt' (epoch 25)\n",
      "Getting data...\n",
      "Sydney\n",
      "Data got.\n",
      "CPU times: user 22.9 s, sys: 7.44 s, total: 30.4 s\n",
      "Wall time: 54.2 s\n"
     ]
    }
   ],
   "source": [
    "%%time\n",
    "checkpoint = '2023_10_13-16_00_21-data_RS-ALL-ratio_0.1-model_RN50-method_base-keyword_none'\n",
    "if 'Fashion' in checkpoint:\n",
    "    zeroshot_datasets = [\"Fashion200k-SUBCLS\", \"Fashion200k-CLS\", \"FashionGen-CLS\", \"FashionGen-SUBCLS\", \"Polyvore-CLS\", ]\n",
    "    retrieval_datasets = [\"FashionGen\", \"Polyvore\", \"Fashion200k\",]\n",
    "else:\n",
    "    zeroshot_datasets = [\"RSICD-CLS\", \"UCM-CLS\"] # \"WHU-RS19\", \"RSSCN7\", \"AID\" -> NOT WORKING bc of different data-loading workings\n",
    "    retrieval_datasets = [\"RSICD\", \"UCM\", \"Sydney\"]\n",
    "\n",
    "for dataset in zeroshot_datasets:\n",
    "    str_args = ['--name', checkpoint, '--imagenet-val', dataset]\n",
    "    args = parse_args(str_args)\n",
    "    main(args)\n",
    "\n",
    "for dataset in retrieval_datasets:\n",
    "    str_args = ['--name', checkpoint, '--val-data', dataset]\n",
    "    args = parse_args(str_args)\n",
    "    main(args)"
   ]
  },
  {
   "cell_type": "code",
   "execution_count": null,
   "id": "bff853d9-f270-4443-9e6f-a98def1b60e1",
   "metadata": {},
   "outputs": [],
   "source": []
  }
 ],
 "metadata": {
  "kernelspec": {
   "display_name": "Python 3 (ipykernel)",
   "language": "python",
   "name": "python3"
  },
  "language_info": {
   "codemirror_mode": {
    "name": "ipython",
    "version": 3
   },
   "file_extension": ".py",
   "mimetype": "text/x-python",
   "name": "python",
   "nbconvert_exporter": "python",
   "pygments_lexer": "ipython3",
   "version": "3.10.12"
  }
 },
 "nbformat": 4,
 "nbformat_minor": 5
}
