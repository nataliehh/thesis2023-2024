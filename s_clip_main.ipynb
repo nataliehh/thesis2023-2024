{
 "cells": [
  {
   "cell_type": "markdown",
   "id": "63c4b79f-34b8-43ce-b5a0-e4cd20d58d28",
   "metadata": {},
   "source": [
    "# Training"
   ]
  },
  {
   "cell_type": "code",
   "execution_count": 1,
   "id": "9517c26a-cecc-4363-97d4-4538aeacb558",
   "metadata": {},
   "outputs": [],
   "source": [
    "import sys\n",
    "sys.path.append('/vol/tensusers5/nhollain/s_clip_scripts')\n",
    "\n",
    "from itertools import chain\n",
    "from main import main\n",
    "from params import parse_args\n",
    "\n",
    "fashion = False\n",
    "\n",
    "if fashion:\n",
    "    str_args = '''--train-data Fashion-ALL\n",
    "            --label-ratio 0.1\n",
    "            --val-data Fashion-ALL\n",
    "            --keyword-path keywords/fashion/class-name.txt\n",
    "            --epochs 10\n",
    "            --method base  \n",
    "    '''\n",
    "else:\n",
    "    str_args = ''' --train-data RS-ALL\n",
    "            --label-ratio 0.1\n",
    "            --val-data RS-ALL\n",
    "            --imagenet-val RSICD-CLS \\\n",
    "            --keyword-path keywords/RS/class-name.txt\n",
    "            --epochs 25\n",
    "            --lr 5e-5\n",
    "            --zeroshot-frequency 5  \n",
    "            --method base\n",
    "    '''\n",
    "            # --active-learning\n",
    "            # --al-iter 3\n",
    "#             \n",
    "str_args = str_args.split('\\n')\n",
    "str_args = [s.strip() for s in str_args]\n",
    "str_args = [s.split(' ') for s in str_args]\n",
    "str_args = list(chain(*str_args))\n",
    "str_args = [s for s in str_args if len(s) > 0]\n",
    "args = parse_args(str_args)\n"
   ]
  },
  {
   "cell_type": "code",
   "execution_count": 2,
   "id": "451e9538-7246-4ed0-986f-42336bf8b6df",
   "metadata": {},
   "outputs": [
    {
     "name": "stdout",
     "output_type": "stream",
     "text": [
      "Cannot parse args\n",
      "Making log path: ./checkpoint/2023_11_01-13_15_27-data_RS-ALL-ratio_0.1-model_RN50-method_base-keyword_none-AL_False-PL_method_None-vit_False-epochs_25\n",
      "Running with a single process on device cuda.\n",
      "Getting data...\n",
      "RS-ALL\n",
      "Split: val\n",
      "Data size: 1094\n",
      "Data size: 210\n",
      "Data size: 58\n",
      "RSICD-CLS\n",
      "Split: val\n",
      "CLS size: 1094\n",
      "RS-ALL\n",
      "Split: train\n",
      "Data size: 8734\n",
      "Data size: 1680\n",
      "Data size: 497\n",
      "Dataset size: 10911\n",
      "Labeled size: 1091\n",
      "Data got.\n"
     ]
    },
    {
     "name": "stderr",
     "output_type": "stream",
     "text": [
      "100%|██████████████████████████████████████████████████████████████████████████████████████████████████████████████████████████████████████████████████████| 25/25 [07:04<00:00, 16.97s/it]\n"
     ]
    },
    {
     "name": "stdout",
     "output_type": "stream",
     "text": [
      "CPU times: user 1h 22min 43s, sys: 34 s, total: 1h 23min 17s\n",
      "Wall time: 7min 9s\n"
     ]
    }
   ],
   "source": [
    "%%time\n",
    "checkpoint_path = main(args) # Calls the main.py function of S-CLIP"
   ]
  },
  {
   "cell_type": "markdown",
   "id": "f9e5d79c-3fbb-4e0b-996a-5c2556d12122",
   "metadata": {},
   "source": [
    "# Eval"
   ]
  },
  {
   "cell_type": "code",
   "execution_count": 3,
   "id": "e1218276-2fe6-40ec-a825-31cc54c0027c",
   "metadata": {},
   "outputs": [
    {
     "name": "stdout",
     "output_type": "stream",
     "text": [
      "Cannot parse args\n",
      "Running with a single process on device cuda.\n",
      "=> resuming checkpoint './checkpoint/2023_11_01-13_15_27-data_RS-ALL-ratio_0.1-model_RN50-method_base-keyword_none-AL_False-PL_method_None-vit_False-epochs_25/checkpoints/epoch_latest.pt' (epoch 25)\n",
      "Getting data...\n",
      "RSICD-CLS\n",
      "Split: val\n",
      "CLS size: 1094\n",
      "Data got.\n",
      "Cannot parse args\n",
      "Running with a single process on device cuda.\n",
      "=> resuming checkpoint './checkpoint/2023_11_01-13_15_27-data_RS-ALL-ratio_0.1-model_RN50-method_base-keyword_none-AL_False-PL_method_None-vit_False-epochs_25/checkpoints/epoch_latest.pt' (epoch 25)\n",
      "Getting data...\n",
      "UCM-CLS\n",
      "Split: val\n",
      "CLS size: 210\n",
      "Data got.\n",
      "Cannot parse args\n",
      "Running with a single process on device cuda.\n",
      "=> resuming checkpoint './checkpoint/2023_11_01-13_15_27-data_RS-ALL-ratio_0.1-model_RN50-method_base-keyword_none-AL_False-PL_method_None-vit_False-epochs_25/checkpoints/epoch_latest.pt' (epoch 25)\n",
      "Getting data...\n",
      "RSICD\n",
      "Split: val\n",
      "Data got.\n",
      "Cannot parse args\n",
      "Running with a single process on device cuda.\n",
      "=> resuming checkpoint './checkpoint/2023_11_01-13_15_27-data_RS-ALL-ratio_0.1-model_RN50-method_base-keyword_none-AL_False-PL_method_None-vit_False-epochs_25/checkpoints/epoch_latest.pt' (epoch 25)\n",
      "Getting data...\n",
      "UCM\n",
      "Split: val\n",
      "Data got.\n",
      "Cannot parse args\n",
      "Running with a single process on device cuda.\n",
      "=> resuming checkpoint './checkpoint/2023_11_01-13_15_27-data_RS-ALL-ratio_0.1-model_RN50-method_base-keyword_none-AL_False-PL_method_None-vit_False-epochs_25/checkpoints/epoch_latest.pt' (epoch 25)\n",
      "Getting data...\n",
      "Sydney\n",
      "Split: val\n",
      "Data got.\n",
      "CPU times: user 38.2 s, sys: 5.61 s, total: 43.8 s\n",
      "Wall time: 34.4 s\n"
     ]
    }
   ],
   "source": [
    "%%time\n",
    "checkpoint = checkpoint_path \n",
    "if 'Fashion' in checkpoint:\n",
    "    zeroshot_datasets = [\"Fashion200k-SUBCLS\", \"Fashion200k-CLS\", \"FashionGen-CLS\", \"FashionGen-SUBCLS\", \"Polyvore-CLS\", ]\n",
    "    retrieval_datasets = [\"FashionGen\", \"Polyvore\", \"Fashion200k\",]\n",
    "else:\n",
    "    zeroshot_datasets = [\"RSICD-CLS\", \"UCM-CLS\"] # \"WHU-RS19\", \"RSSCN7\", \"AID\" -> NOT WORKING bc of different data-loading workings\n",
    "    retrieval_datasets = [\"RSICD\", \"UCM\", \"Sydney\"]\n",
    "\n",
    "for dataset in zeroshot_datasets:\n",
    "    str_args = ['--name', checkpoint, '--imagenet-val', dataset]\n",
    "    args = parse_args(str_args)\n",
    "    main(args)\n",
    "\n",
    "for dataset in retrieval_datasets:\n",
    "    str_args = ['--name', checkpoint, '--val-data', dataset]\n",
    "    args = parse_args(str_args)\n",
    "    main(args)"
   ]
  },
  {
   "cell_type": "code",
   "execution_count": null,
   "id": "bff853d9-f270-4443-9e6f-a98def1b60e1",
   "metadata": {},
   "outputs": [],
   "source": []
  }
 ],
 "metadata": {
  "kernelspec": {
   "display_name": "Python 3 (ipykernel)",
   "language": "python",
   "name": "python3"
  },
  "language_info": {
   "codemirror_mode": {
    "name": "ipython",
    "version": 3
   },
   "file_extension": ".py",
   "mimetype": "text/x-python",
   "name": "python",
   "nbconvert_exporter": "python",
   "pygments_lexer": "ipython3",
   "version": "3.10.12"
  }
 },
 "nbformat": 4,
 "nbformat_minor": 5
}
