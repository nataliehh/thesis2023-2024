{
 "cells": [
  {
   "cell_type": "markdown",
   "id": "63c4b79f-34b8-43ce-b5a0-e4cd20d58d28",
   "metadata": {},
   "source": [
    "# Training"
   ]
  },
  {
   "cell_type": "code",
   "execution_count": 1,
   "id": "9517c26a-cecc-4363-97d4-4538aeacb558",
   "metadata": {},
   "outputs": [],
   "source": [
    "import sys\n",
    "sys.path.append('/vol/tensusers5/nhollain/s_clip_scripts')\n",
    "\n",
    "from itertools import chain\n",
    "from main import main\n",
    "from params import parse_args\n",
    "\n",
    "fashion = False\n",
    "\n",
    "if fashion:\n",
    "    str_args = '''--train-data Fashion-ALL\n",
    "            --label-ratio 0.1\n",
    "            --val-data Fashion-ALL\n",
    "            --keyword-path keywords/fashion/class-name.txt\n",
    "            --epochs 10\n",
    "            --method base  \n",
    "    '''\n",
    "else:\n",
    "    str_args = ''' --train-data RS-ALL\n",
    "            --label-ratio 0.1\n",
    "            --val-data RS-ALL\n",
    "            --imagenet-val RSICD-CLS \\\n",
    "            --keyword-path keywords/RS/class-name.txt\n",
    "            --epochs 25\n",
    "            --zeroshot-frequency 5  \n",
    "            --method base\n",
    "    '''\n",
    "#             --active-learning\n",
    "str_args = str_args.split('\\n')\n",
    "str_args = [s.strip() for s in str_args]\n",
    "str_args = [s.split(' ') for s in str_args]\n",
    "str_args = list(chain(*str_args))\n",
    "str_args = [s for s in str_args if len(s) > 0]\n",
    "args = parse_args(str_args)"
   ]
  },
  {
   "cell_type": "code",
   "execution_count": 2,
   "id": "451e9538-7246-4ed0-986f-42336bf8b6df",
   "metadata": {},
   "outputs": [
    {
     "name": "stdout",
     "output_type": "stream",
     "text": [
      "Cannot parse args\n",
      "Making log path: ./checkpoint/2023_10_30-16_40_51-data_RS-ALL-ratio_0.1-model_RN50-method_base-keyword_none-AL_False-PL_method_None-vit_False\n",
      "Running with a single process on device cuda.\n",
      "Getting data...\n",
      "RS-ALL\n",
      "Split: val\n",
      "Data size: 1094\n",
      "Data size: 210\n",
      "Data size: 58\n",
      "RSICD-CLS\n",
      "Split: val\n",
      "CLS size: 1094\n",
      "RS-ALL\n",
      "Split: train\n",
      "Data size: 8734\n",
      "Data size: 1680\n",
      "Data size: 497\n",
      "Dataset size: 10911\n",
      "Labeled size: 1091\n",
      "Data got.\n",
      "Start epoch 0\n",
      "Done training.\n",
      "Done evaluating.\n",
      "Start epoch 1\n",
      "Done training.\n",
      "Done evaluating.\n",
      "Start epoch 2\n",
      "Done training.\n",
      "Done evaluating.\n",
      "Start epoch 3\n",
      "Done training.\n",
      "Done evaluating.\n",
      "Start epoch 4\n",
      "Done training.\n",
      "Done evaluating.\n",
      "Start epoch 5\n",
      "Done training.\n",
      "Done evaluating.\n",
      "Start epoch 6\n",
      "Done training.\n",
      "Done evaluating.\n",
      "Start epoch 7\n",
      "Done training.\n",
      "Done evaluating.\n",
      "Start epoch 8\n",
      "Done training.\n",
      "Done evaluating.\n",
      "Start epoch 9\n",
      "Done training.\n",
      "Done evaluating.\n",
      "Start epoch 10\n",
      "Done training.\n",
      "Done evaluating.\n",
      "Start epoch 11\n",
      "Done training.\n",
      "Done evaluating.\n",
      "Start epoch 12\n",
      "Done training.\n",
      "Done evaluating.\n",
      "Start epoch 13\n",
      "Done training.\n",
      "Done evaluating.\n",
      "Start epoch 14\n",
      "Done training.\n",
      "Done evaluating.\n",
      "Start epoch 15\n",
      "Done training.\n",
      "Done evaluating.\n",
      "Start epoch 16\n",
      "Done training.\n",
      "Done evaluating.\n",
      "Start epoch 17\n",
      "Done training.\n",
      "Done evaluating.\n",
      "Start epoch 18\n",
      "Done training.\n",
      "Done evaluating.\n",
      "Start epoch 19\n",
      "Done training.\n",
      "Done evaluating.\n",
      "Start epoch 20\n",
      "Done training.\n",
      "Done evaluating.\n",
      "Start epoch 21\n",
      "Done training.\n",
      "Done evaluating.\n",
      "Start epoch 22\n",
      "Done training.\n",
      "Done evaluating.\n",
      "Start epoch 23\n",
      "Done training.\n",
      "Done evaluating.\n",
      "Start epoch 24\n",
      "Done training.\n",
      "Done evaluating.\n",
      "CPU times: user 41min 39s, sys: 15.8 s, total: 41min 55s\n",
      "Wall time: 4min 30s\n"
     ]
    }
   ],
   "source": [
    "%%time\n",
    "checkpoint_path = main(args) # Calls the main.py function of S-CLIP"
   ]
  },
  {
   "cell_type": "markdown",
   "id": "f9e5d79c-3fbb-4e0b-996a-5c2556d12122",
   "metadata": {},
   "source": [
    "# Eval"
   ]
  },
  {
   "cell_type": "code",
   "execution_count": 3,
   "id": "e1218276-2fe6-40ec-a825-31cc54c0027c",
   "metadata": {},
   "outputs": [
    {
     "name": "stdout",
     "output_type": "stream",
     "text": [
      "Cannot parse args\n",
      "Running with a single process on device cuda.\n",
      "=> resuming checkpoint './checkpoint/2023_10_30-16_40_51-data_RS-ALL-ratio_0.1-model_RN50-method_base-keyword_none-AL_False-PL_method_None-vit_False/checkpoints/epoch_latest.pt' (epoch 25)\n",
      "Getting data...\n",
      "RSICD-CLS\n",
      "Split: val\n",
      "CLS size: 1094\n",
      "Data got.\n"
     ]
    },
    {
     "name": "stderr",
     "output_type": "stream",
     "text": [
      "100%|█████████████████████████████████████████████████████████████████████████████████████████████████████████████████████████████████████████████████████| 31/31 [00:00<00:00, 122.50it/s]\n",
      "100%|█████████████████████████████████████████████████████████████████████████████████████████████████████████████████████████████████████████████████| 1152/1152 [00:03<00:00, 354.91it/s]\n"
     ]
    },
    {
     "name": "stdout",
     "output_type": "stream",
     "text": [
      "Cannot parse args\n",
      "Running with a single process on device cuda.\n",
      "=> resuming checkpoint './checkpoint/2023_10_30-16_40_51-data_RS-ALL-ratio_0.1-model_RN50-method_base-keyword_none-AL_False-PL_method_None-vit_False/checkpoints/epoch_latest.pt' (epoch 25)\n",
      "Getting data...\n",
      "UCM-CLS\n",
      "Split: val\n",
      "CLS size: 2100\n",
      "Data got.\n"
     ]
    },
    {
     "name": "stderr",
     "output_type": "stream",
     "text": [
      "100%|█████████████████████████████████████████████████████████████████████████████████████████████████████████████████████████████████████████████████████| 21/21 [00:00<00:00, 117.08it/s]\n",
      "100%|█████████████████████████████████████████████████████████████████████████████████████████████████████████████████████████████████████████████████| 2112/2112 [00:07<00:00, 294.38it/s]\n"
     ]
    },
    {
     "name": "stdout",
     "output_type": "stream",
     "text": [
      "Cannot parse args\n",
      "Running with a single process on device cuda.\n",
      "=> resuming checkpoint './checkpoint/2023_10_30-16_40_51-data_RS-ALL-ratio_0.1-model_RN50-method_base-keyword_none-AL_False-PL_method_None-vit_False/checkpoints/epoch_latest.pt' (epoch 25)\n",
      "Getting data...\n",
      "RSICD\n",
      "Split: val\n",
      "Data got.\n",
      "Cannot parse args\n",
      "Running with a single process on device cuda.\n",
      "=> resuming checkpoint './checkpoint/2023_10_30-16_40_51-data_RS-ALL-ratio_0.1-model_RN50-method_base-keyword_none-AL_False-PL_method_None-vit_False/checkpoints/epoch_latest.pt' (epoch 25)\n",
      "Getting data...\n",
      "UCM\n",
      "Split: val\n",
      "Data got.\n",
      "Cannot parse args\n",
      "Running with a single process on device cuda.\n",
      "=> resuming checkpoint './checkpoint/2023_10_30-16_40_51-data_RS-ALL-ratio_0.1-model_RN50-method_base-keyword_none-AL_False-PL_method_None-vit_False/checkpoints/epoch_latest.pt' (epoch 25)\n",
      "Getting data...\n",
      "Sydney\n",
      "Split: val\n",
      "Data got.\n",
      "CPU times: user 41.6 s, sys: 6.1 s, total: 47.7 s\n",
      "Wall time: 42.8 s\n"
     ]
    }
   ],
   "source": [
    "%%time\n",
    "checkpoint = checkpoint_path \n",
    "if 'Fashion' in checkpoint:\n",
    "    zeroshot_datasets = [\"Fashion200k-SUBCLS\", \"Fashion200k-CLS\", \"FashionGen-CLS\", \"FashionGen-SUBCLS\", \"Polyvore-CLS\", ]\n",
    "    retrieval_datasets = [\"FashionGen\", \"Polyvore\", \"Fashion200k\",]\n",
    "else:\n",
    "    zeroshot_datasets = [\"RSICD-CLS\", \"UCM-CLS\"] # \"WHU-RS19\", \"RSSCN7\", \"AID\" -> NOT WORKING bc of different data-loading workings\n",
    "    retrieval_datasets = [\"RSICD\", \"UCM\", \"Sydney\"]\n",
    "\n",
    "for dataset in zeroshot_datasets:\n",
    "    str_args = ['--name', checkpoint, '--imagenet-val', dataset]\n",
    "    args = parse_args(str_args)\n",
    "    main(args)\n",
    "\n",
    "for dataset in retrieval_datasets:\n",
    "    str_args = ['--name', checkpoint, '--val-data', dataset]\n",
    "    args = parse_args(str_args)\n",
    "    main(args)"
   ]
  },
  {
   "cell_type": "code",
   "execution_count": null,
   "id": "bff853d9-f270-4443-9e6f-a98def1b60e1",
   "metadata": {},
   "outputs": [],
   "source": []
  }
 ],
 "metadata": {
  "kernelspec": {
   "display_name": "Python 3 (ipykernel)",
   "language": "python",
   "name": "python3"
  },
  "language_info": {
   "codemirror_mode": {
    "name": "ipython",
    "version": 3
   },
   "file_extension": ".py",
   "mimetype": "text/x-python",
   "name": "python",
   "nbconvert_exporter": "python",
   "pygments_lexer": "ipython3",
   "version": "3.10.12"
  }
 },
 "nbformat": 4,
 "nbformat_minor": 5
}
