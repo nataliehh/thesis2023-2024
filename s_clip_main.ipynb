{
 "cells": [
  {
   "cell_type": "code",
   "execution_count": 1,
   "id": "9517c26a-cecc-4363-97d4-4538aeacb558",
   "metadata": {},
   "outputs": [
    {
     "name": "stderr",
     "output_type": "stream",
     "text": [
      "[nltk_data] Downloading package punkt to /home/nhollain/nltk_data...\n",
      "[nltk_data]   Package punkt is already up-to-date!\n",
      "[nltk_data] Downloading package averaged_perceptron_tagger to\n",
      "[nltk_data]     /home/nhollain/nltk_data...\n",
      "[nltk_data]   Package averaged_perceptron_tagger is already up-to-\n",
      "[nltk_data]       date!\n"
     ]
    }
   ],
   "source": [
    "import sys\n",
    "sys.path.append('/vol/tensusers5/nhollain/s_clip_scripts')\n",
    "\n",
    "import itertools\n",
    "from main import main, format_checkpoint\n",
    "from params import parse_args\n",
    "import copy\n",
    "import os\n",
    "from tqdm import tqdm\n",
    "\n",
    "def prep_str_args(str_args): # Code to parse the string style arguments, as shown below\n",
    "    str_args = str_args.split('\\n') # Split on newline\n",
    "    str_args = [s.strip() for s in str_args] # Remove any whitespaces from the start and end of the strings\n",
    "    # Split on the space between the parameter name and the value, e.g. '--name x' becomes ['--name', 'x']\n",
    "    str_args = [s.split(' ') for s in str_args] \n",
    "    str_args = list(itertools.chain(*str_args)) # Flatten the resulting list of lists\n",
    "    str_args = [s for s in str_args if len(s) > 0] # Remove arguments that are empty\n",
    "    return str_args\n",
    "    \n",
    "def evaluate(checkpoint, epoch = None, kfold = -1):\n",
    "    print('=> Resuming checkpoint {} (epoch {})'.format(checkpoint, epoch))\n",
    "    checkpoint = checkpoint_path \n",
    "    if 'Fashion' in checkpoint:\n",
    "        zeroshot_datasets = [\"Fashion200k-SUBCLS\", \"Fashion200k-CLS\", \"FashionGen-CLS\", \"FashionGen-SUBCLS\", \"Polyvore-CLS\", ]\n",
    "        retrieval_datasets = [\"FashionGen\", \"Polyvore\", \"Fashion200k\",]\n",
    "    else:\n",
    "        zeroshot_datasets = [\"RSICD-CLS\", \"UCM-CLS\"] # \"WHU-RS19\", \"RSSCN7\", \"AID\" -> NOT WORKING bc of different data-loading workings\n",
    "        retrieval_datasets = [\"RSICD\", \"UCM\", \"Sydney\"]\n",
    "    \n",
    "    for dataset in zeroshot_datasets:\n",
    "        str_args = ['--name', checkpoint, '--imagenet-val', dataset, '--resume-epoch', str(epoch), '--k-fold', str(kfold)]\n",
    "        args = parse_args(str_args)\n",
    "        main(args)\n",
    "    \n",
    "    for dataset in retrieval_datasets:\n",
    "        str_args = ['--name', checkpoint, '--val-data', dataset, '--resume-epoch', str(epoch), '--k-fold', str(kfold)]\n",
    "        args = parse_args(str_args)\n",
    "        main(args)"
   ]
  },
  {
   "cell_type": "code",
   "execution_count": 2,
   "id": "a99e8109-1b98-4d55-96b6-ba9d06db445b",
   "metadata": {},
   "outputs": [
    {
     "data": {
      "text/plain": [
       "{'data_RS-ALL-ratio_0.1-model_RN50-method_base-kw_none-AL_False-PL_None-vit_False-epochs_5-lr_0.00005-bs_64': 180,\n",
       " 'data_RS-ALL-ratio_0.1-model_RN50-method_base-kw_none-AL_False-PL_None-vit_False-epochs_10-lr_0.00005-bs_64': 180,\n",
       " 'data_RS-ALL-ratio_0.1-model_RN50-method_base-kw_none-AL_False-PL_None-vit_False-epochs_15-lr_0.00005-bs_64': 180,\n",
       " 'data_RS-ALL-ratio_0.1-model_RN50-method_base-kw_none-AL_False-PL_None-vit_False-epochs_20-lr_0.00005-bs_64': 180,\n",
       " 'data_RS-ALL-ratio_0.1-model_RN50-method_base-kw_none-AL_False-PL_None-vit_False-epochs_25-lr_0.00005-bs_64': 180,\n",
       " 'data_RS-ALL-ratio_0.1-model_RN50-method_base-kw_none-AL_False-PL_None-vit_False-epochs_30-lr_0.00005-bs_64': 180,\n",
       " 'data_RS-ALL-ratio_0.1-model_RN50-method_base-kw_none-AL_False-PL_None-vit_False-epochs_35-lr_0.00005-bs_64': 180,\n",
       " 'data_RS-ALL-ratio_0.1-model_RN50-method_ours-kw_classname-AL_False-PL_ot.image-vit_False-epochs_5-lr_0.0005-bs_64': 180,\n",
       " 'data_RS-ALL-ratio_0.1-model_RN50-method_ours-kw_classname-AL_False-PL_ot.image-vit_False-epochs_10-lr_0.0005-bs_64': 180,\n",
       " 'data_RS-ALL-ratio_0.1-model_RN50-method_ours-kw_classname-AL_False-PL_ot.image-vit_False-epochs_15-lr_0.0005-bs_64': 180,\n",
       " 'data_RS-ALL-ratio_0.1-model_RN50-method_ours-kw_classname-AL_False-PL_ot.image-vit_False-epochs_20-lr_0.0005-bs_64': 180,\n",
       " 'data_RS-ALL-ratio_0.1-model_RN50-method_ours-kw_classname-AL_False-PL_ot.image-vit_False-epochs_25-lr_0.0005-bs_64': 180,\n",
       " 'data_RS-ALL-ratio_0.1-model_RN50-method_ours-kw_classname-AL_False-PL_ot.image-vit_False-epochs_30-lr_0.0005-bs_64': 180,\n",
       " 'data_RS-ALL-ratio_0.1-model_RN50-method_ours-kw_classname-AL_False-PL_ot.image-vit_False-epochs_35-lr_0.0005-bs_64': 180,\n",
       " 'data_RS-ALL-ratio_0.1-model_RN50-method_ours-kw_classname-AL_False-PL_ot.image-vit_False-epochs_5-lr_0.00005-bs_64': 180,\n",
       " 'data_RS-ALL-ratio_0.1-model_RN50-method_ours-kw_classname-AL_False-PL_ot.image-vit_False-epochs_10-lr_0.00005-bs_64': 180,\n",
       " 'data_RS-ALL-ratio_0.1-model_RN50-method_ours-kw_classname-AL_False-PL_ot.image-vit_False-epochs_15-lr_0.00005-bs_64': 180,\n",
       " 'data_RS-ALL-ratio_0.1-model_RN50-method_ours-kw_classname-AL_False-PL_ot.image-vit_False-epochs_20-lr_0.00005-bs_64': 180,\n",
       " 'data_RS-ALL-ratio_0.1-model_RN50-method_ours-kw_classname-AL_False-PL_ot.image-vit_False-epochs_25-lr_0.00005-bs_64': 180,\n",
       " 'data_RS-ALL-ratio_0.1-model_RN50-method_ours-kw_classname-AL_False-PL_ot.image-vit_False-epochs_30-lr_0.00005-bs_64': 180,\n",
       " 'data_RS-ALL-ratio_0.1-model_RN50-method_ours-kw_classname-AL_False-PL_ot.image-vit_False-epochs_35-lr_0.00005-bs_64': 180,\n",
       " 'data_RS-ALL-ratio_0.1-model_RN50-method_ours-kw_classname-AL_False-PL_ot.image-vit_False-epochs_5-lr_0.000005-bs_64': 200,\n",
       " 'data_RS-ALL-ratio_0.1-model_RN50-method_ours-kw_classname-AL_False-PL_ot.image-vit_False-epochs_10-lr_0.000005-bs_64': 200,\n",
       " 'data_RS-ALL-ratio_0.1-model_RN50-method_ours-kw_classname-AL_False-PL_ot.image-vit_False-epochs_15-lr_0.000005-bs_64': 200,\n",
       " 'data_RS-ALL-ratio_0.1-model_RN50-method_ours-kw_classname-AL_False-PL_ot.image-vit_False-epochs_20-lr_0.000005-bs_64': 200,\n",
       " 'data_RS-ALL-ratio_0.1-model_RN50-method_ours-kw_classname-AL_False-PL_ot.image-vit_False-epochs_25-lr_0.000005-bs_64': 200,\n",
       " 'data_RS-ALL-ratio_0.1-model_RN50-method_ours-kw_classname-AL_False-PL_ot.image-vit_False-epochs_30-lr_0.000005-bs_64': 200,\n",
       " 'data_RS-ALL-ratio_0.1-model_RN50-method_ours-kw_classname-AL_False-PL_ot.image-vit_False-epochs_35-lr_0.000005-bs_64': 182,\n",
       " 'data_RS-ALL-ratio_0.1-model_RN50-method_ours-kw_classname-AL_False-PL_ot.image-vit_False-epochs_5-lr_0.0005-bs_128': 180,\n",
       " 'data_RS-ALL-ratio_0.1-model_RN50-method_ours-kw_classname-AL_False-PL_ot.image-vit_False-epochs_10-lr_0.0005-bs_128': 180,\n",
       " 'data_RS-ALL-ratio_0.1-model_RN50-method_ours-kw_classname-AL_False-PL_ot.image-vit_False-epochs_15-lr_0.0005-bs_128': 180,\n",
       " 'data_RS-ALL-ratio_0.1-model_RN50-method_ours-kw_classname-AL_False-PL_ot.image-vit_False-epochs_20-lr_0.0005-bs_128': 180,\n",
       " 'data_RS-ALL-ratio_0.1-model_RN50-method_ours-kw_classname-AL_False-PL_ot.image-vit_False-epochs_25-lr_0.0005-bs_128': 180,\n",
       " 'data_RS-ALL-ratio_0.1-model_RN50-method_ours-kw_classname-AL_False-PL_ot.image-vit_False-epochs_30-lr_0.0005-bs_128': 180,\n",
       " 'data_RS-ALL-ratio_0.1-model_RN50-method_ours-kw_classname-AL_False-PL_ot.image-vit_False-epochs_35-lr_0.0005-bs_128': 180,\n",
       " 'data_RS-ALL-ratio_0.1-model_RN50-method_ours-kw_classname-AL_False-PL_ot.image-vit_False-epochs_5-lr_0.00005-bs_128': 180,\n",
       " 'data_RS-ALL-ratio_0.1-model_RN50-method_ours-kw_classname-AL_False-PL_ot.image-vit_False-epochs_10-lr_0.00005-bs_128': 180,\n",
       " 'data_RS-ALL-ratio_0.1-model_RN50-method_ours-kw_classname-AL_False-PL_ot.image-vit_False-epochs_15-lr_0.00005-bs_128': 180,\n",
       " 'data_RS-ALL-ratio_0.1-model_RN50-method_ours-kw_classname-AL_False-PL_ot.image-vit_False-epochs_20-lr_0.00005-bs_128': 180,\n",
       " 'data_RS-ALL-ratio_0.1-model_RN50-method_ours-kw_classname-AL_False-PL_ot.image-vit_False-epochs_25-lr_0.00005-bs_128': 180,\n",
       " 'data_RS-ALL-ratio_0.1-model_RN50-method_ours-kw_classname-AL_False-PL_ot.image-vit_False-epochs_30-lr_0.00005-bs_128': 180,\n",
       " 'data_RS-ALL-ratio_0.1-model_RN50-method_ours-kw_classname-AL_False-PL_ot.image-vit_False-epochs_35-lr_0.00005-bs_128': 180,\n",
       " 'data_RS-ALL-ratio_0.1-model_RN50-method_ours-kw_classname-AL_False-PL_ot.image-vit_False-epochs_5-lr_0.000005-bs_128': 180,\n",
       " 'data_RS-ALL-ratio_0.1-model_RN50-method_ours-kw_classname-AL_False-PL_ot.image-vit_False-epochs_10-lr_0.000005-bs_128': 180,\n",
       " 'data_RS-ALL-ratio_0.1-model_RN50-method_ours-kw_classname-AL_False-PL_ot.image-vit_False-epochs_15-lr_0.000005-bs_128': 180,\n",
       " 'data_RS-ALL-ratio_0.1-model_RN50-method_ours-kw_classname-AL_False-PL_ot.image-vit_False-epochs_20-lr_0.000005-bs_128': 180,\n",
       " 'data_RS-ALL-ratio_0.1-model_RN50-method_ours-kw_classname-AL_False-PL_ot.image-vit_False-epochs_25-lr_0.000005-bs_128': 180,\n",
       " 'data_RS-ALL-ratio_0.1-model_RN50-method_ours-kw_classname-AL_False-PL_ot.image-vit_False-epochs_30-lr_0.000005-bs_128': 180,\n",
       " 'data_RS-ALL-ratio_0.1-model_RN50-method_ours-kw_classname-AL_False-PL_ot.image-vit_False-epochs_35-lr_0.000005-bs_128': 180}"
      ]
     },
     "execution_count": 2,
     "metadata": {},
     "output_type": "execute_result"
    }
   ],
   "source": [
    "from collections import Counter\n",
    "\n",
    "results = []\n",
    "if os.path.exists('./eval.txt'):   \n",
    "    with open('./eval.txt', 'r') as f:\n",
    "        results = f.readlines()\n",
    "\n",
    "# Remove any non-result lines from the eval file, and split the lines on the tab character\n",
    "# (results have format: model_name\\tdataset_name\\tmetric_name\\tmetric_value)\n",
    "results = [r.replace('\\n','').split('\\t')[0] for r in results if '\\t' in r]\n",
    "model_names = results\n",
    "# Remove the timestamp from the model names, as well as the specific fold - rest of the name contains params\n",
    "model_names = ['-'.join(m.split('-')[2:]).split('-fold')[0] for m in model_names]\n",
    "model_names = dict(Counter(model_names))\n",
    "# Show which models are already present in eval.txt\n",
    "model_names"
   ]
  },
  {
   "cell_type": "markdown",
   "id": "3e6311e1-c938-434d-9d14-04385c1347b0",
   "metadata": {},
   "source": [
    "# Grid Search"
   ]
  },
  {
   "cell_type": "code",
   "execution_count": 3,
   "id": "ae7eaa23-316d-4c09-847e-bdd9c30550a8",
   "metadata": {},
   "outputs": [
    {
     "name": "stdout",
     "output_type": "stream",
     "text": [
      "Number of configs: 6\n"
     ]
    }
   ],
   "source": [
    "# Do a grid search on the parameters\n",
    "base_str_args = ''' --train-data RS-ALL\n",
    "--label-ratio 0.1\n",
    "--val-data RS-ALL\n",
    "--imagenet-val RSICD-CLS \n",
    "--keyword-path keywords/RS/class-name.txt\n",
    "--zeroshot-frequency 5  \n",
    "--method ours\n",
    "--save-freq 5\n",
    "'''\n",
    "\n",
    "# Dictionary of values to gridsearch for hyperparam tuning\n",
    "gridsearch_dict = {\n",
    "    '--epochs' : [35], #[10,15,20,25,30,35],\n",
    "    '--lr' : [5e-4, 5e-5, 5e-6], # 5e-4, 5e-6\n",
    "    '--batch-size' : [64, 128] #,128,256],\n",
    "}\n",
    "\n",
    "# This number is very specifically chosen because we have 9 folds for the datasets!\n",
    "num_repeats = 9 \n",
    "num_evals = 20 # How many evaluations are done with evaluate(...)\n",
    "\n",
    "gridsearch_values = list(gridsearch_dict.values())\n",
    "gridsearch_keys = list(gridsearch_dict.keys())\n",
    "configs = list(itertools.product(*gridsearch_values))\n",
    "print('Number of configs:', len(configs))"
   ]
  },
  {
   "cell_type": "code",
   "execution_count": 4,
   "id": "f405aaa0-49e5-47ad-9ec2-0dadb0ae4522",
   "metadata": {},
   "outputs": [],
   "source": [
    "# %%time\n",
    "# for c, config in enumerate(configs): # Gridsearch\n",
    "#     str_args = copy.deepcopy(base_str_args)\n",
    "#     # Add the gridsearch parameters to the arguments\n",
    "#     for i, param in enumerate(config):\n",
    "#         param_name = gridsearch_keys[i]\n",
    "#         str_args += '\\n{} {}'.format(param_name, param)\n",
    "        \n",
    "#     str_args = prep_str_args(str_args)\n",
    "#     print(str_args)\n",
    "#     args = parse_args(str_args)\n",
    "#     checkpoint_hypothetical = format_checkpoint(args)\n",
    "#     # Remove the timestamp from the hypothetical checkpoint, so we can compare to the params of other checkpoints\n",
    "#     checkpoint_params = '-'.join(checkpoint_hypothetical.split('-')[2:]).split('-fold')[0]\n",
    "#     # print(checkpoint_params)\n",
    "#     # Check if we've already trained the exact same model, correct the number of training iterations we still need to do\n",
    "#     if checkpoint_params in model_names:\n",
    "#         # The number of times to repeat depends on how often the model's been evaluated already\n",
    "#         start_repeat = int(model_names[checkpoint_params]/num_evals)\n",
    "#     else: # If we've never trained + evaluated the model before, just use num_repeats\n",
    "#         start_repeat = 0\n",
    "#     print('Config number {}: {} repeats'.format(c, num_repeats-start_repeat))\n",
    "#     for i in range(start_repeat, num_repeats):\n",
    "#         print()\n",
    "#         print('repeat number', i) \n",
    "#         args = parse_args(str_args)\n",
    "#         args.k_fold = i\n",
    "#         # We compute here for which epochs we need to evaluate (based on for which epochs we checkpoint)\n",
    "#         epoch_freq = args.save_freq\n",
    "#         epochs = list(range(epoch_freq,args.epochs+1,epoch_freq))\n",
    "#         print('Epochs to checkpoint', epochs)\n",
    "#         # print('Args k fold (outside):' , args.k_fold)\n",
    "#         checkpoint_path = main(args) # Calls the main.py function of S-CLIP\n",
    "#         for epoch in epochs:\n",
    "#             evaluate(checkpoint_path, epoch = epoch, kfold = i)"
   ]
  },
  {
   "cell_type": "markdown",
   "id": "63c4b79f-34b8-43ce-b5a0-e4cd20d58d28",
   "metadata": {},
   "source": [
    "# Training"
   ]
  },
  {
   "cell_type": "code",
   "execution_count": 5,
   "id": "21839599-a8c4-4936-8122-039e0b063b63",
   "metadata": {},
   "outputs": [],
   "source": [
    "fashion = False\n",
    "\n",
    "if fashion:\n",
    "    str_args = '''--train-data Fashion-ALL\n",
    "            --label-ratio 0.1\n",
    "            --val-data Fashion-ALL\n",
    "            --keyword-path keywords/fashion/class-name.txt\n",
    "            --epochs 10\n",
    "            --method base  \n",
    "    '''\n",
    "else:\n",
    "    str_args = ''' --train-data RS-ALL\n",
    "            --label-ratio 0.1\n",
    "            --val-data RS-ALL\n",
    "            --imagenet-val RSICD-CLS \\\n",
    "            --keyword-path keywords/RS/class-name.txt\n",
    "            --epochs 2\n",
    "            --lr 5e-5\n",
    "            --zeroshot-frequency 5  \n",
    "            --method base\n",
    "            --active-learning\n",
    "            --al-iter 3\n",
    "    '''\n",
    "           # --active-learning\n",
    "        # --al-iter 3\n",
    "\n",
    "# Convert string arguments to a format that can be parsed by parse_args             \n",
    "str_args = prep_str_args(str_args)\n",
    "args = parse_args(str_args)"
   ]
  },
  {
   "cell_type": "code",
   "execution_count": 6,
   "id": "451e9538-7246-4ed0-986f-42336bf8b6df",
   "metadata": {},
   "outputs": [
    {
     "name": "stdout",
     "output_type": "stream",
     "text": [
      "formatting...\n",
      "Log path: ./checkpoint/2023_11_13-11_37_27-data_RS-ALL-ratio_0.1-model_RN50-method_base-kw_none-AL_True-PL_None-vit_False-epochs_2-lr_0.00005-bs_64\n",
      "RS-ALL (split: val)\tSub-dataset sizes: [1094, 210, 58] (sum = 1362)\n",
      "RSICD-CLS (split: val)\tCLS size: 1094\tRS-ALL (split: train)\tSub-dataset sizes: [8734, 1680, 497] (sum = 10911)\n",
      "Labeled size: 363\n",
      "Active learning...\n"
     ]
    },
    {
     "name": "stderr",
     "output_type": "stream",
     "text": [
      "100%|█████████████████████████████████████████████████████████████████████████████████████████████████████████████████████████████████████████████████| 5504/5504 [00:35<00:00, 153.29it/s]\n"
     ]
    },
    {
     "name": "stdout",
     "output_type": "stream",
     "text": [
      "Active Learning iteration: 0\n"
     ]
    },
    {
     "name": "stderr",
     "output_type": "stream",
     "text": [
      "100%|████████████████████████████████████████████████████████████████████████████████████████████████████████████████████████████████████████████████████████| 2/2 [00:32<00:00, 16.12s/it]\n"
     ]
    },
    {
     "name": "stdout",
     "output_type": "stream",
     "text": [
      "CLS size: 1094\tActive learning...\n"
     ]
    },
    {
     "name": "stderr",
     "output_type": "stream",
     "text": [
      "100%|█████████████████████████████████████████████████████████████████████████████████████████████████████████████████████████████████████████████████| 5504/5504 [00:31<00:00, 173.19it/s]\n"
     ]
    },
    {
     "name": "stdout",
     "output_type": "stream",
     "text": [
      "Active Learning iteration: 1\n"
     ]
    },
    {
     "name": "stderr",
     "output_type": "stream",
     "text": [
      "  0%|                                                                                                                                                                | 0/2 [00:06<?, ?it/s]\n"
     ]
    },
    {
     "ename": "ZeroDivisionError",
     "evalue": "float division by zero",
     "output_type": "error",
     "traceback": [
      "\u001b[0;31m---------------------------------------------------------------------------\u001b[0m",
      "\u001b[0;31mZeroDivisionError\u001b[0m                         Traceback (most recent call last)",
      "File \u001b[0;32m<timed exec>:1\u001b[0m\n",
      "File \u001b[0;32m/vol/tensusers5/nhollain/s_clip_scripts/main.py:253\u001b[0m, in \u001b[0;36mmain\u001b[0;34m(args)\u001b[0m\n\u001b[1;32m    249\u001b[0m     \u001b[38;5;28mprint\u001b[39m(\u001b[38;5;124m'\u001b[39m\u001b[38;5;124mActive Learning iteration:\u001b[39m\u001b[38;5;124m'\u001b[39m, iteration)\n\u001b[1;32m    250\u001b[0m \u001b[38;5;28;01mfor\u001b[39;00m epoch \u001b[38;5;129;01min\u001b[39;00m tqdm(\u001b[38;5;28mrange\u001b[39m(start_epoch, args\u001b[38;5;241m.\u001b[39mepochs)):\n\u001b[1;32m    251\u001b[0m     \u001b[38;5;66;03m# print(f'Start epoch {epoch}')\u001b[39;00m\n\u001b[0;32m--> 253\u001b[0m     \u001b[43mtrain_one_epoch\u001b[49m\u001b[43m(\u001b[49m\u001b[43mmodel\u001b[49m\u001b[43m,\u001b[49m\u001b[43m \u001b[49m\u001b[43mdata\u001b[49m\u001b[43m,\u001b[49m\u001b[43m \u001b[49m\u001b[43mloss\u001b[49m\u001b[43m,\u001b[49m\u001b[43m \u001b[49m\u001b[43mepoch\u001b[49m\u001b[43m,\u001b[49m\u001b[43m \u001b[49m\u001b[43moptimizer\u001b[49m\u001b[43m,\u001b[49m\u001b[43m \u001b[49m\u001b[43mscaler\u001b[49m\u001b[43m,\u001b[49m\u001b[43m \u001b[49m\u001b[43mscheduler\u001b[49m\u001b[43m,\u001b[49m\u001b[43m \u001b[49m\u001b[43mdist_model\u001b[49m\u001b[43m,\u001b[49m\u001b[43m \u001b[49m\u001b[43margs\u001b[49m\u001b[43m,\u001b[49m\u001b[43m \u001b[49m\u001b[43mtb_writer\u001b[49m\u001b[38;5;241;43m=\u001b[39;49m\u001b[43mwriter\u001b[49m\u001b[43m)\u001b[49m\n\u001b[1;32m    254\u001b[0m     completed_epoch \u001b[38;5;241m=\u001b[39m epoch \u001b[38;5;241m+\u001b[39m \u001b[38;5;241m1\u001b[39m\n\u001b[1;32m    256\u001b[0m     \u001b[38;5;66;03m# print('Done training.')\u001b[39;00m\n",
      "File \u001b[0;32m/vol/tensusers5/nhollain/s_clip_scripts/train.py:88\u001b[0m, in \u001b[0;36mtrain_one_epoch\u001b[0;34m(model, data, loss, epoch, optimizer, scaler, scheduler, dist_model, args, tb_writer)\u001b[0m\n\u001b[1;32m     85\u001b[0m step \u001b[38;5;241m=\u001b[39m num_batches_per_epoch \u001b[38;5;241m*\u001b[39m epoch \u001b[38;5;241m+\u001b[39m i_accum\n\u001b[1;32m     87\u001b[0m \u001b[38;5;28;01mif\u001b[39;00m \u001b[38;5;129;01mnot\u001b[39;00m args\u001b[38;5;241m.\u001b[39mskip_scheduler:\n\u001b[0;32m---> 88\u001b[0m     \u001b[43mscheduler\u001b[49m\u001b[43m(\u001b[49m\u001b[43mstep\u001b[49m\u001b[43m)\u001b[49m\n\u001b[1;32m     90\u001b[0m images, texts \u001b[38;5;241m=\u001b[39m batch[:\u001b[38;5;241m2\u001b[39m]\n\u001b[1;32m     91\u001b[0m images \u001b[38;5;241m=\u001b[39m images\u001b[38;5;241m.\u001b[39mto(device\u001b[38;5;241m=\u001b[39mdevice, dtype\u001b[38;5;241m=\u001b[39mcast_dtype, non_blocking\u001b[38;5;241m=\u001b[39m\u001b[38;5;28;01mTrue\u001b[39;00m)\n",
      "File \u001b[0;32m/vol/tensusers5/nhollain/s_clip_scripts/scheduler.py:49\u001b[0m, in \u001b[0;36mcosine_lr.<locals>._lr_adjuster\u001b[0;34m(step)\u001b[0m\n\u001b[1;32m     47\u001b[0m     e \u001b[38;5;241m=\u001b[39m step \u001b[38;5;241m-\u001b[39m warmup_length\n\u001b[1;32m     48\u001b[0m     es \u001b[38;5;241m=\u001b[39m steps \u001b[38;5;241m-\u001b[39m warmup_length\n\u001b[0;32m---> 49\u001b[0m     lr \u001b[38;5;241m=\u001b[39m \u001b[38;5;241m0.5\u001b[39m \u001b[38;5;241m*\u001b[39m (\u001b[38;5;241m1\u001b[39m \u001b[38;5;241m+\u001b[39m np\u001b[38;5;241m.\u001b[39mcos(\u001b[43mnp\u001b[49m\u001b[38;5;241;43m.\u001b[39;49m\u001b[43mpi\u001b[49m\u001b[43m \u001b[49m\u001b[38;5;241;43m*\u001b[39;49m\u001b[43m \u001b[49m\u001b[43me\u001b[49m\u001b[43m \u001b[49m\u001b[38;5;241;43m/\u001b[39;49m\u001b[43m \u001b[49m\u001b[43mes\u001b[49m)) \u001b[38;5;241m*\u001b[39m base_lr\n\u001b[1;32m     50\u001b[0m assign_learning_rate(optimizer, lr)\n\u001b[1;32m     51\u001b[0m \u001b[38;5;28;01mreturn\u001b[39;00m lr\n",
      "\u001b[0;31mZeroDivisionError\u001b[0m: float division by zero"
     ]
    }
   ],
   "source": [
    "%%time\n",
    "checkpoint_path = main(args)"
   ]
  },
  {
   "cell_type": "markdown",
   "id": "f9e5d79c-3fbb-4e0b-996a-5c2556d12122",
   "metadata": {},
   "source": [
    "# Eval"
   ]
  },
  {
   "cell_type": "code",
   "execution_count": 7,
   "id": "e1218276-2fe6-40ec-a825-31cc54c0027c",
   "metadata": {},
   "outputs": [
    {
     "name": "stdout",
     "output_type": "stream",
     "text": [
      "CPU times: user 7 µs, sys: 0 ns, total: 7 µs\n",
      "Wall time: 14.8 µs\n"
     ]
    }
   ],
   "source": [
    "%%time\n",
    "# evaluate(checkpoint_path)"
   ]
  },
  {
   "cell_type": "code",
   "execution_count": null,
   "id": "bff853d9-f270-4443-9e6f-a98def1b60e1",
   "metadata": {},
   "outputs": [],
   "source": []
  }
 ],
 "metadata": {
  "kernelspec": {
   "display_name": "Python 3 (ipykernel)",
   "language": "python",
   "name": "python3"
  },
  "language_info": {
   "codemirror_mode": {
    "name": "ipython",
    "version": 3
   },
   "file_extension": ".py",
   "mimetype": "text/x-python",
   "name": "python",
   "nbconvert_exporter": "python",
   "pygments_lexer": "ipython3",
   "version": "3.10.12"
  }
 },
 "nbformat": 4,
 "nbformat_minor": 5
}
