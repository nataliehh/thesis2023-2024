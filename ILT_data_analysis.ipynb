{
 "cells": [
  {
   "cell_type": "code",
   "execution_count": 1,
   "id": "cd0f6d94",
   "metadata": {},
   "outputs": [
    {
     "name": "stdout",
     "output_type": "stream",
     "text": [
      "(26, 10)\n"
     ]
    },
    {
     "data": {
      "text/html": [
       "<div>\n",
       "<style scoped>\n",
       "    .dataframe tbody tr th:only-of-type {\n",
       "        vertical-align: middle;\n",
       "    }\n",
       "\n",
       "    .dataframe tbody tr th {\n",
       "        vertical-align: top;\n",
       "    }\n",
       "\n",
       "    .dataframe thead th {\n",
       "        text-align: right;\n",
       "    }\n",
       "</style>\n",
       "<table border=\"1\" class=\"dataframe\">\n",
       "  <thead>\n",
       "    <tr style=\"text-align: right;\">\n",
       "      <th></th>\n",
       "      <th>img</th>\n",
       "      <th>folder</th>\n",
       "      <th>naam</th>\n",
       "      <th>label</th>\n",
       "      <th>caption</th>\n",
       "      <th>start</th>\n",
       "      <th>end</th>\n",
       "      <th>flag</th>\n",
       "      <th>n_seconds</th>\n",
       "      <th>caption_length</th>\n",
       "    </tr>\n",
       "  </thead>\n",
       "  <tbody>\n",
       "    <tr>\n",
       "      <th>0</th>\n",
       "      <td>../fotos_klein2/fotos_klein2/eigenwerken/DJI_0...</td>\n",
       "      <td>eigenwerken</td>\n",
       "      <td>Lucy</td>\n",
       "      <td>Eigenwerken/water engineering</td>\n",
       "      <td>a construction site around a river and some ye...</td>\n",
       "      <td>2023-12-18T15:13:36.577</td>\n",
       "      <td>2023-12-18T15:15:12.020</td>\n",
       "      <td>False</td>\n",
       "      <td>95</td>\n",
       "      <td>22</td>\n",
       "    </tr>\n",
       "    <tr>\n",
       "      <th>1</th>\n",
       "      <td>../fotos_klein2/fotos_klein2/schepen/DJI_20230...</td>\n",
       "      <td>schepen</td>\n",
       "      <td>Lucy</td>\n",
       "      <td>Sea faring/inland shipping</td>\n",
       "      <td>some containers containing gass or stuff on a ...</td>\n",
       "      <td>2023-12-18T15:15:12.059</td>\n",
       "      <td>2023-12-18T15:16:01.399</td>\n",
       "      <td>True</td>\n",
       "      <td>49</td>\n",
       "      <td>14</td>\n",
       "    </tr>\n",
       "    <tr>\n",
       "      <th>2</th>\n",
       "      <td>../fotos_klein2/fotos_klein2/schepen/DJI_20230...</td>\n",
       "      <td>schepen</td>\n",
       "      <td>Lucy</td>\n",
       "      <td>Sea faring/inland shipping</td>\n",
       "      <td>a ship in the harbor with open latches being f...</td>\n",
       "      <td>2023-12-18T15:16:01.432</td>\n",
       "      <td>2023-12-18T15:16:59.256</td>\n",
       "      <td>False</td>\n",
       "      <td>57</td>\n",
       "      <td>17</td>\n",
       "    </tr>\n",
       "    <tr>\n",
       "      <th>3</th>\n",
       "      <td>../fotos_klein2/fotos_klein2/afvalhopen/DJI_20...</td>\n",
       "      <td>afvalhopen</td>\n",
       "      <td>Lucy</td>\n",
       "      <td>Waste storage/waste processor</td>\n",
       "      <td>aerial view of a couple of big bags next to a ...</td>\n",
       "      <td>2023-12-18T15:16:59.282</td>\n",
       "      <td>2023-12-18T15:17:28.678</td>\n",
       "      <td>False</td>\n",
       "      <td>29</td>\n",
       "      <td>12</td>\n",
       "    </tr>\n",
       "    <tr>\n",
       "      <th>4</th>\n",
       "      <td>../fotos_klein2/fotos_klein2/luchtvaart/DJI_03...</td>\n",
       "      <td>luchtvaart</td>\n",
       "      <td>Lucy</td>\n",
       "      <td>Airstrip/aviation</td>\n",
       "      <td>an arial view of an airstrip with yellow lines...</td>\n",
       "      <td>2023-12-18T15:17:28.709</td>\n",
       "      <td>2023-12-18T15:17:53.004</td>\n",
       "      <td>False</td>\n",
       "      <td>24</td>\n",
       "      <td>12</td>\n",
       "    </tr>\n",
       "    <tr>\n",
       "      <th>...</th>\n",
       "      <td>...</td>\n",
       "      <td>...</td>\n",
       "      <td>...</td>\n",
       "      <td>...</td>\n",
       "      <td>...</td>\n",
       "      <td>...</td>\n",
       "      <td>...</td>\n",
       "      <td>...</td>\n",
       "      <td>...</td>\n",
       "      <td>...</td>\n",
       "    </tr>\n",
       "    <tr>\n",
       "      <th>289</th>\n",
       "      <td>../fotos_klein2/fotos_klein2/schepen/DJI_20230...</td>\n",
       "      <td>schepen</td>\n",
       "      <td>Lucy</td>\n",
       "      <td>Sea faring/inland shipping</td>\n",
       "      <td>a stack of containers on a ship</td>\n",
       "      <td>2024-01-11T14:25:16.703</td>\n",
       "      <td>2024-01-11T14:25:39.082</td>\n",
       "      <td>False</td>\n",
       "      <td>22</td>\n",
       "      <td>7</td>\n",
       "    </tr>\n",
       "    <tr>\n",
       "      <th>290</th>\n",
       "      <td>../fotos_klein2/fotos_klein2/afvalhopen/DJI_20...</td>\n",
       "      <td>afvalhopen</td>\n",
       "      <td>Lucy</td>\n",
       "      <td>Waste storage/waste processor</td>\n",
       "      <td>the top of an open container on a truck that i...</td>\n",
       "      <td>2024-01-11T14:25:39.121</td>\n",
       "      <td>2024-01-11T14:26:05.502</td>\n",
       "      <td>False</td>\n",
       "      <td>26</td>\n",
       "      <td>22</td>\n",
       "    </tr>\n",
       "    <tr>\n",
       "      <th>291</th>\n",
       "      <td>../fotos_klein2/fotos_klein2/schepen/DJI_20230...</td>\n",
       "      <td>schepen</td>\n",
       "      <td>Lucy</td>\n",
       "      <td>Sea faring/inland shipping</td>\n",
       "      <td>the deck of a larger ship and a part of a smal...</td>\n",
       "      <td>2024-01-11T14:26:05.540</td>\n",
       "      <td>2024-01-11T14:26:31.652</td>\n",
       "      <td>False</td>\n",
       "      <td>26</td>\n",
       "      <td>16</td>\n",
       "    </tr>\n",
       "    <tr>\n",
       "      <th>292</th>\n",
       "      <td>../fotos_klein2/fotos_klein2/afvalhopen/DJI_20...</td>\n",
       "      <td>afvalhopen</td>\n",
       "      <td>Lucy</td>\n",
       "      <td>Waste storage/waste processor</td>\n",
       "      <td>a couple of empty open and closed containers i...</td>\n",
       "      <td>2024-01-11T14:27:37.332</td>\n",
       "      <td>2024-01-11T14:28:26.743</td>\n",
       "      <td>False</td>\n",
       "      <td>49</td>\n",
       "      <td>23</td>\n",
       "    </tr>\n",
       "    <tr>\n",
       "      <th>293</th>\n",
       "      <td>../fotos_klein2/fotos_klein2/afvalhopen/DJI_20...</td>\n",
       "      <td>afvalhopen</td>\n",
       "      <td>Lucy</td>\n",
       "      <td>Waste storage/waste processor</td>\n",
       "      <td>en excavator in the middle of a pile of trash</td>\n",
       "      <td>2024-01-11T14:28:26.784</td>\n",
       "      <td>2024-01-11T14:29:02.505</td>\n",
       "      <td>False</td>\n",
       "      <td>35</td>\n",
       "      <td>10</td>\n",
       "    </tr>\n",
       "  </tbody>\n",
       "</table>\n",
       "<p>294 rows × 10 columns</p>\n",
       "</div>"
      ],
      "text/plain": [
       "                                                   img       folder  naam  \\\n",
       "0    ../fotos_klein2/fotos_klein2/eigenwerken/DJI_0...  eigenwerken  Lucy   \n",
       "1    ../fotos_klein2/fotos_klein2/schepen/DJI_20230...      schepen  Lucy   \n",
       "2    ../fotos_klein2/fotos_klein2/schepen/DJI_20230...      schepen  Lucy   \n",
       "3    ../fotos_klein2/fotos_klein2/afvalhopen/DJI_20...   afvalhopen  Lucy   \n",
       "4    ../fotos_klein2/fotos_klein2/luchtvaart/DJI_03...   luchtvaart  Lucy   \n",
       "..                                                 ...          ...   ...   \n",
       "289  ../fotos_klein2/fotos_klein2/schepen/DJI_20230...      schepen  Lucy   \n",
       "290  ../fotos_klein2/fotos_klein2/afvalhopen/DJI_20...   afvalhopen  Lucy   \n",
       "291  ../fotos_klein2/fotos_klein2/schepen/DJI_20230...      schepen  Lucy   \n",
       "292  ../fotos_klein2/fotos_klein2/afvalhopen/DJI_20...   afvalhopen  Lucy   \n",
       "293  ../fotos_klein2/fotos_klein2/afvalhopen/DJI_20...   afvalhopen  Lucy   \n",
       "\n",
       "                             label  \\\n",
       "0    Eigenwerken/water engineering   \n",
       "1       Sea faring/inland shipping   \n",
       "2       Sea faring/inland shipping   \n",
       "3    Waste storage/waste processor   \n",
       "4                Airstrip/aviation   \n",
       "..                             ...   \n",
       "289     Sea faring/inland shipping   \n",
       "290  Waste storage/waste processor   \n",
       "291     Sea faring/inland shipping   \n",
       "292  Waste storage/waste processor   \n",
       "293  Waste storage/waste processor   \n",
       "\n",
       "                                               caption  \\\n",
       "0    a construction site around a river and some ye...   \n",
       "1    some containers containing gass or stuff on a ...   \n",
       "2    a ship in the harbor with open latches being f...   \n",
       "3    aerial view of a couple of big bags next to a ...   \n",
       "4    an arial view of an airstrip with yellow lines...   \n",
       "..                                                 ...   \n",
       "289                    a stack of containers on a ship   \n",
       "290  the top of an open container on a truck that i...   \n",
       "291  the deck of a larger ship and a part of a smal...   \n",
       "292  a couple of empty open and closed containers i...   \n",
       "293      en excavator in the middle of a pile of trash   \n",
       "\n",
       "                       start                      end   flag  n_seconds  \\\n",
       "0    2023-12-18T15:13:36.577  2023-12-18T15:15:12.020  False         95   \n",
       "1    2023-12-18T15:15:12.059  2023-12-18T15:16:01.399   True         49   \n",
       "2    2023-12-18T15:16:01.432  2023-12-18T15:16:59.256  False         57   \n",
       "3    2023-12-18T15:16:59.282  2023-12-18T15:17:28.678  False         29   \n",
       "4    2023-12-18T15:17:28.709  2023-12-18T15:17:53.004  False         24   \n",
       "..                       ...                      ...    ...        ...   \n",
       "289  2024-01-11T14:25:16.703  2024-01-11T14:25:39.082  False         22   \n",
       "290  2024-01-11T14:25:39.121  2024-01-11T14:26:05.502  False         26   \n",
       "291  2024-01-11T14:26:05.540  2024-01-11T14:26:31.652  False         26   \n",
       "292  2024-01-11T14:27:37.332  2024-01-11T14:28:26.743  False         49   \n",
       "293  2024-01-11T14:28:26.784  2024-01-11T14:29:02.505  False         35   \n",
       "\n",
       "     caption_length  \n",
       "0                22  \n",
       "1                14  \n",
       "2                17  \n",
       "3                12  \n",
       "4                12  \n",
       "..              ...  \n",
       "289               7  \n",
       "290              22  \n",
       "291              16  \n",
       "292              23  \n",
       "293              10  \n",
       "\n",
       "[294 rows x 10 columns]"
      ]
     },
     "metadata": {},
     "output_type": "display_data"
    },
    {
     "name": "stdout",
     "output_type": "stream",
     "text": [
      "Columns: ['img', 'folder', 'naam', 'label', 'caption', 'start', 'end', 'flag', 'n_seconds', 'caption_length']\n",
      "Total annotations: (294, 10)\n",
      "Number of annotated images: (124,)\n"
     ]
    }
   ],
   "source": [
    "import pandas as pd\n",
    "import matplotlib.pyplot as plt\n",
    "import numpy as np\n",
    "import re\n",
    "\n",
    "annotation_path = './data/ILT_data/ILT_data_annotations.csv'\n",
    "df = pd.read_csv(annotation_path, index_col = 0)\n",
    "\n",
    "# Caption length is computed based on a crude tokenization of the caption\n",
    "df['caption_length'] = df['caption'].map(lambda x: len(re.split(r'[\\s,.]', x)))\n",
    "print(df[df['caption_length'] < 3].shape)\n",
    "display(df)\n",
    "print('Columns:', df.columns.tolist())\n",
    "print('Total annotations:', df.shape)\n",
    "print('Number of annotated images:', df['img'].unique().shape)"
   ]
  },
  {
   "cell_type": "code",
   "execution_count": 2,
   "id": "b74238b6",
   "metadata": {},
   "outputs": [],
   "source": [
    "def get_stats(lst, rounded = -1):\n",
    "    stats_dict = {\n",
    "        'shape': np.array(lst).shape,\n",
    "        'mean': np.mean(lst), \n",
    "        'median': np.median(lst), \n",
    "        'std': np.std(lst), \n",
    "        'min': np.min(lst), \n",
    "        'max': np.max(lst)\n",
    "    }\n",
    "    if rounded > 0:\n",
    "        for key in stats_dict:\n",
    "            if key != 'shape':\n",
    "                stats_dict[key] = round(stats_dict[key], rounded)\n",
    "    return stats_dict"
   ]
  },
  {
   "cell_type": "code",
   "execution_count": 3,
   "id": "8f60fb45",
   "metadata": {},
   "outputs": [
    {
     "data": {
      "image/png": "[encoded data removed]",
      "text/plain": [
       "<Figure size 640x480 with 1 Axes>"
      ]
     },
     "metadata": {},
     "output_type": "display_data"
    }
   ],
   "source": [
    "annotator_counts = df['naam'].value_counts()\n",
    "names, freq = annotator_counts.index.tolist(), annotator_counts.values.tolist()\n",
    "\n",
    "plt.bar(names, freq)\n",
    "plt.xlabel('Annotator')\n",
    "plt.ylabel('Num. of annotations')\n",
    "plt.title('The number of annotations contributed by every annotator')\n",
    "plt.savefig('./images/num_annotations_per_annotator.pdf', transparent = True, bbox_inches='tight')\n",
    "plt.show()"
   ]
  },
  {
   "cell_type": "code",
   "execution_count": 4,
   "id": "71669680",
   "metadata": {},
   "outputs": [
    {
     "data": {
      "text/plain": [
       "{'shape': (8,),\n",
       " 'mean': 36.75,\n",
       " 'median': 21.5,\n",
       " 'std': 36.67338953519295,\n",
       " 'min': 7,\n",
       " 'max': 109}"
      ]
     },
     "execution_count": 4,
     "metadata": {},
     "output_type": "execute_result"
    }
   ],
   "source": [
    "get_stats(freq)"
   ]
  },
  {
   "cell_type": "code",
   "execution_count": 5,
   "id": "797aa5aa",
   "metadata": {},
   "outputs": [
    {
     "data": {
      "image/png": "[encoded data removed]",
      "text/plain": [
       "<Figure size 640x480 with 1 Axes>"
      ]
     },
     "metadata": {},
     "output_type": "display_data"
    },
    {
     "name": "stdout",
     "output_type": "stream",
     "text": [
      "3    69\n",
      "2    32\n",
      "1    23\n",
      "Name: caption, dtype: int64\n",
      "3 69\n",
      "2 32\n",
      "1 23\n",
      "{'shape': (124,), 'mean': 2.370967741935484, 'median': 3.0, 'std': 0.7773791985345737, 'min': 1, 'max': 3}\n"
     ]
    }
   ],
   "source": [
    "# Count the number of times images are labeled\n",
    "img_counts = df.groupby('img').agg('count')['caption'].value_counts()\n",
    "num_annotations, freq = img_counts.index.tolist(), img_counts.values.tolist()\n",
    "num_annotations = [str(n) for n in num_annotations]\n",
    "plt.bar(num_annotations, freq)\n",
    "plt.xlabel('Number of annotations')\n",
    "plt.ylabel('Number of images')\n",
    "plt.title('The number of annotations per image')\n",
    "plt.savefig('./images/num_annotations_per_image.pdf', transparent = True, bbox_inches='tight')\n",
    "plt.show()\n",
    "print(img_counts)\n",
    "caption_freqs = []\n",
    "for count in img_counts.keys():\n",
    "    print(count, img_counts[count])\n",
    "    # We have a list of num. of captions, and how many images have that many captions\n",
    "    # Here, we repeat the num. of captions times how many images have that many captions\n",
    "    caption_freqs.extend([count] * img_counts[count])\n",
    "print(get_stats(caption_freqs))"
   ]
  },
  {
   "cell_type": "code",
   "execution_count": 6,
   "id": "9c276e23",
   "metadata": {},
   "outputs": [
    {
     "data": {
      "image/png": "[encoded data removed]",
      "text/plain": [
       "<Figure size 640x480 with 1 Axes>"
      ]
     },
     "metadata": {},
     "output_type": "display_data"
    },
    {
     "name": "stdout",
     "output_type": "stream",
     "text": [
      "False    245\n",
      "True      49\n",
      "Name: flag, dtype: int64\n"
     ]
    }
   ],
   "source": [
    "# Count how many images were flagged as being hard to label\n",
    "flag_counts = df['flag'].value_counts()\n",
    "flag, freq = flag_counts.index.tolist(), flag_counts.values.tolist()\n",
    "flag = [str(f) for f in flag]\n",
    "plt.bar(flag, freq)\n",
    "plt.xlabel('Flag')\n",
    "plt.ylabel('Number of images')\n",
    "plt.title('Flagged images distribution (True = flagged image)')\n",
    "plt.savefig('./images/flag_distribution.pdf', transparent = True, bbox_inches='tight')\n",
    "plt.show()\n",
    "print(flag_counts)"
   ]
  },
  {
   "cell_type": "code",
   "execution_count": 7,
   "id": "c5a1b566",
   "metadata": {},
   "outputs": [
    {
     "data": {
      "image/png": "[encoded data removed]",
      "text/plain": [
       "<Figure size 640x480 with 1 Axes>"
      ]
     },
     "metadata": {},
     "output_type": "display_data"
    },
    {
     "name": "stdout",
     "output_type": "stream",
     "text": [
      "Sea faring/inland shipping       87\n",
      "Miscellaneous                    60\n",
      "Waste storage/waste processor    52\n",
      "Eigenwerken/water engineering    46\n",
      "Airstrip/aviation                41\n",
      "Waste transport                   8\n",
      "Name: label, dtype: int64\n"
     ]
    }
   ],
   "source": [
    "import textwrap\n",
    "# Count the frequency of labels\n",
    "label_counts = df['label'].value_counts()\n",
    "label, freq = label_counts.index.tolist(), label_counts.values.tolist()\n",
    "label = [textwrap.fill(l, 20) for l in label]\n",
    "plt.bar(label, freq)\n",
    "plt.xlabel('Label')\n",
    "plt.xticks(rotation=90)\n",
    "plt.ylabel('Number of images')\n",
    "plt.title('The distribution of the labels')\n",
    "plt.savefig('./images/label_distribution.pdf', transparent = True, bbox_inches='tight')\n",
    "plt.show()\n",
    "\n",
    "print(label_counts)"
   ]
  },
  {
   "cell_type": "code",
   "execution_count": 8,
   "id": "68c0017f",
   "metadata": {},
   "outputs": [
    {
     "data": {
      "image/png": "[encoded data removed]",
      "text/plain": [
       "<Figure size 640x480 with 1 Axes>"
      ]
     },
     "metadata": {},
     "output_type": "display_data"
    },
    {
     "data": {
      "text/plain": [
       "<Figure size 640x480 with 0 Axes>"
      ]
     },
     "metadata": {},
     "output_type": "display_data"
    },
    {
     "name": "stdout",
     "output_type": "stream",
     "text": [
      "{'shape': (294,), 'mean': 55.56, 'median': 37.5, 'std': 60.46, 'min': 7, 'max': 537}\n"
     ]
    }
   ],
   "source": [
    "# Plot the annotation durations\n",
    "filter_outliers = False\n",
    "if filter_outliers:\n",
    "    annotation_duration = df[df['n_seconds']< 250]['n_seconds']\n",
    "else:\n",
    "    annotation_duration = df['n_seconds']\n",
    "\n",
    "plt.hist(annotation_duration, bins = 30)\n",
    "plt.xlabel('Duration (seconds)')\n",
    "plt.ylabel('Frequency')\n",
    "plt.title('Time taken to annotate the images (in seconds)')\n",
    "plt.show()\n",
    "plt.savefig('./images/annotation_duration.pdf', transparent = True, bbox_inches='tight')\n",
    "plt.show()\n",
    "print(get_stats(annotation_duration, rounded = 2))"
   ]
  },
  {
   "cell_type": "code",
   "execution_count": 9,
   "id": "77b90d12",
   "metadata": {},
   "outputs": [
    {
     "data": {
      "image/png": "[encoded data removed]",
      "text/plain": [
       "<Figure size 300x600 with 1 Axes>"
      ]
     },
     "metadata": {},
     "output_type": "display_data"
    }
   ],
   "source": [
    "fig, _ = plt.subplots(figsize=(3, 6))\n",
    "boxplot = plt.boxplot(annotation_duration)\n",
    "plt.ylabel('Duration (in seconds)')\n",
    "plt.title('Boxplot of the time taken to annotate the images (in seconds)')\n",
    "plt.savefig('./images/annotation_duration_boxplot.pdf', transparent = True, bbox_inches='tight')\n",
    "plt.show()"
   ]
  },
  {
   "cell_type": "code",
   "execution_count": 10,
   "id": "d448e700",
   "metadata": {},
   "outputs": [
    {
     "data": {
      "text/plain": [
       "((20,), array([37.5, 37.5]))"
      ]
     },
     "execution_count": 10,
     "metadata": {},
     "output_type": "execute_result"
    }
   ],
   "source": [
    "outliers = [flier.get_ydata() for flier in boxplot[\"fliers\"]]\n",
    "boxes = [box.get_ydata() for box in boxplot[\"boxes\"]]\n",
    "medians = [median.get_ydata() for median in boxplot[\"medians\"]]\n",
    "whiskers = [whiskers.get_ydata() for whiskers in boxplot[\"whiskers\"]]\n",
    "outliers[0].shape, medians[0]"
   ]
  },
  {
   "cell_type": "code",
   "execution_count": 11,
   "id": "3e71865a",
   "metadata": {},
   "outputs": [
    {
     "data": {
      "image/png": "[encoded data removed]",
      "text/plain": [
       "<Figure size 300x600 with 1 Axes>"
      ]
     },
     "metadata": {},
     "output_type": "display_data"
    }
   ],
   "source": [
    "fig, _ = plt.subplots(figsize=(3, 6))\n",
    "boxplot = plt.boxplot(df['caption_length'])\n",
    "plt.ylabel('Number of words')\n",
    "plt.title('Boxplot of the caption length (number of words)')\n",
    "plt.savefig('./images/caption_length.pdf', transparent = True, bbox_inches='tight')\n",
    "plt.show()"
   ]
  },
  {
   "cell_type": "code",
   "execution_count": 12,
   "id": "0338a963",
   "metadata": {},
   "outputs": [
    {
     "data": {
      "text/plain": [
       "((0,), array([11., 11.]))"
      ]
     },
     "execution_count": 12,
     "metadata": {},
     "output_type": "execute_result"
    }
   ],
   "source": [
    "outliers = [flier.get_ydata() for flier in boxplot[\"fliers\"]]\n",
    "boxes = [box.get_ydata() for box in boxplot[\"boxes\"]]\n",
    "medians = [median.get_ydata() for median in boxplot[\"medians\"]]\n",
    "whiskers = [whiskers.get_ydata() for whiskers in boxplot[\"whiskers\"]]\n",
    "outliers[0].shape, medians[0]"
   ]
  },
  {
   "cell_type": "code",
   "execution_count": 13,
   "id": "bb8834a1",
   "metadata": {},
   "outputs": [],
   "source": [
    "# df = df.replace('Waste transport', 'Waste storage/waste processor')"
   ]
  },
  {
   "cell_type": "code",
   "execution_count": 14,
   "id": "1235cc7b",
   "metadata": {},
   "outputs": [
    {
     "data": {
      "text/html": [
       "<div>\n",
       "<style scoped>\n",
       "    .dataframe tbody tr th:only-of-type {\n",
       "        vertical-align: middle;\n",
       "    }\n",
       "\n",
       "    .dataframe tbody tr th {\n",
       "        vertical-align: top;\n",
       "    }\n",
       "\n",
       "    .dataframe thead th {\n",
       "        text-align: right;\n",
       "    }\n",
       "</style>\n",
       "<table border=\"1\" class=\"dataframe\">\n",
       "  <thead>\n",
       "    <tr style=\"text-align: right;\">\n",
       "      <th></th>\n",
       "      <th>img</th>\n",
       "      <th>label_counts</th>\n",
       "      <th>more_than_one_label</th>\n",
       "    </tr>\n",
       "  </thead>\n",
       "  <tbody>\n",
       "    <tr>\n",
       "      <th>0</th>\n",
       "      <td>../fotos_klein2/fotos_klein2/afvalhopen/DJI_20...</td>\n",
       "      <td>[2, 1]</td>\n",
       "      <td>True</td>\n",
       "    </tr>\n",
       "    <tr>\n",
       "      <th>1</th>\n",
       "      <td>../fotos_klein2/fotos_klein2/afvalhopen/DJI_20...</td>\n",
       "      <td>[3]</td>\n",
       "      <td>False</td>\n",
       "    </tr>\n",
       "    <tr>\n",
       "      <th>2</th>\n",
       "      <td>../fotos_klein2/fotos_klein2/afvalhopen/DJI_20...</td>\n",
       "      <td>[1]</td>\n",
       "      <td>False</td>\n",
       "    </tr>\n",
       "    <tr>\n",
       "      <th>3</th>\n",
       "      <td>../fotos_klein2/fotos_klein2/afvalhopen/DJI_20...</td>\n",
       "      <td>[2, 1]</td>\n",
       "      <td>True</td>\n",
       "    </tr>\n",
       "    <tr>\n",
       "      <th>4</th>\n",
       "      <td>../fotos_klein2/fotos_klein2/afvalhopen/DJI_20...</td>\n",
       "      <td>[3]</td>\n",
       "      <td>False</td>\n",
       "    </tr>\n",
       "    <tr>\n",
       "      <th>...</th>\n",
       "      <td>...</td>\n",
       "      <td>...</td>\n",
       "      <td>...</td>\n",
       "    </tr>\n",
       "    <tr>\n",
       "      <th>119</th>\n",
       "      <td>../fotos_klein2/fotos_klein2/schepen/DJI_20230...</td>\n",
       "      <td>[1]</td>\n",
       "      <td>False</td>\n",
       "    </tr>\n",
       "    <tr>\n",
       "      <th>120</th>\n",
       "      <td>../fotos_klein2/fotos_klein2/schepen/DJI_20231...</td>\n",
       "      <td>[1]</td>\n",
       "      <td>False</td>\n",
       "    </tr>\n",
       "    <tr>\n",
       "      <th>121</th>\n",
       "      <td>../fotos_klein2/fotos_klein2/schepen/DJI_20231...</td>\n",
       "      <td>[2, 1]</td>\n",
       "      <td>True</td>\n",
       "    </tr>\n",
       "    <tr>\n",
       "      <th>122</th>\n",
       "      <td>../fotos_klein2/fotos_klein2/schepen/DJI_20231...</td>\n",
       "      <td>[3]</td>\n",
       "      <td>False</td>\n",
       "    </tr>\n",
       "    <tr>\n",
       "      <th>123</th>\n",
       "      <td>../fotos_klein2/fotos_klein2/schepen/DJI_20231...</td>\n",
       "      <td>[3]</td>\n",
       "      <td>False</td>\n",
       "    </tr>\n",
       "  </tbody>\n",
       "</table>\n",
       "<p>124 rows × 3 columns</p>\n",
       "</div>"
      ],
      "text/plain": [
       "                                                   img label_counts  \\\n",
       "0    ../fotos_klein2/fotos_klein2/afvalhopen/DJI_20...       [2, 1]   \n",
       "1    ../fotos_klein2/fotos_klein2/afvalhopen/DJI_20...          [3]   \n",
       "2    ../fotos_klein2/fotos_klein2/afvalhopen/DJI_20...          [1]   \n",
       "3    ../fotos_klein2/fotos_klein2/afvalhopen/DJI_20...       [2, 1]   \n",
       "4    ../fotos_klein2/fotos_klein2/afvalhopen/DJI_20...          [3]   \n",
       "..                                                 ...          ...   \n",
       "119  ../fotos_klein2/fotos_klein2/schepen/DJI_20230...          [1]   \n",
       "120  ../fotos_klein2/fotos_klein2/schepen/DJI_20231...          [1]   \n",
       "121  ../fotos_klein2/fotos_klein2/schepen/DJI_20231...       [2, 1]   \n",
       "122  ../fotos_klein2/fotos_klein2/schepen/DJI_20231...          [3]   \n",
       "123  ../fotos_klein2/fotos_klein2/schepen/DJI_20231...          [3]   \n",
       "\n",
       "     more_than_one_label  \n",
       "0                   True  \n",
       "1                  False  \n",
       "2                  False  \n",
       "3                   True  \n",
       "4                  False  \n",
       "..                   ...  \n",
       "119                False  \n",
       "120                False  \n",
       "121                 True  \n",
       "122                False  \n",
       "123                False  \n",
       "\n",
       "[124 rows x 3 columns]"
      ]
     },
     "metadata": {},
     "output_type": "display_data"
    },
    {
     "data": {
      "text/plain": [
       "False    91\n",
       "True     33\n",
       "Name: more_than_one_label, dtype: int64"
      ]
     },
     "execution_count": 14,
     "metadata": {},
     "output_type": "execute_result"
    }
   ],
   "source": [
    "# Get the value counts for the labels, per image\n",
    "label_counts = df.groupby('img')['label'].agg([('label_counts', lambda x: list(x.value_counts()))]).reset_index()\n",
    "# Obtain which images have been labeled with more than one kind of label\n",
    "label_counts['more_than_one_label'] = label_counts['label_counts'].map(lambda x: len(x) > 1)\n",
    "display(label_counts)\n",
    "label_counts['more_than_one_label'].value_counts()"
   ]
  },
  {
   "cell_type": "code",
   "execution_count": 15,
   "id": "492cf4a5",
   "metadata": {},
   "outputs": [],
   "source": [
    "df = df.replace('Waste transport', 'Waste storage/waste processor')"
   ]
  },
  {
   "cell_type": "code",
   "execution_count": 16,
   "id": "0008199d",
   "metadata": {},
   "outputs": [
    {
     "data": {
      "text/html": [
       "<div>\n",
       "<style scoped>\n",
       "    .dataframe tbody tr th:only-of-type {\n",
       "        vertical-align: middle;\n",
       "    }\n",
       "\n",
       "    .dataframe tbody tr th {\n",
       "        vertical-align: top;\n",
       "    }\n",
       "\n",
       "    .dataframe thead th {\n",
       "        text-align: right;\n",
       "    }\n",
       "</style>\n",
       "<table border=\"1\" class=\"dataframe\">\n",
       "  <thead>\n",
       "    <tr style=\"text-align: right;\">\n",
       "      <th></th>\n",
       "      <th>img</th>\n",
       "      <th>label_counts</th>\n",
       "      <th>more_than_one_label</th>\n",
       "    </tr>\n",
       "  </thead>\n",
       "  <tbody>\n",
       "    <tr>\n",
       "      <th>0</th>\n",
       "      <td>../fotos_klein2/fotos_klein2/afvalhopen/DJI_20...</td>\n",
       "      <td>[3]</td>\n",
       "      <td>False</td>\n",
       "    </tr>\n",
       "    <tr>\n",
       "      <th>1</th>\n",
       "      <td>../fotos_klein2/fotos_klein2/afvalhopen/DJI_20...</td>\n",
       "      <td>[3]</td>\n",
       "      <td>False</td>\n",
       "    </tr>\n",
       "    <tr>\n",
       "      <th>2</th>\n",
       "      <td>../fotos_klein2/fotos_klein2/afvalhopen/DJI_20...</td>\n",
       "      <td>[1]</td>\n",
       "      <td>False</td>\n",
       "    </tr>\n",
       "    <tr>\n",
       "      <th>3</th>\n",
       "      <td>../fotos_klein2/fotos_klein2/afvalhopen/DJI_20...</td>\n",
       "      <td>[3]</td>\n",
       "      <td>False</td>\n",
       "    </tr>\n",
       "    <tr>\n",
       "      <th>4</th>\n",
       "      <td>../fotos_klein2/fotos_klein2/afvalhopen/DJI_20...</td>\n",
       "      <td>[3]</td>\n",
       "      <td>False</td>\n",
       "    </tr>\n",
       "    <tr>\n",
       "      <th>...</th>\n",
       "      <td>...</td>\n",
       "      <td>...</td>\n",
       "      <td>...</td>\n",
       "    </tr>\n",
       "    <tr>\n",
       "      <th>119</th>\n",
       "      <td>../fotos_klein2/fotos_klein2/schepen/DJI_20230...</td>\n",
       "      <td>[1]</td>\n",
       "      <td>False</td>\n",
       "    </tr>\n",
       "    <tr>\n",
       "      <th>120</th>\n",
       "      <td>../fotos_klein2/fotos_klein2/schepen/DJI_20231...</td>\n",
       "      <td>[1]</td>\n",
       "      <td>False</td>\n",
       "    </tr>\n",
       "    <tr>\n",
       "      <th>121</th>\n",
       "      <td>../fotos_klein2/fotos_klein2/schepen/DJI_20231...</td>\n",
       "      <td>[2, 1]</td>\n",
       "      <td>True</td>\n",
       "    </tr>\n",
       "    <tr>\n",
       "      <th>122</th>\n",
       "      <td>../fotos_klein2/fotos_klein2/schepen/DJI_20231...</td>\n",
       "      <td>[3]</td>\n",
       "      <td>False</td>\n",
       "    </tr>\n",
       "    <tr>\n",
       "      <th>123</th>\n",
       "      <td>../fotos_klein2/fotos_klein2/schepen/DJI_20231...</td>\n",
       "      <td>[3]</td>\n",
       "      <td>False</td>\n",
       "    </tr>\n",
       "  </tbody>\n",
       "</table>\n",
       "<p>124 rows × 3 columns</p>\n",
       "</div>"
      ],
      "text/plain": [
       "                                                   img label_counts  \\\n",
       "0    ../fotos_klein2/fotos_klein2/afvalhopen/DJI_20...          [3]   \n",
       "1    ../fotos_klein2/fotos_klein2/afvalhopen/DJI_20...          [3]   \n",
       "2    ../fotos_klein2/fotos_klein2/afvalhopen/DJI_20...          [1]   \n",
       "3    ../fotos_klein2/fotos_klein2/afvalhopen/DJI_20...          [3]   \n",
       "4    ../fotos_klein2/fotos_klein2/afvalhopen/DJI_20...          [3]   \n",
       "..                                                 ...          ...   \n",
       "119  ../fotos_klein2/fotos_klein2/schepen/DJI_20230...          [1]   \n",
       "120  ../fotos_klein2/fotos_klein2/schepen/DJI_20231...          [1]   \n",
       "121  ../fotos_klein2/fotos_klein2/schepen/DJI_20231...       [2, 1]   \n",
       "122  ../fotos_klein2/fotos_klein2/schepen/DJI_20231...          [3]   \n",
       "123  ../fotos_klein2/fotos_klein2/schepen/DJI_20231...          [3]   \n",
       "\n",
       "     more_than_one_label  \n",
       "0                  False  \n",
       "1                  False  \n",
       "2                  False  \n",
       "3                  False  \n",
       "4                  False  \n",
       "..                   ...  \n",
       "119                False  \n",
       "120                False  \n",
       "121                 True  \n",
       "122                False  \n",
       "123                False  \n",
       "\n",
       "[124 rows x 3 columns]"
      ]
     },
     "metadata": {},
     "output_type": "display_data"
    },
    {
     "data": {
      "text/plain": [
       "False    94\n",
       "True     30\n",
       "Name: more_than_one_label, dtype: int64"
      ]
     },
     "execution_count": 16,
     "metadata": {},
     "output_type": "execute_result"
    }
   ],
   "source": [
    "# Get the value counts for the labels, per image\n",
    "label_counts = df.groupby('img')['label'].agg([('label_counts', lambda x: list(x.value_counts()))]).reset_index()\n",
    "# Obtain which images have been labeled with more than one kind of label\n",
    "label_counts['more_than_one_label'] = label_counts['label_counts'].map(lambda x: len(x) > 1)\n",
    "display(label_counts)\n",
    "label_counts['more_than_one_label'].value_counts()"
   ]
  },
  {
   "cell_type": "code",
   "execution_count": 17,
   "id": "b577e235",
   "metadata": {},
   "outputs": [],
   "source": [
    "# Make a dictionary with keys=voters, values=label votes\n",
    "# I.e. keep track of which label each voter/annotator assigned to each image\n",
    "raters = df['naam'].unique()\n",
    "\n",
    "# Dictionary to convert a label to an integer value\n",
    "labels_int = {label:i for i, label in enumerate(df['label'].unique().tolist())}\n",
    "\n",
    "# The dictionary keeping track of the raters and their votes\n",
    "rater_votes = {r:[] for r in raters}\n",
    "\n",
    "for img in df['img'].unique():\n",
    "    for rater in raters:\n",
    "        votes = df[(df['img'] == img) & (df['naam'] == rater)]['label'].tolist()\n",
    "        # If the voter/annotator didn't assign a label, use a placeholder vote (-1)\n",
    "        vote = -1 if len(votes) == 0 else labels_int[votes[0]]\n",
    "        rater_votes[rater].append(vote)"
   ]
  },
  {
   "cell_type": "code",
   "execution_count": 18,
   "id": "2b89e978",
   "metadata": {},
   "outputs": [
    {
     "name": "stdout",
     "output_type": "stream",
     "text": [
      "Krippendorff alpha = 0.686\n"
     ]
    }
   ],
   "source": [
    "# Computing inter-rater reliability based on the labels\n",
    "from statsmodels.stats import inter_rater as irr\n",
    "from krippendorff_alpha import krippendorff_alpha\n",
    "\n",
    "# Make an array of the raters and their votes\n",
    "votes_arr = np.array(list(rater_votes.values()))\n",
    "\n",
    "# Compute the krippendorff alpha (= inter-rater reliability), using -1 as placeholder vote\n",
    "alpha = krippendorff_alpha(votes_arr, missing_items = [-1]) \n",
    "print(f'Krippendorff alpha = {round(alpha, 3)}')"
   ]
  },
  {
   "cell_type": "code",
   "execution_count": 19,
   "id": "fbfbd756",
   "metadata": {},
   "outputs": [
    {
     "name": "stderr",
     "output_type": "stream",
     "text": [
      "[nltk_data] Downloading package wordnet to C:\\Users\\natalie-\n",
      "[nltk_data]     hollain\\AppData\\Roaming\\nltk_data...\n",
      "[nltk_data]   Package wordnet is already up-to-date!\n",
      "C:\\Users\\natalie-hollain\\AppData\\Local\\Programs\\Python\\Python311\\Lib\\site-packages\\nltk\\translate\\bleu_score.py:552: UserWarning: \n",
      "The hypothesis contains 0 counts of 2-gram overlaps.\n",
      "Therefore the BLEU score evaluates to 0, independently of\n",
      "how many N-gram overlaps of lower order it contains.\n",
      "Consider using lower n-gram order or use SmoothingFunction()\n",
      "  warnings.warn(_msg)\n",
      "C:\\Users\\natalie-hollain\\AppData\\Local\\Programs\\Python\\Python311\\Lib\\site-packages\\nltk\\translate\\bleu_score.py:552: UserWarning: \n",
      "The hypothesis contains 0 counts of 3-gram overlaps.\n",
      "Therefore the BLEU score evaluates to 0, independently of\n",
      "how many N-gram overlaps of lower order it contains.\n",
      "Consider using lower n-gram order or use SmoothingFunction()\n",
      "  warnings.warn(_msg)\n",
      "C:\\Users\\natalie-hollain\\AppData\\Local\\Programs\\Python\\Python311\\Lib\\site-packages\\nltk\\translate\\bleu_score.py:552: UserWarning: \n",
      "The hypothesis contains 0 counts of 4-gram overlaps.\n",
      "Therefore the BLEU score evaluates to 0, independently of\n",
      "how many N-gram overlaps of lower order it contains.\n",
      "Consider using lower n-gram order or use SmoothingFunction()\n",
      "  warnings.warn(_msg)\n"
     ]
    }
   ],
   "source": [
    "import nltk\n",
    "nltk.download('wordnet')\n",
    "from nltk.translate.bleu_score import sentence_bleu as bleu\n",
    "from nltk.translate.meteor_score import meteor_score\n",
    "captions_per_img = df.groupby('img')['caption'].agg(lambda x: list(x))\n",
    "\n",
    "bleu_1, bleu_2, meteor = [], [], []\n",
    "ngram_1 = (1,0,0,0)\n",
    "ngram_2 = (0,1,0,0)\n",
    "\n",
    "for i, captions in enumerate(captions_per_img):\n",
    "    if len(captions) == 1: # Skip if we can't calculate inter-rater reliability\n",
    "        continue\n",
    "    bleu_1_img, bleu_2_img, meteor_img = [], [], []\n",
    "    for caption in captions:\n",
    "        rem_captions = list(set(captions)-set([caption]))\n",
    "        references = [nltk.word_tokenize(c) for c in rem_captions]\n",
    "        candidate = nltk.word_tokenize(caption)\n",
    "        score_n1 = bleu(references, candidate, weights = ngram_1)\n",
    "        score_n2 = bleu(references, candidate, weights = ngram_2)\n",
    "        meteor_caption = meteor_score(references, candidate)\n",
    "        bleu_1_img.append(score_n1)\n",
    "        bleu_2_img.append(score_n2)\n",
    "        meteor_img.append(meteor_caption)\n",
    "#         bleu_1.append(score_n1)\n",
    "#         bleu_2.append(score_n2)\n",
    "    bleu_1.append(sum(bleu_1_img)/len(captions))\n",
    "    bleu_2.append(sum(bleu_2_img)/len(captions))\n",
    "    meteor.append(sum(meteor_img)/len(captions))\n"
   ]
  },
  {
   "cell_type": "code",
   "execution_count": 20,
   "id": "2c359498",
   "metadata": {},
   "outputs": [
    {
     "data": {
      "text/plain": [
       "(0.2753082236611463, 0.08792834366202604, 0.2564339139942195)"
      ]
     },
     "execution_count": 20,
     "metadata": {},
     "output_type": "execute_result"
    }
   ],
   "source": [
    "sum(bleu_1)/len(bleu_1), sum(bleu_2)/len(bleu_2), sum(meteor)/len(meteor)"
   ]
  },
  {
   "cell_type": "code",
   "execution_count": 21,
   "id": "780a5405",
   "metadata": {},
   "outputs": [],
   "source": [
    "import json \n",
    "# Compare to RSICD, UCM and Sydney\n",
    "with open('./data/RSICD/dataset_rsicd.json', 'r') as f:\n",
    "    rsicd_data = json.load(f)\n",
    "with open('./data/UCM_captions/dataset.json', 'r') as f:\n",
    "    ucm_data = json.load(f)\n",
    "with open('./data/sydney_captions/dataset.json', 'r') as f:\n",
    "    sydney_data = json.load(f)"
   ]
  },
  {
   "cell_type": "code",
   "execution_count": 22,
   "id": "aeb82b8f",
   "metadata": {},
   "outputs": [
    {
     "name": "stdout",
     "output_type": "stream",
     "text": [
      "(0.45877827313890773, 0.15960970220107545, 0.34667159996706026)\n",
      "(0.843385993947597, 0.7286024056485753, 0.786156689299765)\n",
      "(0.8066597833486252, 0.6431382841525215, 0.7570820743328386)\n"
     ]
    }
   ],
   "source": [
    "rsicd_sentences = [d['sentences'] for d in rsicd_data['images']]\n",
    "ucm_sentences = [d['sentences'] for d in ucm_data['images']]\n",
    "sydney_sentences = [d['sentences'] for d in sydney_data['images']]\n",
    "\n",
    "def compute_bleu_and_meteor(sentences):\n",
    "    bleu_1, bleu_2, meteor = [], [], []\n",
    "    ngram_1 = (1,0,0,0)\n",
    "    ngram_2 = (0,1,0,0)\n",
    "\n",
    "    for captions in sentences:\n",
    "        captions = [c['raw'] for c in captions]  \n",
    "        \n",
    "        if len(set(captions)) == 1: # Skip if we can't calculate inter-rater reliability\n",
    "            continue\n",
    "        bleu_1_img, bleu_2_img, meteor_img = [], [], []\n",
    "        for caption in captions:\n",
    "            rem_captions = list(set(captions)-set([caption]))\n",
    "            references = [nltk.word_tokenize(c) for c in rem_captions]\n",
    "            candidate = nltk.word_tokenize(caption)\n",
    "            score_n1 = bleu(references, candidate, weights = ngram_1)\n",
    "            score_n2 = bleu(references, candidate, weights = ngram_2)\n",
    "            meteor_caption = meteor_score(references, candidate)\n",
    "            bleu_1_img.append(score_n1)\n",
    "            bleu_2_img.append(score_n2)\n",
    "            meteor_img.append(meteor_caption)\n",
    "#             bleu_1.append(score_n1)\n",
    "#             bleu_2.append(score_n2)\n",
    "        bleu_1.append(sum(bleu_1_img)/len(captions))\n",
    "        bleu_2.append(sum(bleu_2_img)/len(captions))\n",
    "        meteor.append(sum(meteor_img)/len(captions))\n",
    "    bleu_1 = sum(bleu_1)/len(bleu_1)\n",
    "    bleu_2 = sum(bleu_2)/len(bleu_2)\n",
    "    meteor = sum(meteor)/len(meteor)\n",
    "    return bleu_1, bleu_2, meteor\n",
    "print(compute_bleu_and_meteor(rsicd_sentences))\n",
    "print(compute_bleu_and_meteor(ucm_sentences))\n",
    "print(compute_bleu_and_meteor(sydney_sentences))\n"
   ]
  },
  {
   "cell_type": "code",
   "execution_count": 23,
   "id": "8cabd5aa",
   "metadata": {},
   "outputs": [
    {
     "name": "stdout",
     "output_type": "stream",
     "text": [
      "10.830280049339851 3.5291835945764545 10.0 1 34\n"
     ]
    }
   ],
   "source": [
    "def get_caption_lengths(sentences):\n",
    "    lengths = []\n",
    "    for captions in sentences:\n",
    "        caption_lengths = list(set([len(c['tokens']) for c in captions]))\n",
    "        lengths.extend(caption_lengths)\n",
    "    lengths = np.array(lengths)\n",
    "    print(np.mean(lengths), np.std(lengths), np.median(lengths), np.min(lengths), np.max(lengths))\n",
    "        \n",
    "get_caption_lengths(rsicd_sentences)"
   ]
  },
  {
   "cell_type": "code",
   "execution_count": 24,
   "id": "3325cae4",
   "metadata": {},
   "outputs": [],
   "source": [
    "bleu_1, bleu_2 = [], []\n",
    "ngram_1 = (1,0,0,0)\n",
    "ngram_2 = (0,1,0,0)\n",
    "\n",
    "for i, captions in enumerate(captions_per_img):\n",
    "    if len(captions) == 1: # Skip if we can't calculate inter-rater reliability\n",
    "        continue\n",
    "    bleu_1_img, bleu_2_img = [], []\n",
    "    for caption in captions:\n",
    "        rem_captions = list(set(captions)-set([caption]))\n",
    "        references = [nltk.word_tokenize(c) for c in rem_captions]\n",
    "        candidate = nltk.word_tokenize(caption)\n",
    "        score_n1 = bleu(references, candidate, weights = ngram_1)\n",
    "        score_n2 = bleu(references, candidate, weights = ngram_2)\n",
    "        bleu_1_img.append(score_n1)\n",
    "        bleu_2_img.append(score_n2)\n",
    "#         bleu_1.append(score_n1)\n",
    "#         bleu_2.append(score_n2)\n",
    "    bleu_1.append(sum(bleu_1_img)/len(captions))\n",
    "    bleu_2.append(sum(bleu_2_img)/len(captions))\n"
   ]
  }
 ],
 "metadata": {
  "kernelspec": {
   "display_name": "Python 3 (ipykernel)",
   "language": "python",
   "name": "python3"
  },
  "language_info": {
   "codemirror_mode": {
    "name": "ipython",
    "version": 3
   },
   "file_extension": ".py",
   "mimetype": "text/x-python",
   "name": "python",
   "nbconvert_exporter": "python",
   "pygments_lexer": "ipython3",
   "version": "3.11.7"
  }
 },
 "nbformat": 4,
 "nbformat_minor": 5
}
