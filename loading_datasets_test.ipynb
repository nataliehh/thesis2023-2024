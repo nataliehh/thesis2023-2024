{
 "cells": [
  {
   "cell_type": "code",
   "execution_count": 1,
   "id": "67220816-5d9e-4772-962d-0ff6a18d365a",
   "metadata": {},
   "outputs": [],
   "source": [
    "from data_loader import get_custom_data\n",
    "import pandas as pd\n",
    "import json\n",
    "import os"
   ]
  },
  {
   "cell_type": "code",
   "execution_count": 4,
   "id": "8307cbab-1ba0-43c4-95ed-923937e8ad9f",
   "metadata": {},
   "outputs": [
    {
     "name": "stdout",
     "output_type": "stream",
     "text": [
      "CPU times: user 1min 50s, sys: 1.15 s, total: 1min 51s\n",
      "Wall time: 1min 51s\n"
     ]
    },
    {
     "data": {
      "text/plain": [
       "<data_loader.TokenizedDataset at 0x146af9b39450>"
      ]
     },
     "execution_count": 4,
     "metadata": {},
     "output_type": "execute_result"
    }
   ],
   "source": [
    "%%time\n",
    "get_custom_data(None, data = 'FashionGen', preprocess_fn = None, is_train = True, cls = False, subclass = False)"
   ]
  },
  {
   "cell_type": "code",
   "execution_count": 5,
   "id": "387cfda2-ead9-4dd4-a0a0-107639892d17",
   "metadata": {},
   "outputs": [
    {
     "ename": "AttributeError",
     "evalue": "'FashionGen' object has no attribute 'classes'",
     "output_type": "error",
     "traceback": [
      "\u001b[0;31m---------------------------------------------------------------------------\u001b[0m",
      "\u001b[0;31mAttributeError\u001b[0m                            Traceback (most recent call last)",
      "File \u001b[0;32m<timed eval>:1\u001b[0m\n",
      "File \u001b[0;32m/vol/tensusers5/nhollain/data_loader.py:466\u001b[0m, in \u001b[0;36mget_custom_data\u001b[0;34m(args, data, preprocess_fn, is_train, cls, subclass, **data_kwargs)\u001b[0m\n\u001b[1;32m    464\u001b[0m     \u001b[38;5;28;01mif\u001b[39;00m data \u001b[38;5;129;01min\u001b[39;00m REMOTE_SENSING:\n\u001b[1;32m    465\u001b[0m          template \u001b[38;5;241m=\u001b[39m template \u001b[38;5;241m=\u001b[39m [\u001b[38;5;28;01mlambda\u001b[39;00m c: \u001b[38;5;124mf\u001b[39m\u001b[38;5;124m\"\u001b[39m\u001b[38;5;124man aerial photograph of \u001b[39m\u001b[38;5;132;01m{\u001b[39;00mc\u001b[38;5;132;01m}\u001b[39;00m\u001b[38;5;124m.\u001b[39m\u001b[38;5;124m\"\u001b[39m]\n\u001b[0;32m--> 466\u001b[0m     \u001b[38;5;28;01mreturn\u001b[39;00m d, \u001b[43md\u001b[49m\u001b[38;5;241;43m.\u001b[39;49m\u001b[43mclasses\u001b[49m, template\n\u001b[1;32m    467\u001b[0m \u001b[38;5;28;01melse\u001b[39;00m:\n\u001b[1;32m    468\u001b[0m     \u001b[38;5;66;03m# We tokenize the caption datasets\u001b[39;00m\n\u001b[1;32m    469\u001b[0m     d \u001b[38;5;241m=\u001b[39m TokenizedDataset(d, image_key\u001b[38;5;241m=\u001b[39m\u001b[38;5;124m\"\u001b[39m\u001b[38;5;124mx\u001b[39m\u001b[38;5;124m\"\u001b[39m, text_key\u001b[38;5;241m=\u001b[39m\u001b[38;5;124m\"\u001b[39m\u001b[38;5;124mcaptions\u001b[39m\u001b[38;5;124m\"\u001b[39m, \u001b[38;5;241m*\u001b[39m\u001b[38;5;241m*\u001b[39mdata_kwargs)\n",
      "\u001b[0;31mAttributeError\u001b[0m: 'FashionGen' object has no attribute 'classes'"
     ]
    }
   ],
   "source": [
    "%%time\n",
    "get_custom_data(None, data = 'FashionGen', preprocess_fn = None, is_train = True, cls = True, subclass = False)"
   ]
  },
  {
   "cell_type": "code",
   "execution_count": 2,
   "id": "36d82976-666f-48b7-95e5-13512b9fb0a4",
   "metadata": {},
   "outputs": [
    {
     "data": {
      "text/plain": [
       "['sydney_captions',\n",
       " 'scicap_data.zip',\n",
       " 'polyvore',\n",
       " 'scicap',\n",
       " 'fashion200k',\n",
       " 'UCM_captions.zip',\n",
       " 'RSICD.zip',\n",
       " 'polyvore-images.tar.gz',\n",
       " 'RSICD',\n",
       " 'UCM',\n",
       " 'UCMerced_LandUse',\n",
       " 'WHU-RS19',\n",
       " 'RSSCN7',\n",
       " 'AID',\n",
       " 'NWPU-RESISC45',\n",
       " 'kaggle_simpsons_characters.zip',\n",
       " 'kaggle_simpsons_characters',\n",
       " 'polyvore_outfits.zip',\n",
       " 'polyvore_outfits']"
      ]
     },
     "execution_count": 2,
     "metadata": {},
     "output_type": "execute_result"
    }
   ],
   "source": [
    "os.listdir('./data')"
   ]
  },
  {
   "cell_type": "code",
   "execution_count": 5,
   "id": "5e9630c1-9531-4e1a-b6e6-8844a206e94b",
   "metadata": {},
   "outputs": [
    {
     "name": "stderr",
     "output_type": "stream",
     "text": [
      "/vol/tensusers5/nhollain/data_loader.py:226: UserWarning: DataFrame columns are not unique, some columns will be omitted.\n",
      "  category_dict = category_df[['ID', 'subcategory']].set_index('ID').T.to_dict('records')\n"
     ]
    },
    {
     "name": "stdout",
     "output_type": "stream",
     "text": [
      "CPU times: user 7min 11s, sys: 151 ms, total: 7min 11s\n",
      "Wall time: 7min 11s\n"
     ]
    },
    {
     "data": {
      "text/plain": [
       "<data_loader.TokenizedDataset at 0x14f2fb8b95a0>"
      ]
     },
     "execution_count": 5,
     "metadata": {},
     "output_type": "execute_result"
    }
   ],
   "source": [
    "%%time\n",
    "get_custom_data(None, data = 'Polyvore', preprocess_fn = None, is_train = True, cls = False, subclass = False)"
   ]
  },
  {
   "cell_type": "code",
   "execution_count": 6,
   "id": "ab89180c-f41c-4c37-9404-843bd59a592b",
   "metadata": {},
   "outputs": [
    {
     "name": "stderr",
     "output_type": "stream",
     "text": [
      "/vol/tensusers5/nhollain/data_loader.py:226: UserWarning: DataFrame columns are not unique, some columns will be omitted.\n",
      "  category_dict = category_df[['ID', 'subcategory']].set_index('ID').T.to_dict('records')\n"
     ]
    },
    {
     "name": "stdout",
     "output_type": "stream",
     "text": [
      "CPU times: user 5min 50s, sys: 172 ms, total: 5min 50s\n",
      "Wall time: 5min 51s\n"
     ]
    },
    {
     "data": {
      "text/plain": [
       "(<data_loader.Polyvore at 0x14f0ff8f4ca0>,\n",
       " ['accessories',\n",
       "  'all-body',\n",
       "  'bags',\n",
       "  'bottoms',\n",
       "  'hats',\n",
       "  'jewellery',\n",
       "  'outerwear',\n",
       "  'scarves',\n",
       "  'shoes',\n",
       "  'sunglasses',\n",
       "  'tops'],\n",
       " [<function data_loader.get_custom_data.<locals>.<lambda>(c)>])"
      ]
     },
     "execution_count": 6,
     "metadata": {},
     "output_type": "execute_result"
    }
   ],
   "source": [
    "%%time\n",
    "get_custom_data(None, data = 'Polyvore', preprocess_fn = None, is_train = True, cls = True, subclass = False)"
   ]
  },
  {
   "cell_type": "code",
   "execution_count": 3,
   "id": "6af896ce-43b5-483b-8d3b-203c191ea7b4",
   "metadata": {},
   "outputs": [
    {
     "name": "stdout",
     "output_type": "stream",
     "text": [
      "RSICD\n",
      "UCM\n",
      "Sydney\n",
      "Fashion200k\n",
      "SciCap\n",
      "RSICD-CLS\n",
      "UCM-CLS\n",
      "Fashion200k-CLS\n",
      "WHU-RS19\n",
      "RSSCN7\n",
      "AID\n",
      "RESISC45\n"
     ]
    }
   ],
   "source": [
    "# PROBLEMS WITH POLYVORE DATA: the data structure seems to be different from what the S-CLIP paper uses.\n",
    "# I want to probably get the dict['items'] values for each folder and then take the images from there.\n",
    "working_datasets = ['RSICD', 'UCM', 'Sydney', 'Fashion200k', 'SciCap', 'RSICD-CLS', 'UCM-CLS', 'Fashion200k-CLS', 'WHU-RS19', 'RSSCN7', \n",
    "                    'AID', 'RESISC45', 'Simpsons-Images', 'Polyvore', 'Polyvore-CLS']\n",
    "# get_custom_data(args, data, preprocess_fn, is_train, cls, subclass, **data_kwargs):\n",
    "for dataset in working_datasets:\n",
    "    print(dataset)\n",
    "    cls = 'CLS' in dataset\n",
    "    # CLS version of most datasets just uses the non-CLS dataloader, but adds cls = True as argument\n",
    "    if dataset != 'UCM-CLS': # Exception: UCM-CLS is a different dataloader altogether than UCM!\n",
    "        dataset = dataset.replace('-CLS', '')\n",
    "    get_custom_data(None, data = dataset, preprocess_fn = None, is_train = True, cls = cls, subclass = False)"
   ]
  },
  {
   "cell_type": "code",
   "execution_count": 1,
   "id": "c6833ab0-0708-4ea6-8348-dae157d7571b",
   "metadata": {},
   "outputs": [
    {
     "data": {
      "text/plain": [
       "Dataset ImageFolder\n",
       "    Number of datapoints: 20933\n",
       "    Root location: ./data/kaggle_simpsons_characters/simpsons_dataset"
      ]
     },
     "execution_count": 1,
     "metadata": {},
     "output_type": "execute_result"
    }
   ],
   "source": [
    "get_custom_data(None, data = 'Simpsons-Images', preprocess_fn = None, is_train = True, cls = True, subclass = False)"
   ]
  }
 ],
 "metadata": {
  "kernelspec": {
   "display_name": "Python 3 (ipykernel)",
   "language": "python",
   "name": "python3"
  },
  "language_info": {
   "codemirror_mode": {
    "name": "ipython",
    "version": 3
   },
   "file_extension": ".py",
   "mimetype": "text/x-python",
   "name": "python",
   "nbconvert_exporter": "python",
   "pygments_lexer": "ipython3",
   "version": "3.10.12"
  }
 },
 "nbformat": 4,
 "nbformat_minor": 5
}
