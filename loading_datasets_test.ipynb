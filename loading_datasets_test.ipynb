{
 "cells": [
  {
   "cell_type": "code",
   "execution_count": 1,
   "id": "67220816-5d9e-4772-962d-0ff6a18d365a",
   "metadata": {},
   "outputs": [],
   "source": [
    "from data_loader import get_custom_data\n",
    "import pandas as pd\n",
    "import json\n",
    "import os"
   ]
  },
  {
   "cell_type": "code",
   "execution_count": 4,
   "id": "8307cbab-1ba0-43c4-95ed-923937e8ad9f",
   "metadata": {},
   "outputs": [
    {
     "name": "stdout",
     "output_type": "stream",
     "text": [
      "CPU times: user 1min 50s, sys: 1.15 s, total: 1min 51s\n",
      "Wall time: 1min 51s\n"
     ]
    },
    {
     "data": {
      "text/plain": [
       "<data_loader.TokenizedDataset at 0x146af9b39450>"
      ]
     },
     "execution_count": 4,
     "metadata": {},
     "output_type": "execute_result"
    }
   ],
   "source": [
    "%%time\n",
    "get_custom_data(None, data = 'FashionGen', preprocess_fn = None, is_train = True, cls = False, subclass = False)"
   ]
  },
  {
   "cell_type": "code",
   "execution_count": 2,
   "id": "387cfda2-ead9-4dd4-a0a0-107639892d17",
   "metadata": {},
   "outputs": [
    {
     "name": "stdout",
     "output_type": "stream",
     "text": [
      "CPU times: user 7.84 s, sys: 1.72 ms, total: 7.84 s\n",
      "Wall time: 1min 17s\n"
     ]
    },
    {
     "data": {
      "text/plain": [
       "(<data_loader.FashionGen at 0x153a45832c80>,\n",
       " ['backpacks',\n",
       "  'bag accessories',\n",
       "  'belts & suspenders',\n",
       "  'blankets',\n",
       "  'boat shoes & moccasins',\n",
       "  'boots',\n",
       "  'briefcases',\n",
       "  'clutches & pouches',\n",
       "  'dresses',\n",
       "  'duffle & top handle bags',\n",
       "  'duffle bags',\n",
       "  'espadrilles',\n",
       "  'eyewear',\n",
       "  'fine jewelry',\n",
       "  'flats',\n",
       "  'gloves',\n",
       "  'hats',\n",
       "  'heels',\n",
       "  'jackets & coats',\n",
       "  'jeans',\n",
       "  'jewelry',\n",
       "  'jumpsuits',\n",
       "  'keychains',\n",
       "  'lace ups',\n",
       "  'lingerie',\n",
       "  'loafers',\n",
       "  'messenger bags',\n",
       "  'messenger bags & satchels',\n",
       "  'monkstraps',\n",
       "  'pants',\n",
       "  'pocket squares & tie bars',\n",
       "  'pouches & document holders',\n",
       "  'sandals',\n",
       "  'scarves',\n",
       "  'shirts',\n",
       "  'shorts',\n",
       "  'shoulder bags',\n",
       "  'skirts',\n",
       "  'sneakers',\n",
       "  'socks',\n",
       "  'suits & blazers',\n",
       "  'sweaters',\n",
       "  'swimwear',\n",
       "  'ties',\n",
       "  'tops',\n",
       "  'tote bags',\n",
       "  'travel bags',\n",
       "  'underwear & loungewear'],\n",
       " [<function data_loader.get_custom_data.<locals>.<lambda>(c)>])"
      ]
     },
     "execution_count": 2,
     "metadata": {},
     "output_type": "execute_result"
    }
   ],
   "source": [
    "%%time\n",
    "get_custom_data(None, data = 'FashionGen', preprocess_fn = None, is_train = True, cls = True, subclass = False)"
   ]
  },
  {
   "cell_type": "code",
   "execution_count": 2,
   "id": "36d82976-666f-48b7-95e5-13512b9fb0a4",
   "metadata": {},
   "outputs": [
    {
     "data": {
      "text/plain": [
       "['sydney_captions',\n",
       " 'scicap_data.zip',\n",
       " 'polyvore',\n",
       " 'scicap',\n",
       " 'fashion200k',\n",
       " 'UCM_captions.zip',\n",
       " 'RSICD.zip',\n",
       " 'polyvore-images.tar.gz',\n",
       " 'RSICD',\n",
       " 'UCM',\n",
       " 'UCMerced_LandUse',\n",
       " 'WHU-RS19',\n",
       " 'RSSCN7',\n",
       " 'AID',\n",
       " 'NWPU-RESISC45',\n",
       " 'kaggle_simpsons_characters.zip',\n",
       " 'kaggle_simpsons_characters',\n",
       " 'polyvore_outfits.zip',\n",
       " 'polyvore_outfits']"
      ]
     },
     "execution_count": 2,
     "metadata": {},
     "output_type": "execute_result"
    }
   ],
   "source": [
    "os.listdir('./data')"
   ]
  },
  {
   "cell_type": "code",
   "execution_count": 5,
   "id": "5e9630c1-9531-4e1a-b6e6-8844a206e94b",
   "metadata": {},
   "outputs": [
    {
     "name": "stderr",
     "output_type": "stream",
     "text": [
      "/vol/tensusers5/nhollain/data_loader.py:226: UserWarning: DataFrame columns are not unique, some columns will be omitted.\n",
      "  category_dict = category_df[['ID', 'subcategory']].set_index('ID').T.to_dict('records')\n"
     ]
    },
    {
     "name": "stdout",
     "output_type": "stream",
     "text": [
      "CPU times: user 7min 11s, sys: 151 ms, total: 7min 11s\n",
      "Wall time: 7min 11s\n"
     ]
    },
    {
     "data": {
      "text/plain": [
       "<data_loader.TokenizedDataset at 0x14f2fb8b95a0>"
      ]
     },
     "execution_count": 5,
     "metadata": {},
     "output_type": "execute_result"
    }
   ],
   "source": [
    "%%time\n",
    "get_custom_data(None, data = 'Polyvore', preprocess_fn = None, is_train = True, cls = False, subclass = False)"
   ]
  },
  {
   "cell_type": "code",
   "execution_count": 6,
   "id": "ab89180c-f41c-4c37-9404-843bd59a592b",
   "metadata": {},
   "outputs": [
    {
     "name": "stderr",
     "output_type": "stream",
     "text": [
      "/vol/tensusers5/nhollain/data_loader.py:226: UserWarning: DataFrame columns are not unique, some columns will be omitted.\n",
      "  category_dict = category_df[['ID', 'subcategory']].set_index('ID').T.to_dict('records')\n"
     ]
    },
    {
     "name": "stdout",
     "output_type": "stream",
     "text": [
      "CPU times: user 5min 50s, sys: 172 ms, total: 5min 50s\n",
      "Wall time: 5min 51s\n"
     ]
    },
    {
     "data": {
      "text/plain": [
       "(<data_loader.Polyvore at 0x14f0ff8f4ca0>,\n",
       " ['accessories',\n",
       "  'all-body',\n",
       "  'bags',\n",
       "  'bottoms',\n",
       "  'hats',\n",
       "  'jewellery',\n",
       "  'outerwear',\n",
       "  'scarves',\n",
       "  'shoes',\n",
       "  'sunglasses',\n",
       "  'tops'],\n",
       " [<function data_loader.get_custom_data.<locals>.<lambda>(c)>])"
      ]
     },
     "execution_count": 6,
     "metadata": {},
     "output_type": "execute_result"
    }
   ],
   "source": [
    "%%time\n",
    "get_custom_data(None, data = 'Polyvore', preprocess_fn = None, is_train = True, cls = True, subclass = False)"
   ]
  },
  {
   "cell_type": "code",
   "execution_count": 3,
   "id": "6af896ce-43b5-483b-8d3b-203c191ea7b4",
   "metadata": {},
   "outputs": [
    {
     "name": "stdout",
     "output_type": "stream",
     "text": [
      "RSICD\n",
      "UCM\n",
      "Sydney\n",
      "Fashion200k\n",
      "SciCap\n",
      "RSICD-CLS\n",
      "UCM-CLS\n",
      "Fashion200k-CLS\n",
      "WHU-RS19\n",
      "RSSCN7\n",
      "AID\n",
      "RESISC45\n"
     ]
    }
   ],
   "source": [
    "# PROBLEMS WITH POLYVORE DATA: the data structure seems to be different from what the S-CLIP paper uses.\n",
    "# I want to probably get the dict['items'] values for each folder and then take the images from there.\n",
    "working_datasets = ['RSICD', 'UCM', 'Sydney', 'Fashion200k', 'SciCap', 'RSICD-CLS', 'UCM-CLS', 'Fashion200k-CLS', 'WHU-RS19', 'RSSCN7', \n",
    "                    'AID', 'RESISC45', 'Simpsons-Images', 'Polyvore', 'Polyvore-CLS', 'FashionGen', 'FashionGen-CLS']\n",
    "# get_custom_data(args, data, preprocess_fn, is_train, cls, subclass, **data_kwargs):\n",
    "for dataset in working_datasets:\n",
    "    print(dataset)\n",
    "    cls = 'CLS' in dataset\n",
    "    # CLS version of most datasets just uses the non-CLS dataloader, but adds cls = True as argument\n",
    "    if dataset != 'UCM-CLS': # Exception: UCM-CLS is a different dataloader altogether than UCM!\n",
    "        dataset = dataset.replace('-CLS', '')\n",
    "    get_custom_data(None, data = dataset, preprocess_fn = None, is_train = True, cls = cls, subclass = False)"
   ]
  },
  {
   "cell_type": "code",
   "execution_count": 1,
   "id": "c6833ab0-0708-4ea6-8348-dae157d7571b",
   "metadata": {},
   "outputs": [
    {
     "data": {
      "text/plain": [
       "Dataset ImageFolder\n",
       "    Number of datapoints: 20933\n",
       "    Root location: ./data/kaggle_simpsons_characters/simpsons_dataset"
      ]
     },
     "execution_count": 1,
     "metadata": {},
     "output_type": "execute_result"
    }
   ],
   "source": [
    "get_custom_data(None, data = 'Simpsons-Images', preprocess_fn = None, is_train = True, cls = True, subclass = False)"
   ]
  }
 ],
 "metadata": {
  "kernelspec": {
   "display_name": "Python 3 (ipykernel)",
   "language": "python",
   "name": "python3"
  },
  "language_info": {
   "codemirror_mode": {
    "name": "ipython",
    "version": 3
   },
   "file_extension": ".py",
   "mimetype": "text/x-python",
   "name": "python",
   "nbconvert_exporter": "python",
   "pygments_lexer": "ipython3",
   "version": "3.10.12"
  }
 },
 "nbformat": 4,
 "nbformat_minor": 5
}
