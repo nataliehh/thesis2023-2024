{
 "cells": [
  {
   "cell_type": "code",
   "execution_count": 1,
   "id": "3c926ae9",
   "metadata": {},
   "outputs": [
    {
     "name": "stderr",
     "output_type": "stream",
     "text": [
      "[nltk_data] Downloading package punkt to C:\\Users\\Laptop of\n",
      "[nltk_data]     Natalie\\AppData\\Roaming\\nltk_data...\n",
      "[nltk_data]   Package punkt is already up-to-date!\n",
      "[nltk_data] Downloading package averaged_perceptron_tagger to\n",
      "[nltk_data]     C:\\Users\\Laptop of\n",
      "[nltk_data]     Natalie\\AppData\\Roaming\\nltk_data...\n",
      "[nltk_data]   Package averaged_perceptron_tagger is already up-to-\n",
      "[nltk_data]       date!\n"
     ]
    }
   ],
   "source": [
    "import sys\n",
    "sys.path.append('./scripts')\n",
    "sys.path.append('./probvlm')\n",
    "\n",
    "from tuning_tools import prep_str_args, evaluate_checkpoint, get_evaluation_history, gridsearch, create_base_str_args"
   ]
  },
  {
   "cell_type": "code",
   "execution_count": 2,
   "id": "f2717c0b",
   "metadata": {},
   "outputs": [
    {
     "name": "stdout",
     "output_type": "stream",
     "text": [
      "base str argst:  \n",
      "    --train-data ILT\n",
      "    --val-data ILT\n",
      "    --save-freq 5\n",
      "    --eval-file ./results/eval_ilt.txt\n",
      "    --zeroshot-frequency 5\n",
      "    --method base\n",
      "    \n"
     ]
    }
   ],
   "source": [
    "history_path = './results/eval_ilt.txt'  \n",
    "model_history = get_evaluation_history(history_path) # Get the history of evaluated models\n",
    "eval_file = './results/eval_ilt.txt'\n",
    "split = 'val'\n",
    "\n",
    "base_str_args = create_base_str_args('baseline', 'ILT', eval_file)\n",
    "print('base str argst:', base_str_args)\n",
    "\n",
    "# Dictionary of values to gridsearch for hyperparam tuning\n",
    "gridsearch_dict = {\n",
    "    '--lr': [5e-7, 5e-6, 5e-5],\n",
    "    '--epochs' : [30], #list(range(15,36,5)) if 'active-learning' in base_str_args else [35], #[10,15,20,25,30,35],\n",
    "    '--batch-size' : [4, 8, 16],\n",
    "    '--label-ratio': [0.5], #[0.05, 0.1, 0.2, 0.4, 0.8],\n",
    "    '--device' : ['cpu']\n",
    "}"
   ]
  },
  {
   "cell_type": "code",
   "execution_count": null,
   "id": "bac88c2c",
   "metadata": {},
   "outputs": [
    {
     "name": "stdout",
     "output_type": "stream",
     "text": [
      "Number of configs: 9\n",
      "['--train-data', 'ILT', '--val-data', 'ILT', '--save-freq', '5', '--eval-file', './results/eval_ilt.txt', '--zeroshot-frequency', '5', '--method', 'base', '--lr', '5e-07', '--epochs', '30', '--batch-size', '4', '--label-ratio', '0.5', '--device', 'cpu']\n",
      "Config number 0: 5 repeats\n"
     ]
    },
    {
     "name": "stderr",
     "output_type": "stream",
     "text": [
      "100%|██████████████████████████████████████████████████████████████████████████████████| 30/30 [15:35<00:00, 31.19s/it]\n"
     ]
    },
    {
     "name": "stdout",
     "output_type": "stream",
     "text": [
      "Evaluation time: 64.161\n",
      "Evaluation time: 34.285\n",
      "Evaluation time: 35.643\n",
      "Evaluation time: 33.381\n",
      "Evaluation time: 33.734\n",
      "Evaluation time: 30.653\n"
     ]
    },
    {
     "name": "stderr",
     "output_type": "stream",
     "text": [
      "100%|██████████████████████████████████████████████████████████████████████████████████| 30/30 [14:43<00:00, 29.46s/it]\n"
     ]
    },
    {
     "name": "stdout",
     "output_type": "stream",
     "text": [
      "Evaluation time: 36.991\n",
      "Evaluation time: 33.437\n",
      "Evaluation time: 35.587\n",
      "Evaluation time: 30.893\n",
      "Evaluation time: 31.661\n",
      "Evaluation time: 32.668\n"
     ]
    },
    {
     "name": "stderr",
     "output_type": "stream",
     "text": [
      "100%|██████████████████████████████████████████████████████████████████████████████████| 30/30 [14:53<00:00, 29.80s/it]\n"
     ]
    },
    {
     "name": "stdout",
     "output_type": "stream",
     "text": [
      "Evaluation time: 36.812\n",
      "Evaluation time: 30.716\n",
      "Evaluation time: 30.369\n",
      "Evaluation time: 33.167\n",
      "Evaluation time: 31.891\n",
      "Evaluation time: 31.76\n"
     ]
    },
    {
     "name": "stderr",
     "output_type": "stream",
     "text": [
      " 63%|███████████████████████████████████████████████████▉                              | 19/30 [09:18<05:03, 27.55s/it]"
     ]
    }
   ],
   "source": [
    "gridsearch(base_str_args, gridsearch_dict, model_history, eval_file, split, change_seed = True)"
   ]
  },
  {
   "cell_type": "code",
   "execution_count": null,
   "id": "d4b890d9",
   "metadata": {},
   "outputs": [],
   "source": []
  }
 ],
 "metadata": {
  "kernelspec": {
   "display_name": "Python 3 (ipykernel)",
   "language": "python",
   "name": "python3"
  },
  "language_info": {
   "codemirror_mode": {
    "name": "ipython",
    "version": 3
   },
   "file_extension": ".py",
   "mimetype": "text/x-python",
   "name": "python",
   "nbconvert_exporter": "python",
   "pygments_lexer": "ipython3",
   "version": "3.9.5"
  }
 },
 "nbformat": 4,
 "nbformat_minor": 5
}
