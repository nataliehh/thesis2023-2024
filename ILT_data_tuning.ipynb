{
 "cells": [
  {
   "cell_type": "code",
   "execution_count": 1,
   "id": "3c926ae9",
   "metadata": {},
   "outputs": [
    {
     "name": "stderr",
     "output_type": "stream",
     "text": [
      "[nltk_data] Downloading package punkt to C:\\Users\\Laptop of\n",
      "[nltk_data]     Natalie\\AppData\\Roaming\\nltk_data...\n",
      "[nltk_data]   Package punkt is already up-to-date!\n",
      "[nltk_data] Downloading package averaged_perceptron_tagger to\n",
      "[nltk_data]     C:\\Users\\Laptop of\n",
      "[nltk_data]     Natalie\\AppData\\Roaming\\nltk_data...\n",
      "[nltk_data]   Package averaged_perceptron_tagger is already up-to-\n",
      "[nltk_data]       date!\n"
     ]
    }
   ],
   "source": [
    "import sys\n",
    "sys.path.append('./scripts')\n",
    "sys.path.append('./probvlm')\n",
    "\n",
    "from tuning_tools import prep_str_args, evaluate_checkpoint, get_evaluation_history, gridsearch, create_base_str_args"
   ]
  },
  {
   "cell_type": "code",
   "execution_count": 2,
   "id": "f2717c0b",
   "metadata": {},
   "outputs": [
    {
     "name": "stdout",
     "output_type": "stream",
     "text": [
      "base str args:  \n",
      "    --train-data ILT\n",
      "    --val-data ILT\n",
      "    --save-freq 5\n",
      "    --eval-file ./results/eval_ilt.txt\n",
      "    --zeroshot-frequency 5\n",
      "    --method base\n",
      "    \n"
     ]
    }
   ],
   "source": [
    "history_path = './results/eval_ilt.txt'  \n",
    "model_history = get_evaluation_history(history_path) # Get the history of evaluated models\n",
    "eval_file = './results/eval_ilt.txt'\n",
    "split = 'val'\n",
    "\n",
    "base_str_args = create_base_str_args('baseline', 'ILT', eval_file)\n",
    "print('base str args:', base_str_args)\n",
    "\n",
    "# Dictionary of values to gridsearch for hyperparam tuning\n",
    "gridsearch_dict = {\n",
    "    '--lr': [5e-4, 5e-5, 5e-6],\n",
    "    '--epochs' : [30], #list(range(15,36,5)) if 'active-learning' in base_str_args else [35], #[10,15,20,25,30,35],\n",
    "    '--batch-size' : [16, 32, 64],\n",
    "    '--label-ratio': [0.1], #[0.05, 0.1, 0.2, 0.4, 0.8],\n",
    "}"
   ]
  },
  {
   "cell_type": "code",
   "execution_count": null,
   "id": "bac88c2c",
   "metadata": {},
   "outputs": [
    {
     "name": "stdout",
     "output_type": "stream",
     "text": [
      "Number of configs: 9\n",
      "['--train-data', 'ILT', '--val-data', 'ILT', '--save-freq', '5', '--eval-file', './results/eval_ilt.txt', '--zeroshot-frequency', '5', '--method', 'base', '--lr', '0.0005', '--epochs', '30', '--batch-size', '16', '--label-ratio', '0.1']\n",
      "Config number 0: 4 repeats\n",
      "indices d1: [tensor(6), tensor(29), tensor(36), tensor(49), tensor(51)] 5\n",
      "indices d2: [tensor(0), tensor(1), tensor(2), tensor(3), tensor(4), tensor(5), tensor(7), tensor(8), tensor(9), tensor(10), tensor(11), tensor(12), tensor(13), tensor(14), tensor(15), tensor(16), tensor(17), tensor(18), tensor(19), tensor(20), tensor(21), tensor(22), tensor(23), tensor(24), tensor(25), tensor(26), tensor(27), tensor(28), tensor(30), tensor(31), tensor(32), tensor(33), tensor(34), tensor(35), tensor(37), tensor(38), tensor(39), tensor(40), tensor(41), tensor(42), tensor(43), tensor(44), tensor(45), tensor(46), tensor(47), tensor(48), tensor(50), tensor(52), tensor(53), tensor(54), tensor(55), tensor(56), tensor(57)] 53\n"
     ]
    },
    {
     "name": "stderr",
     "output_type": "stream",
     "text": [
      "100%|██████████████████████████████████████████████████████████████████████████████████| 30/30 [00:57<00:00,  1.93s/it]\n"
     ]
    },
    {
     "name": "stdout",
     "output_type": "stream",
     "text": [
      "Evaluation time: 31.042\n",
      "Evaluation time: 23.124\n",
      "Evaluation time: 21.67\n",
      "Evaluation time: 22.129\n",
      "Evaluation time: 22.028\n",
      "Evaluation time: 23.404\n",
      "indices d1: [tensor(1), tensor(24), tensor(48), tensor(55), tensor(57)] 5\n",
      "indices d2: [tensor(0), tensor(2), tensor(3), tensor(4), tensor(5), tensor(6), tensor(7), tensor(8), tensor(9), tensor(10), tensor(11), tensor(12), tensor(13), tensor(14), tensor(15), tensor(16), tensor(17), tensor(18), tensor(19), tensor(20), tensor(21), tensor(22), tensor(23), tensor(25), tensor(26), tensor(27), tensor(28), tensor(29), tensor(30), tensor(31), tensor(32), tensor(33), tensor(34), tensor(35), tensor(36), tensor(37), tensor(38), tensor(39), tensor(40), tensor(41), tensor(42), tensor(43), tensor(44), tensor(45), tensor(46), tensor(47), tensor(49), tensor(50), tensor(51), tensor(52), tensor(53), tensor(54), tensor(56)] 53\n"
     ]
    },
    {
     "name": "stderr",
     "output_type": "stream",
     "text": [
      "100%|██████████████████████████████████████████████████████████████████████████████████| 30/30 [00:51<00:00,  1.72s/it]\n"
     ]
    },
    {
     "name": "stdout",
     "output_type": "stream",
     "text": [
      "Evaluation time: 28.211\n"
     ]
    }
   ],
   "source": [
    "gridsearch(base_str_args, gridsearch_dict, model_history, eval_file, split, change_seed = True)"
   ]
  },
  {
   "cell_type": "code",
   "execution_count": null,
   "id": "0006966d",
   "metadata": {},
   "outputs": [],
   "source": []
  }
 ],
 "metadata": {
  "kernelspec": {
   "display_name": "Python 3 (ipykernel)",
   "language": "python",
   "name": "python3"
  },
  "language_info": {
   "codemirror_mode": {
    "name": "ipython",
    "version": 3
   },
   "file_extension": ".py",
   "mimetype": "text/x-python",
   "name": "python",
   "nbconvert_exporter": "python",
   "pygments_lexer": "ipython3",
   "version": "3.9.5"
  }
 },
 "nbformat": 4,
 "nbformat_minor": 5
}
