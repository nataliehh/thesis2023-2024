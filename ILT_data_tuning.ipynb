{
 "cells": [
  {
   "cell_type": "code",
   "execution_count": 1,
   "id": "3c926ae9",
   "metadata": {},
   "outputs": [],
   "source": [
    "import sys\n",
    "sys.path.append('./scripts')\n",
    "sys.path.append('./probvlm')\n",
    "\n",
    "from tuning_tools import prep_str_args, evaluate_checkpoint, get_evaluation_history, gridsearch, create_base_str_args"
   ]
  },
  {
   "cell_type": "code",
   "execution_count": 2,
   "id": "f2717c0b",
   "metadata": {},
   "outputs": [
    {
     "name": "stdout",
     "output_type": "stream",
     "text": [
      "Did not specify keyword_path, will use default path based on the chosen dataset\n",
      "Using default keyword path: ./keywords/ILT/class-name.txt\n",
      "PL modality (e.g. text, image) was not specified, so the intended PL method may not be used (default = ot.image).\n",
      "Make sure to specify the modality. This can be done either when calling create_base_str_args or when specifying the gridsearch parameters.\n",
      "base str args:  \n",
      "    --train-data ILT\n",
      "    --val-data ILT\n",
      "    --save-freq 5\n",
      "    --eval-file ./results/eval_ilt.txt\n",
      "    --zeroshot-frequency 5\n",
      "    \n",
      "--method ours\n",
      "--keyword-path ./keywords/ILT/class-name.txt\n"
     ]
    }
   ],
   "source": [
    "history_path = './results/eval_ilt.txt'  \n",
    "model_history = get_evaluation_history(history_path) # Get the history of evaluated models\n",
    "eval_file = './results/eval_ilt.txt'\n",
    "split = 'val'\n",
    "\n",
    "method = 's-clip'\n",
    "base_str_args = create_base_str_args(method, 'ILT', eval_file)\n",
    "print('base str args:', base_str_args)\n",
    "\n",
    "# Dictionary of values to gridsearch for hyperparam tuning\n",
    "gridsearch_dict = {\n",
    "    '--lr': [5e-6, 5e-5, 5e-4],\n",
    "    '--epochs' : [30], #list(range(15,36,5)) if 'active-learning' in base_str_args else [35], #[10,15,20,25,30,35],\n",
    "    '--batch-size' : [4, 8] if method == 'probvlm' else [4, 8, 16],\n",
    "    '--label-ratio': [0.2], #[0.05, 0.1, 0.2, 0.4, 0.8],\n",
    "    '--pl-method': ['ot.text', 'ot.image'],\n",
    "    # '--al-iter': [5,10],\n",
    "    # '--al-epochs': [5,10,15],\n",
    "    # '--device' : ['cpu'],\n",
    "#     '--model': ['ViT-B-32'],\n",
    "}"
   ]
  },
  {
   "cell_type": "code",
   "execution_count": 3,
   "id": "bac88c2c",
   "metadata": {
    "scrolled": true
   },
   "outputs": [
    {
     "name": "stdout",
     "output_type": "stream",
     "text": [
      "Evaluations per model run: 7\n",
      "Number of configs: 18\n",
      "str args:  \n",
      "    --train-data ILT\n",
      "    --val-data ILT\n",
      "    --save-freq 5\n",
      "    --eval-file ./results/eval_ilt.txt\n",
      "    --zeroshot-frequency 5\n",
      "    \n",
      "--method ours\n",
      "--keyword-path ./keywords/ILT/class-name.txt\n",
      "--lr 5e-06\n",
      "--epochs 30\n",
      "--batch-size 4\n",
      "--label-ratio 0.2\n",
      "--pl-method ot.text\n",
      "['--train-data', 'ILT', '--val-data', 'ILT', '--save-freq', '5', '--eval-file', './results/eval_ilt.txt', '--zeroshot-frequency', '5', '--method', 'ours', '--keyword-path', './keywords/ILT/class-name.txt', '--lr', '5e-06', '--epochs', '30', '--batch-size', '4', '--label-ratio', '0.2', '--pl-method', 'ot.text']\n",
      "num_evals already done of this model config: 21\n",
      "Config number 0: 0 repeats\n",
      "str args:  \n",
      "    --train-data ILT\n",
      "    --val-data ILT\n",
      "    --save-freq 5\n",
      "    --eval-file ./results/eval_ilt.txt\n",
      "    --zeroshot-frequency 5\n",
      "    \n",
      "--method ours\n",
      "--keyword-path ./keywords/ILT/class-name.txt\n",
      "--lr 5e-06\n",
      "--epochs 30\n",
      "--batch-size 4\n",
      "--label-ratio 0.2\n",
      "--pl-method ot.image\n",
      "['--train-data', 'ILT', '--val-data', 'ILT', '--save-freq', '5', '--eval-file', './results/eval_ilt.txt', '--zeroshot-frequency', '5', '--method', 'ours', '--keyword-path', './keywords/ILT/class-name.txt', '--lr', '5e-06', '--epochs', '30', '--batch-size', '4', '--label-ratio', '0.2', '--pl-method', 'ot.image']\n",
      "num_evals already done of this model config: 21\n",
      "Config number 1: 0 repeats\n",
      "str args:  \n",
      "    --train-data ILT\n",
      "    --val-data ILT\n",
      "    --save-freq 5\n",
      "    --eval-file ./results/eval_ilt.txt\n",
      "    --zeroshot-frequency 5\n",
      "    \n",
      "--method ours\n",
      "--keyword-path ./keywords/ILT/class-name.txt\n",
      "--lr 5e-06\n",
      "--epochs 30\n",
      "--batch-size 8\n",
      "--label-ratio 0.2\n",
      "--pl-method ot.text\n",
      "['--train-data', 'ILT', '--val-data', 'ILT', '--save-freq', '5', '--eval-file', './results/eval_ilt.txt', '--zeroshot-frequency', '5', '--method', 'ours', '--keyword-path', './keywords/ILT/class-name.txt', '--lr', '5e-06', '--epochs', '30', '--batch-size', '8', '--label-ratio', '0.2', '--pl-method', 'ot.text']\n",
      "num_evals already done of this model config: 21\n",
      "Config number 2: 0 repeats\n",
      "str args:  \n",
      "    --train-data ILT\n",
      "    --val-data ILT\n",
      "    --save-freq 5\n",
      "    --eval-file ./results/eval_ilt.txt\n",
      "    --zeroshot-frequency 5\n",
      "    \n",
      "--method ours\n",
      "--keyword-path ./keywords/ILT/class-name.txt\n",
      "--lr 5e-06\n",
      "--epochs 30\n",
      "--batch-size 8\n",
      "--label-ratio 0.2\n",
      "--pl-method ot.image\n",
      "['--train-data', 'ILT', '--val-data', 'ILT', '--save-freq', '5', '--eval-file', './results/eval_ilt.txt', '--zeroshot-frequency', '5', '--method', 'ours', '--keyword-path', './keywords/ILT/class-name.txt', '--lr', '5e-06', '--epochs', '30', '--batch-size', '8', '--label-ratio', '0.2', '--pl-method', 'ot.image']\n",
      "num_evals already done of this model config: 21\n",
      "Config number 3: 0 repeats\n",
      "str args:  \n",
      "    --train-data ILT\n",
      "    --val-data ILT\n",
      "    --save-freq 5\n",
      "    --eval-file ./results/eval_ilt.txt\n",
      "    --zeroshot-frequency 5\n",
      "    \n",
      "--method ours\n",
      "--keyword-path ./keywords/ILT/class-name.txt\n",
      "--lr 5e-06\n",
      "--epochs 30\n",
      "--batch-size 16\n",
      "--label-ratio 0.2\n",
      "--pl-method ot.text\n",
      "['--train-data', 'ILT', '--val-data', 'ILT', '--save-freq', '5', '--eval-file', './results/eval_ilt.txt', '--zeroshot-frequency', '5', '--method', 'ours', '--keyword-path', './keywords/ILT/class-name.txt', '--lr', '5e-06', '--epochs', '30', '--batch-size', '16', '--label-ratio', '0.2', '--pl-method', 'ot.text']\n",
      "num_evals already done of this model config: 21\n",
      "Config number 4: 0 repeats\n",
      "str args:  \n",
      "    --train-data ILT\n",
      "    --val-data ILT\n",
      "    --save-freq 5\n",
      "    --eval-file ./results/eval_ilt.txt\n",
      "    --zeroshot-frequency 5\n",
      "    \n",
      "--method ours\n",
      "--keyword-path ./keywords/ILT/class-name.txt\n",
      "--lr 5e-06\n",
      "--epochs 30\n",
      "--batch-size 16\n",
      "--label-ratio 0.2\n",
      "--pl-method ot.image\n",
      "['--train-data', 'ILT', '--val-data', 'ILT', '--save-freq', '5', '--eval-file', './results/eval_ilt.txt', '--zeroshot-frequency', '5', '--method', 'ours', '--keyword-path', './keywords/ILT/class-name.txt', '--lr', '5e-06', '--epochs', '30', '--batch-size', '16', '--label-ratio', '0.2', '--pl-method', 'ot.image']\n",
      "num_evals already done of this model config: 21\n",
      "Config number 5: 0 repeats\n",
      "str args:  \n",
      "    --train-data ILT\n",
      "    --val-data ILT\n",
      "    --save-freq 5\n",
      "    --eval-file ./results/eval_ilt.txt\n",
      "    --zeroshot-frequency 5\n",
      "    \n",
      "--method ours\n",
      "--keyword-path ./keywords/ILT/class-name.txt\n",
      "--lr 5e-05\n",
      "--epochs 30\n",
      "--batch-size 4\n",
      "--label-ratio 0.2\n",
      "--pl-method ot.text\n",
      "['--train-data', 'ILT', '--val-data', 'ILT', '--save-freq', '5', '--eval-file', './results/eval_ilt.txt', '--zeroshot-frequency', '5', '--method', 'ours', '--keyword-path', './keywords/ILT/class-name.txt', '--lr', '5e-05', '--epochs', '30', '--batch-size', '4', '--label-ratio', '0.2', '--pl-method', 'ot.text']\n",
      "num_evals already done of this model config: 21\n",
      "Config number 6: 0 repeats\n",
      "str args:  \n",
      "    --train-data ILT\n",
      "    --val-data ILT\n",
      "    --save-freq 5\n",
      "    --eval-file ./results/eval_ilt.txt\n",
      "    --zeroshot-frequency 5\n",
      "    \n",
      "--method ours\n",
      "--keyword-path ./keywords/ILT/class-name.txt\n",
      "--lr 5e-05\n",
      "--epochs 30\n",
      "--batch-size 4\n",
      "--label-ratio 0.2\n",
      "--pl-method ot.image\n",
      "['--train-data', 'ILT', '--val-data', 'ILT', '--save-freq', '5', '--eval-file', './results/eval_ilt.txt', '--zeroshot-frequency', '5', '--method', 'ours', '--keyword-path', './keywords/ILT/class-name.txt', '--lr', '5e-05', '--epochs', '30', '--batch-size', '4', '--label-ratio', '0.2', '--pl-method', 'ot.image']\n",
      "num_evals already done of this model config: 21\n",
      "Config number 7: 0 repeats\n",
      "str args:  \n",
      "    --train-data ILT\n",
      "    --val-data ILT\n",
      "    --save-freq 5\n",
      "    --eval-file ./results/eval_ilt.txt\n",
      "    --zeroshot-frequency 5\n",
      "    \n",
      "--method ours\n",
      "--keyword-path ./keywords/ILT/class-name.txt\n",
      "--lr 5e-05\n",
      "--epochs 30\n",
      "--batch-size 8\n",
      "--label-ratio 0.2\n",
      "--pl-method ot.text\n",
      "['--train-data', 'ILT', '--val-data', 'ILT', '--save-freq', '5', '--eval-file', './results/eval_ilt.txt', '--zeroshot-frequency', '5', '--method', 'ours', '--keyword-path', './keywords/ILT/class-name.txt', '--lr', '5e-05', '--epochs', '30', '--batch-size', '8', '--label-ratio', '0.2', '--pl-method', 'ot.text']\n",
      "num_evals already done of this model config: 21\n",
      "Config number 8: 0 repeats\n",
      "str args:  \n",
      "    --train-data ILT\n",
      "    --val-data ILT\n",
      "    --save-freq 5\n",
      "    --eval-file ./results/eval_ilt.txt\n",
      "    --zeroshot-frequency 5\n",
      "    \n",
      "--method ours\n",
      "--keyword-path ./keywords/ILT/class-name.txt\n",
      "--lr 5e-05\n",
      "--epochs 30\n",
      "--batch-size 8\n",
      "--label-ratio 0.2\n",
      "--pl-method ot.image\n",
      "['--train-data', 'ILT', '--val-data', 'ILT', '--save-freq', '5', '--eval-file', './results/eval_ilt.txt', '--zeroshot-frequency', '5', '--method', 'ours', '--keyword-path', './keywords/ILT/class-name.txt', '--lr', '5e-05', '--epochs', '30', '--batch-size', '8', '--label-ratio', '0.2', '--pl-method', 'ot.image']\n",
      "num_evals already done of this model config: 21\n",
      "Config number 9: 0 repeats\n",
      "str args:  \n",
      "    --train-data ILT\n",
      "    --val-data ILT\n",
      "    --save-freq 5\n",
      "    --eval-file ./results/eval_ilt.txt\n",
      "    --zeroshot-frequency 5\n",
      "    \n",
      "--method ours\n",
      "--keyword-path ./keywords/ILT/class-name.txt\n",
      "--lr 5e-05\n",
      "--epochs 30\n",
      "--batch-size 16\n",
      "--label-ratio 0.2\n",
      "--pl-method ot.text\n",
      "['--train-data', 'ILT', '--val-data', 'ILT', '--save-freq', '5', '--eval-file', './results/eval_ilt.txt', '--zeroshot-frequency', '5', '--method', 'ours', '--keyword-path', './keywords/ILT/class-name.txt', '--lr', '5e-05', '--epochs', '30', '--batch-size', '16', '--label-ratio', '0.2', '--pl-method', 'ot.text']\n",
      "num_evals already done of this model config: 7\n",
      "Config number 10: 2 repeats\n"
     ]
    },
    {
     "name": "stderr",
     "output_type": "stream",
     "text": [
      "  0%|                                                                                           | 0/30 [00:00<?, ?it/s]C:\\Users\\natalie-hollain\\AppData\\Local\\Programs\\Python\\Python311\\Lib\\site-packages\\ot\\bregman\\_sinkhorn.py:506: UserWarning: Warning: numerical errors at iteration 0\n",
      "  warnings.warn('Warning: numerical errors at iteration %d' % ii)\n",
      "100%|██████████████████████████████████████████████████████████████████████████████████| 30/30 [00:30<00:00,  1.03s/it]\n"
     ]
    },
    {
     "name": "stdout",
     "output_type": "stream",
     "text": [
      "Evaluation time: 36.519\n",
      "Evaluation time: 34.009\n",
      "Evaluation time: 32.711\n",
      "Evaluation time: 30.299\n",
      "Evaluation time: 31.874\n",
      "Evaluation time: 30.855\n"
     ]
    },
    {
     "name": "stderr",
     "output_type": "stream",
     "text": [
      "100%|██████████████████████████████████████████████████████████████████████████████████| 30/30 [00:24<00:00,  1.22it/s]\n"
     ]
    },
    {
     "name": "stdout",
     "output_type": "stream",
     "text": [
      "Evaluation time: 31.133\n",
      "Evaluation time: 29.708\n",
      "Evaluation time: 32.182\n",
      "Evaluation time: 31.368\n",
      "Evaluation time: 33.933\n",
      "Evaluation time: 34.499\n",
      "str args:  \n",
      "    --train-data ILT\n",
      "    --val-data ILT\n",
      "    --save-freq 5\n",
      "    --eval-file ./results/eval_ilt.txt\n",
      "    --zeroshot-frequency 5\n",
      "    \n",
      "--method ours\n",
      "--keyword-path ./keywords/ILT/class-name.txt\n",
      "--lr 5e-05\n",
      "--epochs 30\n",
      "--batch-size 16\n",
      "--label-ratio 0.2\n",
      "--pl-method ot.image\n",
      "['--train-data', 'ILT', '--val-data', 'ILT', '--save-freq', '5', '--eval-file', './results/eval_ilt.txt', '--zeroshot-frequency', '5', '--method', 'ours', '--keyword-path', './keywords/ILT/class-name.txt', '--lr', '5e-05', '--epochs', '30', '--batch-size', '16', '--label-ratio', '0.2', '--pl-method', 'ot.image']\n",
      "num_evals already done of this model config: 21\n",
      "Config number 11: 0 repeats\n",
      "str args:  \n",
      "    --train-data ILT\n",
      "    --val-data ILT\n",
      "    --save-freq 5\n",
      "    --eval-file ./results/eval_ilt.txt\n",
      "    --zeroshot-frequency 5\n",
      "    \n",
      "--method ours\n",
      "--keyword-path ./keywords/ILT/class-name.txt\n",
      "--lr 0.0005\n",
      "--epochs 30\n",
      "--batch-size 4\n",
      "--label-ratio 0.2\n",
      "--pl-method ot.text\n",
      "['--train-data', 'ILT', '--val-data', 'ILT', '--save-freq', '5', '--eval-file', './results/eval_ilt.txt', '--zeroshot-frequency', '5', '--method', 'ours', '--keyword-path', './keywords/ILT/class-name.txt', '--lr', '0.0005', '--epochs', '30', '--batch-size', '4', '--label-ratio', '0.2', '--pl-method', 'ot.text']\n",
      "Config number 12: 3 repeats\n"
     ]
    },
    {
     "name": "stderr",
     "output_type": "stream",
     "text": [
      "100%|██████████████████████████████████████████████████████████████████████████████████| 30/30 [01:10<00:00,  2.34s/it]\n"
     ]
    },
    {
     "name": "stdout",
     "output_type": "stream",
     "text": [
      "Evaluation time: 39.238\n",
      "Evaluation time: 33.488\n",
      "Evaluation time: 31.67\n",
      "Evaluation time: 32.131\n",
      "Evaluation time: 33.532\n",
      "Evaluation time: 32.063\n"
     ]
    },
    {
     "name": "stderr",
     "output_type": "stream",
     "text": [
      "100%|██████████████████████████████████████████████████████████████████████████████████| 30/30 [01:10<00:00,  2.35s/it]\n"
     ]
    },
    {
     "name": "stdout",
     "output_type": "stream",
     "text": [
      "Evaluation time: 36.476\n",
      "Evaluation time: 37.353\n",
      "Evaluation time: 35.957\n",
      "Evaluation time: 32.572\n",
      "Evaluation time: 33.175\n",
      "Evaluation time: 34.027\n"
     ]
    },
    {
     "name": "stderr",
     "output_type": "stream",
     "text": [
      "100%|██████████████████████████████████████████████████████████████████████████████████| 30/30 [01:10<00:00,  2.33s/it]\n"
     ]
    },
    {
     "name": "stdout",
     "output_type": "stream",
     "text": [
      "Evaluation time: 39.78\n",
      "Evaluation time: 45.49\n",
      "Evaluation time: 42.244\n",
      "Evaluation time: 38.499\n",
      "Evaluation time: 33.343\n",
      "Evaluation time: 32.633\n",
      "str args:  \n",
      "    --train-data ILT\n",
      "    --val-data ILT\n",
      "    --save-freq 5\n",
      "    --eval-file ./results/eval_ilt.txt\n",
      "    --zeroshot-frequency 5\n",
      "    \n",
      "--method ours\n",
      "--keyword-path ./keywords/ILT/class-name.txt\n",
      "--lr 0.0005\n",
      "--epochs 30\n",
      "--batch-size 4\n",
      "--label-ratio 0.2\n",
      "--pl-method ot.image\n",
      "['--train-data', 'ILT', '--val-data', 'ILT', '--save-freq', '5', '--eval-file', './results/eval_ilt.txt', '--zeroshot-frequency', '5', '--method', 'ours', '--keyword-path', './keywords/ILT/class-name.txt', '--lr', '0.0005', '--epochs', '30', '--batch-size', '4', '--label-ratio', '0.2', '--pl-method', 'ot.image']\n",
      "num_evals already done of this model config: 21\n",
      "Config number 13: 0 repeats\n",
      "str args:  \n",
      "    --train-data ILT\n",
      "    --val-data ILT\n",
      "    --save-freq 5\n",
      "    --eval-file ./results/eval_ilt.txt\n",
      "    --zeroshot-frequency 5\n",
      "    \n",
      "--method ours\n",
      "--keyword-path ./keywords/ILT/class-name.txt\n",
      "--lr 0.0005\n",
      "--epochs 30\n",
      "--batch-size 8\n",
      "--label-ratio 0.2\n",
      "--pl-method ot.text\n",
      "['--train-data', 'ILT', '--val-data', 'ILT', '--save-freq', '5', '--eval-file', './results/eval_ilt.txt', '--zeroshot-frequency', '5', '--method', 'ours', '--keyword-path', './keywords/ILT/class-name.txt', '--lr', '0.0005', '--epochs', '30', '--batch-size', '8', '--label-ratio', '0.2', '--pl-method', 'ot.text']\n",
      "Config number 14: 3 repeats\n"
     ]
    },
    {
     "name": "stderr",
     "output_type": "stream",
     "text": [
      "100%|██████████████████████████████████████████████████████████████████████████████████| 30/30 [00:46<00:00,  1.55s/it]\n"
     ]
    },
    {
     "name": "stdout",
     "output_type": "stream",
     "text": [
      "Evaluation time: 32.419\n",
      "Evaluation time: 37.047\n",
      "Evaluation time: 41.67\n",
      "Evaluation time: 41.27\n",
      "Evaluation time: 39.688\n",
      "Evaluation time: 36.502\n"
     ]
    },
    {
     "name": "stderr",
     "output_type": "stream",
     "text": [
      "100%|██████████████████████████████████████████████████████████████████████████████████| 30/30 [00:47<00:00,  1.59s/it]\n"
     ]
    },
    {
     "name": "stdout",
     "output_type": "stream",
     "text": [
      "Evaluation time: 39.601\n",
      "Evaluation time: 31.344\n",
      "Evaluation time: 30.574\n",
      "Evaluation time: 32.739\n",
      "Evaluation time: 34.267\n",
      "Evaluation time: 37.899\n"
     ]
    },
    {
     "name": "stderr",
     "output_type": "stream",
     "text": [
      "100%|██████████████████████████████████████████████████████████████████████████████████| 30/30 [00:44<00:00,  1.50s/it]\n"
     ]
    },
    {
     "name": "stdout",
     "output_type": "stream",
     "text": [
      "Evaluation time: 42.025\n",
      "Evaluation time: 40.971\n",
      "Evaluation time: 34.678\n",
      "Evaluation time: 33.018\n",
      "Evaluation time: 33.061\n",
      "Evaluation time: 37.418\n",
      "str args:  \n",
      "    --train-data ILT\n",
      "    --val-data ILT\n",
      "    --save-freq 5\n",
      "    --eval-file ./results/eval_ilt.txt\n",
      "    --zeroshot-frequency 5\n",
      "    \n",
      "--method ours\n",
      "--keyword-path ./keywords/ILT/class-name.txt\n",
      "--lr 0.0005\n",
      "--epochs 30\n",
      "--batch-size 8\n",
      "--label-ratio 0.2\n",
      "--pl-method ot.image\n",
      "['--train-data', 'ILT', '--val-data', 'ILT', '--save-freq', '5', '--eval-file', './results/eval_ilt.txt', '--zeroshot-frequency', '5', '--method', 'ours', '--keyword-path', './keywords/ILT/class-name.txt', '--lr', '0.0005', '--epochs', '30', '--batch-size', '8', '--label-ratio', '0.2', '--pl-method', 'ot.image']\n",
      "num_evals already done of this model config: 21\n",
      "Config number 15: 0 repeats\n",
      "str args:  \n",
      "    --train-data ILT\n",
      "    --val-data ILT\n",
      "    --save-freq 5\n",
      "    --eval-file ./results/eval_ilt.txt\n",
      "    --zeroshot-frequency 5\n",
      "    \n",
      "--method ours\n",
      "--keyword-path ./keywords/ILT/class-name.txt\n",
      "--lr 0.0005\n",
      "--epochs 30\n",
      "--batch-size 16\n",
      "--label-ratio 0.2\n",
      "--pl-method ot.text\n",
      "['--train-data', 'ILT', '--val-data', 'ILT', '--save-freq', '5', '--eval-file', './results/eval_ilt.txt', '--zeroshot-frequency', '5', '--method', 'ours', '--keyword-path', './keywords/ILT/class-name.txt', '--lr', '0.0005', '--epochs', '30', '--batch-size', '16', '--label-ratio', '0.2', '--pl-method', 'ot.text']\n",
      "Config number 16: 3 repeats\n"
     ]
    },
    {
     "name": "stderr",
     "output_type": "stream",
     "text": [
      "100%|██████████████████████████████████████████████████████████████████████████████████| 30/30 [00:25<00:00,  1.16it/s]\n"
     ]
    },
    {
     "name": "stdout",
     "output_type": "stream",
     "text": [
      "Evaluation time: 35.952\n",
      "Evaluation time: 38.405\n",
      "Evaluation time: 36.341\n",
      "Evaluation time: 34.086\n",
      "Evaluation time: 31.332\n",
      "Evaluation time: 31.831\n"
     ]
    },
    {
     "name": "stderr",
     "output_type": "stream",
     "text": [
      "100%|██████████████████████████████████████████████████████████████████████████████████| 30/30 [00:27<00:00,  1.10it/s]\n"
     ]
    },
    {
     "name": "stdout",
     "output_type": "stream",
     "text": [
      "Evaluation time: 42.829\n",
      "Evaluation time: 50.763\n",
      "Evaluation time: 31.845\n",
      "Evaluation time: 35.385\n",
      "Evaluation time: 31.095\n",
      "Evaluation time: 39.496\n"
     ]
    },
    {
     "name": "stderr",
     "output_type": "stream",
     "text": [
      "100%|██████████████████████████████████████████████████████████████████████████████████| 30/30 [00:26<00:00,  1.14it/s]\n"
     ]
    },
    {
     "name": "stdout",
     "output_type": "stream",
     "text": [
      "Evaluation time: 43.656\n",
      "Evaluation time: 50.034\n",
      "Evaluation time: 31.97\n",
      "Evaluation time: 48.004\n",
      "Evaluation time: 47.309\n",
      "Evaluation time: 43.885\n",
      "str args:  \n",
      "    --train-data ILT\n",
      "    --val-data ILT\n",
      "    --save-freq 5\n",
      "    --eval-file ./results/eval_ilt.txt\n",
      "    --zeroshot-frequency 5\n",
      "    \n",
      "--method ours\n",
      "--keyword-path ./keywords/ILT/class-name.txt\n",
      "--lr 0.0005\n",
      "--epochs 30\n",
      "--batch-size 16\n",
      "--label-ratio 0.2\n",
      "--pl-method ot.image\n",
      "['--train-data', 'ILT', '--val-data', 'ILT', '--save-freq', '5', '--eval-file', './results/eval_ilt.txt', '--zeroshot-frequency', '5', '--method', 'ours', '--keyword-path', './keywords/ILT/class-name.txt', '--lr', '0.0005', '--epochs', '30', '--batch-size', '16', '--label-ratio', '0.2', '--pl-method', 'ot.image']\n",
      "num_evals already done of this model config: 21\n",
      "Config number 17: 0 repeats\n",
      "Elapsed time: 0:48:51.052783\n"
     ]
    }
   ],
   "source": [
    "gridsearch(base_str_args, gridsearch_dict, model_history, eval_file, split, change_seed = True, num_repeats = 3)"
   ]
  },
  {
   "cell_type": "code",
   "execution_count": null,
   "id": "b45befe0-163b-4c25-88e1-348c3ab46788",
   "metadata": {},
   "outputs": [],
   "source": []
  }
 ],
 "metadata": {
  "kernelspec": {
   "display_name": "Python 3 (ipykernel)",
   "language": "python",
   "name": "python3"
  },
  "language_info": {
   "codemirror_mode": {
    "name": "ipython",
    "version": 3
   },
   "file_extension": ".py",
   "mimetype": "text/x-python",
   "name": "python",
   "nbconvert_exporter": "python",
   "pygments_lexer": "ipython3",
   "version": "3.11.7"
  }
 },
 "nbformat": 4,
 "nbformat_minor": 5
}
