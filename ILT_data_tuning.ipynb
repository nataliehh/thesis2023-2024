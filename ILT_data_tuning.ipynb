{
 "cells": [
  {
   "cell_type": "code",
   "execution_count": 1,
   "id": "3c926ae9",
   "metadata": {},
   "outputs": [
    {
     "name": "stderr",
     "output_type": "stream",
     "text": [
      "[nltk_data] Downloading package punkt to C:\\Users\\Laptop of\n",
      "[nltk_data]     Natalie\\AppData\\Roaming\\nltk_data...\n",
      "[nltk_data]   Package punkt is already up-to-date!\n",
      "[nltk_data] Downloading package averaged_perceptron_tagger to\n",
      "[nltk_data]     C:\\Users\\Laptop of\n",
      "[nltk_data]     Natalie\\AppData\\Roaming\\nltk_data...\n",
      "[nltk_data]   Package averaged_perceptron_tagger is already up-to-\n",
      "[nltk_data]       date!\n"
     ]
    }
   ],
   "source": [
    "import sys\n",
    "sys.path.append('./scripts')\n",
    "sys.path.append('./probvlm')\n",
    "\n",
    "import itertools\n",
    "from collections import Counter\n",
    "from main import main, format_checkpoint\n",
    "from params import parse_args\n",
    "import copy\n",
    "import os\n",
    "from tqdm import tqdm\n",
    "from datetime import datetime\n",
    "import time\n",
    "\n",
    "from tuning_tools import prep_str_args, evaluate_checkpoint"
   ]
  },
  {
   "cell_type": "code",
   "execution_count": 2,
   "id": "f2717c0b",
   "metadata": {},
   "outputs": [
    {
     "name": "stdout",
     "output_type": "stream",
     "text": [
      "Number of configs: 9\n"
     ]
    }
   ],
   "source": [
    "########################\n",
    "# Count the models that have been trained and evaluated already, based on their parameters \n",
    "results = []\n",
    "if os.path.exists('./results/eval_ilt.txt'):   \n",
    "    with open('./results/eval_ilt.txt', 'r') as f:\n",
    "        results = f.readlines()\n",
    "\n",
    "# Remove any non-result lines from the eval file, and split the lines on the tab character\n",
    "# (results have format: model_name\\tdataset_name\\tmetric_name\\tmetric_value)\n",
    "results = [r.replace('\\n','').split('\\t')[0] for r in results if '\\t' in r]\n",
    "model_names = results\n",
    "# Remove the timestamp from the model names, as well as the specific fold - rest of the name contains params\n",
    "model_names = ['-'.join(m.split('-')[2:]).split('-fold')[0] for m in model_names]\n",
    "model_names = dict(Counter(model_names))\n",
    "# print('Model_names', model_names)\n",
    "\n",
    "# Do a grid search on the parameters\n",
    "# NOTE: for active learning, save-freq should be set to 1\n",
    "base_str_args = ''' --train-data ILT\n",
    "--val-data ILT\n",
    "--keyword-path keywords/RS/class-name.txt\n",
    "--zeroshot-frequency 5  \n",
    "--method base\n",
    "--eval-file ./results/eval_ilt.txt\n",
    "--save-freq 5\n",
    "'''\n",
    "# --active-learning\n",
    "# --probvlm\n",
    "#--save-freq 1\n",
    "\n",
    "# Dictionary of values to gridsearch for hyperparam tuning\n",
    "gridsearch_dict = {\n",
    "    '--lr': [5e-4, 5e-5, 5e-6],\n",
    "    '--epochs' : [30], #list(range(15,36,5)) if 'active-learning' in base_str_args else [35], #[10,15,20,25,30,35],\n",
    "    '--batch-size' : [16, 32, 64],\n",
    "#     '--al-iter': [5], #list(range(3,17,2)), #list(range(1,6,2)),\n",
    "#     '--al-epochs': [10],\n",
    "    '--label-ratio': [0.1], #[0.05, 0.1, 0.2, 0.4, 0.8],\n",
    "    #'--pl-method': ['soft.text'],\n",
    "}\n",
    "\n",
    "# How many times to re-evaluate the model on the test set (to get an average and std of the results)\n",
    "num_repeats = 5\n",
    "num_evals = 20 # How many evaluations are done with evaluate_checkpoint(...) - KEEP THIS FIXED\n",
    "\n",
    "gridsearch_values = list(gridsearch_dict.values())\n",
    "gridsearch_keys = list(gridsearch_dict.keys())\n",
    "configs = list(itertools.product(*gridsearch_values))\n",
    "print('Number of configs:', len(configs))"
   ]
  },
  {
   "cell_type": "code",
   "execution_count": null,
   "id": "bac88c2c",
   "metadata": {},
   "outputs": [
    {
     "name": "stdout",
     "output_type": "stream",
     "text": [
      "['--train-data', 'ILT', '--val-data', 'ILT', '--keyword-path', 'keywords/RS/class-name.txt', '--zeroshot-frequency', '5', '--method', 'base', '--eval-file', './results/eval_ilt.txt', '--save-freq', '5', '--lr', '0.0005', '--epochs', '30', '--batch-size', '16', '--label-ratio', '0.1']\n",
      "Config number 0: 5 repeats\n"
     ]
    },
    {
     "name": "stderr",
     "output_type": "stream",
     "text": [
      "100%|██████████████████████████████████████████████████████████████████████████████████| 30/30 [00:58<00:00,  1.95s/it]\n",
      "100%|██████████████████████████████████████████████████████████████████████████████████| 30/30 [01:16<00:00,  2.56s/it]\n",
      "100%|██████████████████████████████████████████████████████████████████████████████████| 30/30 [00:50<00:00,  1.68s/it]\n",
      "100%|██████████████████████████████████████████████████████████████████████████████████| 30/30 [00:58<00:00,  1.96s/it]\n",
      "100%|██████████████████████████████████████████████████████████████████████████████████| 30/30 [00:51<00:00,  1.70s/it]\n"
     ]
    },
    {
     "name": "stdout",
     "output_type": "stream",
     "text": [
      "['--train-data', 'ILT', '--val-data', 'ILT', '--keyword-path', 'keywords/RS/class-name.txt', '--zeroshot-frequency', '5', '--method', 'base', '--eval-file', './results/eval_ilt.txt', '--save-freq', '5', '--lr', '0.0005', '--epochs', '30', '--batch-size', '32', '--label-ratio', '0.1']\n",
      "Config number 1: 5 repeats\n"
     ]
    },
    {
     "name": "stderr",
     "output_type": "stream",
     "text": [
      "100%|██████████████████████████████████████████████████████████████████████████████████| 30/30 [00:45<00:00,  1.51s/it]\n",
      "100%|██████████████████████████████████████████████████████████████████████████████████| 30/30 [00:44<00:00,  1.49s/it]\n"
     ]
    }
   ],
   "source": [
    "t_start = datetime.now() \n",
    "for c, config in enumerate(configs): # Gridsearch\n",
    "    str_args = copy.deepcopy(base_str_args)\n",
    "    # Add the gridsearch parameters to the arguments\n",
    "    for i, param in enumerate(config):\n",
    "        param_name = gridsearch_keys[i]\n",
    "        str_args += '\\n{} {}'.format(param_name, param)\n",
    "        \n",
    "    str_args = prep_str_args(str_args)\n",
    "    print(str_args)\n",
    "    args = parse_args(str_args)\n",
    "    checkpoint_hypothetical = format_checkpoint(args)\n",
    "    # Remove the timestamp from the hypothetical checkpoint, so we can compare to the params of other checkpoints\n",
    "    checkpoint_params = '-'.join(checkpoint_hypothetical.split('-')[2:]).split('-fold')[0]\n",
    "\n",
    "    # Check if we've already trained the exact same model, correct the number of training iterations we still need to do\n",
    "    if checkpoint_params in model_names:\n",
    "        # The number of times to repeat depends on how often the model's been evaluated already\n",
    "        start_repeat = int(model_names[checkpoint_params]/num_evals)\n",
    "    else: # If we've never trained + evaluated the model before, just use num_repeats\n",
    "        start_repeat = 0\n",
    "    print(f'Config number {c}: {max(0,num_repeats-start_repeat)} repeats')\n",
    "    for i in range(start_repeat, num_repeats):\n",
    "        args = parse_args(str_args)\n",
    "        args.seed = i\n",
    "        # We compute here for which epochs we need to evaluate (based on for which epochs we checkpoint)\n",
    "        epoch_freq = args.save_freq\n",
    "        epochs = list(range(epoch_freq,args.epochs+1,epoch_freq))\n",
    "        \n",
    "        checkpoint_path = main(args) # Calls the main.py function of S-CLIP\n",
    "        for epoch in epochs:\n",
    "            t_start = time.time()\n",
    "            evaluate_checkpoint(checkpoint_path, epoch = epoch, split = 'val', eval_file = './results/eval_ilt.txt')\n",
    "            print(f'Evaluation time: {round(time.time()-t_start, 3)}')\n",
    "        # Remove the checkpoint after evaluating, to save space\n",
    "        os.system(f\"rm -r {checkpoint_path}\")  \n",
    "\n",
    "t_delta = datetime.now() - t_start   \n",
    "print(f'Elapsed time: {t_delta}')"
   ]
  },
  {
   "cell_type": "code",
   "execution_count": null,
   "id": "e14dd525",
   "metadata": {},
   "outputs": [],
   "source": []
  }
 ],
 "metadata": {
  "kernelspec": {
   "display_name": "Python 3 (ipykernel)",
   "language": "python",
   "name": "python3"
  },
  "language_info": {
   "codemirror_mode": {
    "name": "ipython",
    "version": 3
   },
   "file_extension": ".py",
   "mimetype": "text/x-python",
   "name": "python",
   "nbconvert_exporter": "python",
   "pygments_lexer": "ipython3",
   "version": "3.9.5"
  }
 },
 "nbformat": 4,
 "nbformat_minor": 5
}
