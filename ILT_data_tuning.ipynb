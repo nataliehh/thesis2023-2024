{
 "cells": [
  {
   "cell_type": "code",
   "execution_count": 1,
   "id": "3c926ae9",
   "metadata": {},
   "outputs": [
    {
     "name": "stderr",
     "output_type": "stream",
     "text": [
      "[nltk_data] Downloading package punkt to C:\\Users\\Laptop of\n",
      "[nltk_data]     Natalie\\AppData\\Roaming\\nltk_data...\n",
      "[nltk_data]   Package punkt is already up-to-date!\n",
      "[nltk_data] Downloading package averaged_perceptron_tagger to\n",
      "[nltk_data]     C:\\Users\\Laptop of\n",
      "[nltk_data]     Natalie\\AppData\\Roaming\\nltk_data...\n",
      "[nltk_data]   Package averaged_perceptron_tagger is already up-to-\n",
      "[nltk_data]       date!\n"
     ]
    }
   ],
   "source": [
    "import sys\n",
    "sys.path.append('./scripts')\n",
    "sys.path.append('./probvlm')\n",
    "\n",
    "from tuning_tools import prep_str_args, evaluate_checkpoint, get_evaluation_history, gridsearch, create_base_str_args"
   ]
  },
  {
   "cell_type": "code",
   "execution_count": 2,
   "id": "f2717c0b",
   "metadata": {},
   "outputs": [
    {
     "name": "stdout",
     "output_type": "stream",
     "text": [
      "base str args:  \n",
      "    --train-data ILT\n",
      "    --val-data ILT\n",
      "    --save-freq 5\n",
      "    --eval-file ./results/eval_ilt.txt\n",
      "    --zeroshot-frequency 5\n",
      "    --method base\n",
      "    \n"
     ]
    }
   ],
   "source": [
    "history_path = './results/eval_ilt.txt'  \n",
    "model_history = get_evaluation_history(history_path) # Get the history of evaluated models\n",
    "eval_file = './results/eval_ilt.txt'\n",
    "split = 'val'\n",
    "\n",
    "base_str_args = create_base_str_args('baseline', 'ILT', eval_file)\n",
    "print('base str args:', base_str_args)\n",
    "\n",
    "# Dictionary of values to gridsearch for hyperparam tuning\n",
    "gridsearch_dict = {\n",
    "    '--lr': [5e-7, 5e-6, 5e-5],\n",
    "    '--epochs' : [30], #list(range(15,36,5)) if 'active-learning' in base_str_args else [35], #[10,15,20,25,30,35],\n",
    "    '--batch-size' : [4, 8, 16],\n",
    "    '--label-ratio': [0.5], #[0.05, 0.1, 0.2, 0.4, 0.8],\n",
    "    '--device' : ['cpu'],\n",
    "#     '--model': ['ViT-B-32'],\n",
    "}"
   ]
  },
  {
   "cell_type": "code",
   "execution_count": 3,
   "id": "bac88c2c",
   "metadata": {},
   "outputs": [
    {
     "name": "stdout",
     "output_type": "stream",
     "text": [
      "Evaluations per model run: 7\n",
      "Number of configs: 9\n",
      "str args:  \n",
      "    --train-data ILT\n",
      "    --val-data ILT\n",
      "    --save-freq 5\n",
      "    --eval-file ./results/eval_ilt.txt\n",
      "    --zeroshot-frequency 5\n",
      "    --method base\n",
      "    \n",
      "--lr 5e-07\n",
      "--epochs 30\n",
      "--batch-size 4\n",
      "--label-ratio 0.5\n",
      "--device cpu\n",
      "['--train-data', 'ILT', '--val-data', 'ILT', '--save-freq', '5', '--eval-file', './results/eval_ilt.txt', '--zeroshot-frequency', '5', '--method', 'base', '--lr', '5e-07', '--epochs', '30', '--batch-size', '4', '--label-ratio', '0.5', '--device', 'cpu']\n",
      "num_evals already done of this model config: 63\n",
      "Config number 0: 0 repeats\n",
      "str args:  \n",
      "    --train-data ILT\n",
      "    --val-data ILT\n",
      "    --save-freq 5\n",
      "    --eval-file ./results/eval_ilt.txt\n",
      "    --zeroshot-frequency 5\n",
      "    --method base\n",
      "    \n",
      "--lr 5e-07\n",
      "--epochs 30\n",
      "--batch-size 8\n",
      "--label-ratio 0.5\n",
      "--device cpu\n",
      "['--train-data', 'ILT', '--val-data', 'ILT', '--save-freq', '5', '--eval-file', './results/eval_ilt.txt', '--zeroshot-frequency', '5', '--method', 'base', '--lr', '5e-07', '--epochs', '30', '--batch-size', '8', '--label-ratio', '0.5', '--device', 'cpu']\n",
      "num_evals already done of this model config: 63\n",
      "Config number 1: 0 repeats\n",
      "str args:  \n",
      "    --train-data ILT\n",
      "    --val-data ILT\n",
      "    --save-freq 5\n",
      "    --eval-file ./results/eval_ilt.txt\n",
      "    --zeroshot-frequency 5\n",
      "    --method base\n",
      "    \n",
      "--lr 5e-07\n",
      "--epochs 30\n",
      "--batch-size 16\n",
      "--label-ratio 0.5\n",
      "--device cpu\n",
      "['--train-data', 'ILT', '--val-data', 'ILT', '--save-freq', '5', '--eval-file', './results/eval_ilt.txt', '--zeroshot-frequency', '5', '--method', 'base', '--lr', '5e-07', '--epochs', '30', '--batch-size', '16', '--label-ratio', '0.5', '--device', 'cpu']\n",
      "num_evals already done of this model config: 56\n",
      "Config number 2: 0 repeats\n",
      "str args:  \n",
      "    --train-data ILT\n",
      "    --val-data ILT\n",
      "    --save-freq 5\n",
      "    --eval-file ./results/eval_ilt.txt\n",
      "    --zeroshot-frequency 5\n",
      "    --method base\n",
      "    \n",
      "--lr 5e-06\n",
      "--epochs 30\n",
      "--batch-size 4\n",
      "--label-ratio 0.5\n",
      "--device cpu\n",
      "['--train-data', 'ILT', '--val-data', 'ILT', '--save-freq', '5', '--eval-file', './results/eval_ilt.txt', '--zeroshot-frequency', '5', '--method', 'base', '--lr', '5e-06', '--epochs', '30', '--batch-size', '4', '--label-ratio', '0.5', '--device', 'cpu']\n",
      "num_evals already done of this model config: 35\n",
      "Config number 3: 0 repeats\n",
      "str args:  \n",
      "    --train-data ILT\n",
      "    --val-data ILT\n",
      "    --save-freq 5\n",
      "    --eval-file ./results/eval_ilt.txt\n",
      "    --zeroshot-frequency 5\n",
      "    --method base\n",
      "    \n",
      "--lr 5e-06\n",
      "--epochs 30\n",
      "--batch-size 8\n",
      "--label-ratio 0.5\n",
      "--device cpu\n",
      "['--train-data', 'ILT', '--val-data', 'ILT', '--save-freq', '5', '--eval-file', './results/eval_ilt.txt', '--zeroshot-frequency', '5', '--method', 'base', '--lr', '5e-06', '--epochs', '30', '--batch-size', '8', '--label-ratio', '0.5', '--device', 'cpu']\n",
      "num_evals already done of this model config: 35\n",
      "Config number 4: 0 repeats\n",
      "str args:  \n",
      "    --train-data ILT\n",
      "    --val-data ILT\n",
      "    --save-freq 5\n",
      "    --eval-file ./results/eval_ilt.txt\n",
      "    --zeroshot-frequency 5\n",
      "    --method base\n",
      "    \n",
      "--lr 5e-06\n",
      "--epochs 30\n",
      "--batch-size 16\n",
      "--label-ratio 0.5\n",
      "--device cpu\n",
      "['--train-data', 'ILT', '--val-data', 'ILT', '--save-freq', '5', '--eval-file', './results/eval_ilt.txt', '--zeroshot-frequency', '5', '--method', 'base', '--lr', '5e-06', '--epochs', '30', '--batch-size', '16', '--label-ratio', '0.5', '--device', 'cpu']\n",
      "num_evals already done of this model config: 35\n",
      "Config number 5: 0 repeats\n",
      "str args:  \n",
      "    --train-data ILT\n",
      "    --val-data ILT\n",
      "    --save-freq 5\n",
      "    --eval-file ./results/eval_ilt.txt\n",
      "    --zeroshot-frequency 5\n",
      "    --method base\n",
      "    \n",
      "--lr 5e-05\n",
      "--epochs 30\n",
      "--batch-size 4\n",
      "--label-ratio 0.5\n",
      "--device cpu\n",
      "['--train-data', 'ILT', '--val-data', 'ILT', '--save-freq', '5', '--eval-file', './results/eval_ilt.txt', '--zeroshot-frequency', '5', '--method', 'base', '--lr', '5e-05', '--epochs', '30', '--batch-size', '4', '--label-ratio', '0.5', '--device', 'cpu']\n",
      "num_evals already done of this model config: 35\n",
      "Config number 6: 0 repeats\n",
      "str args:  \n",
      "    --train-data ILT\n",
      "    --val-data ILT\n",
      "    --save-freq 5\n",
      "    --eval-file ./results/eval_ilt.txt\n",
      "    --zeroshot-frequency 5\n",
      "    --method base\n",
      "    \n",
      "--lr 5e-05\n",
      "--epochs 30\n",
      "--batch-size 8\n",
      "--label-ratio 0.5\n",
      "--device cpu\n",
      "['--train-data', 'ILT', '--val-data', 'ILT', '--save-freq', '5', '--eval-file', './results/eval_ilt.txt', '--zeroshot-frequency', '5', '--method', 'base', '--lr', '5e-05', '--epochs', '30', '--batch-size', '8', '--label-ratio', '0.5', '--device', 'cpu']\n",
      "num_evals already done of this model config: 28\n",
      "Config number 7: 1 repeats\n"
     ]
    },
    {
     "name": "stderr",
     "output_type": "stream",
     "text": [
      "100%|██████████████████████████████████████████████████████████████████████████████████| 30/30 [20:47<00:00, 41.58s/it]\n"
     ]
    },
    {
     "name": "stdout",
     "output_type": "stream",
     "text": [
      "Evaluation time: 1172.518\n",
      "Evaluation time: 299.935\n",
      "Evaluation time: 278.032\n",
      "Evaluation time: 278.431\n",
      "Evaluation time: 268.054\n",
      "Evaluation time: 271.256\n",
      "str args:  \n",
      "    --train-data ILT\n",
      "    --val-data ILT\n",
      "    --save-freq 5\n",
      "    --eval-file ./results/eval_ilt.txt\n",
      "    --zeroshot-frequency 5\n",
      "    --method base\n",
      "    \n",
      "--lr 5e-05\n",
      "--epochs 30\n",
      "--batch-size 16\n",
      "--label-ratio 0.5\n",
      "--device cpu\n",
      "['--train-data', 'ILT', '--val-data', 'ILT', '--save-freq', '5', '--eval-file', './results/eval_ilt.txt', '--zeroshot-frequency', '5', '--method', 'base', '--lr', '5e-05', '--epochs', '30', '--batch-size', '16', '--label-ratio', '0.5', '--device', 'cpu']\n",
      "Config number 8: 5 repeats\n"
     ]
    },
    {
     "name": "stderr",
     "output_type": "stream",
     "text": [
      "100%|██████████████████████████████████████████████████████████████████████████████████| 30/30 [08:19<00:00, 16.65s/it]\n"
     ]
    },
    {
     "name": "stdout",
     "output_type": "stream",
     "text": [
      "Evaluation time: 234.929\n",
      "Evaluation time: 137.286\n",
      "Evaluation time: 317.509\n",
      "Evaluation time: 252.245\n",
      "Evaluation time: 283.23\n",
      "Evaluation time: 304.732\n"
     ]
    },
    {
     "name": "stderr",
     "output_type": "stream",
     "text": [
      "100%|██████████████████████████████████████████████████████████████████████████████████| 30/30 [09:31<00:00, 19.03s/it]\n"
     ]
    },
    {
     "name": "stdout",
     "output_type": "stream",
     "text": [
      "Evaluation time: 261.765\n",
      "Evaluation time: 133.687\n",
      "Evaluation time: 122.215\n",
      "Evaluation time: 119.407\n",
      "Evaluation time: 102.598\n",
      "Evaluation time: 101.096\n"
     ]
    },
    {
     "name": "stderr",
     "output_type": "stream",
     "text": [
      "100%|██████████████████████████████████████████████████████████████████████████████████| 30/30 [08:08<00:00, 16.29s/it]\n"
     ]
    },
    {
     "name": "stdout",
     "output_type": "stream",
     "text": [
      "Evaluation time: 221.894\n",
      "Evaluation time: 130.608\n",
      "Evaluation time: 120.327\n",
      "Evaluation time: 126.029\n",
      "Evaluation time: 119.604\n",
      "Evaluation time: 118.668\n"
     ]
    },
    {
     "name": "stderr",
     "output_type": "stream",
     "text": [
      "100%|██████████████████████████████████████████████████████████████████████████████████| 30/30 [08:15<00:00, 16.51s/it]\n"
     ]
    },
    {
     "name": "stdout",
     "output_type": "stream",
     "text": [
      "Evaluation time: 278.073\n",
      "Evaluation time: 126.641\n",
      "Evaluation time: 192.212\n",
      "Evaluation time: 121.683\n",
      "Evaluation time: 123.274\n",
      "Evaluation time: 118.164\n"
     ]
    },
    {
     "name": "stderr",
     "output_type": "stream",
     "text": [
      "100%|██████████████████████████████████████████████████████████████████████████████████| 30/30 [07:58<00:00, 15.94s/it]\n"
     ]
    },
    {
     "name": "stdout",
     "output_type": "stream",
     "text": [
      "Evaluation time: 195.483\n",
      "Evaluation time: 81.41\n",
      "Evaluation time: 74.283\n",
      "Evaluation time: 75.43\n",
      "Evaluation time: 72.354\n",
      "Evaluation time: 76.422\n",
      "Elapsed time: 3:05:33.522180\n"
     ]
    }
   ],
   "source": [
    "gridsearch(base_str_args, gridsearch_dict, model_history, eval_file, split, change_seed = True)"
   ]
  },
  {
   "cell_type": "code",
   "execution_count": 4,
   "id": "4ee85443",
   "metadata": {},
   "outputs": [
    {
     "data": {
      "text/plain": [
       "[('RN50', 'openai'),\n",
       " ('RN50', 'yfcc15m'),\n",
       " ('RN50', 'cc12m'),\n",
       " ('RN50-quickgelu', 'openai'),\n",
       " ('RN50-quickgelu', 'yfcc15m'),\n",
       " ('RN50-quickgelu', 'cc12m'),\n",
       " ('RN101', 'openai'),\n",
       " ('RN101', 'yfcc15m'),\n",
       " ('RN101-quickgelu', 'openai'),\n",
       " ('RN101-quickgelu', 'yfcc15m'),\n",
       " ('RN50x4', 'openai'),\n",
       " ('RN50x16', 'openai'),\n",
       " ('RN50x64', 'openai'),\n",
       " ('ViT-B-32', 'openai'),\n",
       " ('ViT-B-32', 'laion400m_e31'),\n",
       " ('ViT-B-32', 'laion400m_e32'),\n",
       " ('ViT-B-32', 'laion2b_e16'),\n",
       " ('ViT-B-32', 'laion2b_s34b_b79k'),\n",
       " ('ViT-B-32', 'datacomp_xl_s13b_b90k'),\n",
       " ('ViT-B-32', 'datacomp_m_s128m_b4k'),\n",
       " ('ViT-B-32', 'commonpool_m_clip_s128m_b4k'),\n",
       " ('ViT-B-32', 'commonpool_m_laion_s128m_b4k'),\n",
       " ('ViT-B-32', 'commonpool_m_image_s128m_b4k'),\n",
       " ('ViT-B-32', 'commonpool_m_text_s128m_b4k'),\n",
       " ('ViT-B-32', 'commonpool_m_basic_s128m_b4k'),\n",
       " ('ViT-B-32', 'commonpool_m_s128m_b4k'),\n",
       " ('ViT-B-32', 'datacomp_s_s13m_b4k'),\n",
       " ('ViT-B-32', 'commonpool_s_clip_s13m_b4k'),\n",
       " ('ViT-B-32', 'commonpool_s_laion_s13m_b4k'),\n",
       " ('ViT-B-32', 'commonpool_s_image_s13m_b4k'),\n",
       " ('ViT-B-32', 'commonpool_s_text_s13m_b4k'),\n",
       " ('ViT-B-32', 'commonpool_s_basic_s13m_b4k'),\n",
       " ('ViT-B-32', 'commonpool_s_s13m_b4k'),\n",
       " ('ViT-B-32-256', 'datacomp_s34b_b86k'),\n",
       " ('ViT-B-32-quickgelu', 'openai'),\n",
       " ('ViT-B-32-quickgelu', 'laion400m_e31'),\n",
       " ('ViT-B-32-quickgelu', 'laion400m_e32'),\n",
       " ('ViT-B-32-quickgelu', 'metaclip_400m'),\n",
       " ('ViT-B-32-quickgelu', 'metaclip_fullcc'),\n",
       " ('ViT-B-16', 'openai'),\n",
       " ('ViT-B-16', 'laion400m_e31'),\n",
       " ('ViT-B-16', 'laion400m_e32'),\n",
       " ('ViT-B-16', 'laion2b_s34b_b88k'),\n",
       " ('ViT-B-16', 'datacomp_xl_s13b_b90k'),\n",
       " ('ViT-B-16', 'datacomp_l_s1b_b8k'),\n",
       " ('ViT-B-16', 'commonpool_l_clip_s1b_b8k'),\n",
       " ('ViT-B-16', 'commonpool_l_laion_s1b_b8k'),\n",
       " ('ViT-B-16', 'commonpool_l_image_s1b_b8k'),\n",
       " ('ViT-B-16', 'commonpool_l_text_s1b_b8k'),\n",
       " ('ViT-B-16', 'commonpool_l_basic_s1b_b8k'),\n",
       " ('ViT-B-16', 'commonpool_l_s1b_b8k'),\n",
       " ('ViT-B-16-quickgelu', 'metaclip_400m'),\n",
       " ('ViT-B-16-quickgelu', 'metaclip_fullcc'),\n",
       " ('ViT-B-16-plus-240', 'laion400m_e31'),\n",
       " ('ViT-B-16-plus-240', 'laion400m_e32'),\n",
       " ('ViT-L-14', 'openai'),\n",
       " ('ViT-L-14', 'laion400m_e31'),\n",
       " ('ViT-L-14', 'laion400m_e32'),\n",
       " ('ViT-L-14', 'laion2b_s32b_b82k'),\n",
       " ('ViT-L-14', 'datacomp_xl_s13b_b90k'),\n",
       " ('ViT-L-14', 'commonpool_xl_clip_s13b_b90k'),\n",
       " ('ViT-L-14', 'commonpool_xl_laion_s13b_b90k'),\n",
       " ('ViT-L-14', 'commonpool_xl_s13b_b90k'),\n",
       " ('ViT-L-14-quickgelu', 'metaclip_400m'),\n",
       " ('ViT-L-14-quickgelu', 'metaclip_fullcc'),\n",
       " ('ViT-L-14-336', 'openai'),\n",
       " ('ViT-H-14', 'laion2b_s32b_b79k'),\n",
       " ('ViT-H-14-quickgelu', 'metaclip_fullcc'),\n",
       " ('ViT-g-14', 'laion2b_s12b_b42k'),\n",
       " ('ViT-g-14', 'laion2b_s34b_b88k'),\n",
       " ('ViT-bigG-14', 'laion2b_s39b_b160k'),\n",
       " ('roberta-ViT-B-32', 'laion2b_s12b_b32k'),\n",
       " ('xlm-roberta-base-ViT-B-32', 'laion5b_s13b_b90k'),\n",
       " ('xlm-roberta-large-ViT-H-14', 'frozen_laion5b_s13b_b90k'),\n",
       " ('convnext_base', 'laion400m_s13b_b51k'),\n",
       " ('convnext_base_w', 'laion2b_s13b_b82k'),\n",
       " ('convnext_base_w', 'laion2b_s13b_b82k_augreg'),\n",
       " ('convnext_base_w', 'laion_aesthetic_s13b_b82k'),\n",
       " ('convnext_base_w_320', 'laion_aesthetic_s13b_b82k'),\n",
       " ('convnext_base_w_320', 'laion_aesthetic_s13b_b82k_augreg'),\n",
       " ('convnext_large_d', 'laion2b_s26b_b102k_augreg'),\n",
       " ('convnext_large_d_320', 'laion2b_s29b_b131k_ft'),\n",
       " ('convnext_large_d_320', 'laion2b_s29b_b131k_ft_soup'),\n",
       " ('convnext_xxlarge', 'laion2b_s34b_b82k_augreg'),\n",
       " ('convnext_xxlarge', 'laion2b_s34b_b82k_augreg_rewind'),\n",
       " ('convnext_xxlarge', 'laion2b_s34b_b82k_augreg_soup'),\n",
       " ('coca_ViT-B-32', 'laion2b_s13b_b90k'),\n",
       " ('coca_ViT-B-32', 'mscoco_finetuned_laion2b_s13b_b90k'),\n",
       " ('coca_ViT-L-14', 'laion2b_s13b_b90k'),\n",
       " ('coca_ViT-L-14', 'mscoco_finetuned_laion2b_s13b_b90k'),\n",
       " ('EVA01-g-14', 'laion400m_s11b_b41k'),\n",
       " ('EVA01-g-14-plus', 'merged2b_s11b_b114k'),\n",
       " ('EVA02-B-16', 'merged2b_s8b_b131k'),\n",
       " ('EVA02-L-14', 'merged2b_s4b_b131k'),\n",
       " ('EVA02-L-14-336', 'merged2b_s6b_b61k'),\n",
       " ('EVA02-E-14', 'laion2b_s4b_b115k'),\n",
       " ('EVA02-E-14-plus', 'laion2b_s9b_b144k'),\n",
       " ('ViT-B-16-SigLIP', 'webli'),\n",
       " ('ViT-B-16-SigLIP-256', 'webli'),\n",
       " ('ViT-B-16-SigLIP-i18n-256', 'webli'),\n",
       " ('ViT-B-16-SigLIP-384', 'webli'),\n",
       " ('ViT-B-16-SigLIP-512', 'webli'),\n",
       " ('ViT-L-16-SigLIP-256', 'webli'),\n",
       " ('ViT-L-16-SigLIP-384', 'webli'),\n",
       " ('ViT-SO400M-14-SigLIP', 'webli'),\n",
       " ('ViT-SO400M-14-SigLIP-384', 'webli'),\n",
       " ('ViT-L-14-CLIPA', 'datacomp1b'),\n",
       " ('ViT-L-14-CLIPA-336', 'datacomp1b'),\n",
       " ('ViT-H-14-CLIPA', 'datacomp1b'),\n",
       " ('ViT-H-14-CLIPA-336', 'laion2b'),\n",
       " ('ViT-H-14-CLIPA-336', 'datacomp1b'),\n",
       " ('ViT-bigG-14-CLIPA', 'datacomp1b'),\n",
       " ('ViT-bigG-14-CLIPA-336', 'datacomp1b'),\n",
       " ('nllb-clip-base', 'v1'),\n",
       " ('nllb-clip-large', 'v1')]"
      ]
     },
     "execution_count": 4,
     "metadata": {},
     "output_type": "execute_result"
    }
   ],
   "source": [
    ">>> import open_clip\n",
    ">>> open_clip.list_pretrained()"
   ]
  },
  {
   "cell_type": "code",
   "execution_count": null,
   "id": "caf16de4",
   "metadata": {},
   "outputs": [],
   "source": []
  }
 ],
 "metadata": {
  "kernelspec": {
   "display_name": "Python 3 (ipykernel)",
   "language": "python",
   "name": "python3"
  },
  "language_info": {
   "codemirror_mode": {
    "name": "ipython",
    "version": 3
   },
   "file_extension": ".py",
   "mimetype": "text/x-python",
   "name": "python",
   "nbconvert_exporter": "python",
   "pygments_lexer": "ipython3",
   "version": "3.9.5"
  }
 },
 "nbformat": 4,
 "nbformat_minor": 5
}
