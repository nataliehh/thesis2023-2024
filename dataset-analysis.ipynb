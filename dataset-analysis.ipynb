{
 "cells": [
  {
   "cell_type": "code",
   "execution_count": 4,
   "id": "6609046b",
   "metadata": {},
   "outputs": [],
   "source": [
    "import os\n",
    "from tqdm import tqdm\n",
    "\n",
    "image_suffixes = ['jpg', 'png']\n",
    "\n",
    "root_folder = r'D:\\Jupyter_notebook\\Thesis2023-2024_notebook\\data'\n",
    "\n",
    "data_folder = 'Fashion200k/women'\n",
    "\n",
    "extensions = []\n",
    "\n",
    "i = 0\n",
    "\n",
    "# for subdir, dirs, files in os.walk(os.path.join(root_folder, data_folder)):\n",
    "#     print(i, end = '\\r')\n",
    "#     i+=1\n",
    "#     for file in files:\n",
    "#         filepath = subdir + file\n",
    "#         suffix = filepath.split('.')[-1]\n",
    "#         extensions.append(suffix)\n",
    "#         if filepath.lower().endswith(\".jpeg\"):\n",
    "#             print(filepath)\n",
    "#             break\n",
    "#     break"
   ]
  },
  {
   "cell_type": "code",
   "execution_count": 5,
   "id": "82b1052a",
   "metadata": {},
   "outputs": [
    {
     "name": "stdout",
     "output_type": "stream",
     "text": [
      "set()\n"
     ]
    }
   ],
   "source": [
    "print(set(extensions))"
   ]
  },
  {
   "cell_type": "code",
   "execution_count": 6,
   "id": "9f45187d",
   "metadata": {},
   "outputs": [
    {
     "data": {
      "text/plain": [
       "['dresses', 'jackets', 'pants', 'skirts', 'tops']"
      ]
     },
     "execution_count": 6,
     "metadata": {},
     "output_type": "execute_result"
    }
   ],
   "source": [
    "os.listdir(os.path.join(root_folder, data_folder))"
   ]
  },
  {
   "cell_type": "code",
   "execution_count": null,
   "id": "ff9724e6",
   "metadata": {},
   "outputs": [],
   "source": []
  }
 ],
 "metadata": {
  "kernelspec": {
   "display_name": "Python 3 (ipykernel)",
   "language": "python",
   "name": "python3"
  },
  "language_info": {
   "codemirror_mode": {
    "name": "ipython",
    "version": 3
   },
   "file_extension": ".py",
   "mimetype": "text/x-python",
   "name": "python",
   "nbconvert_exporter": "python",
   "pygments_lexer": "ipython3",
   "version": "3.9.5"
  }
 },
 "nbformat": 4,
 "nbformat_minor": 5
}
