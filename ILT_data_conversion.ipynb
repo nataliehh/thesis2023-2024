{
 "cells": [
  {
   "cell_type": "code",
   "execution_count": 1,
   "id": "e7344391",
   "metadata": {},
   "outputs": [],
   "source": [
    "import os\n",
    "import pandas as pd\n",
    "import json\n",
    "\n",
    "annotation_path = './data/ILT_data/ILT_data_annotations.csv'\n",
    "df = pd.read_csv(annotation_path, index_col = 0)\n",
    "df['img'] = df['img'].astype('str') # Ensure that the data type of the image paths is string"
   ]
  },
  {
   "cell_type": "code",
   "execution_count": 2,
   "id": "69a08887",
   "metadata": {},
   "outputs": [
    {
     "data": {
      "text/plain": [
       "False    70\n",
       "True     28\n",
       "Name: label_counts, dtype: int64"
      ]
     },
     "metadata": {},
     "output_type": "display_data"
    }
   ],
   "source": [
    "# Get a value_count of the labels an image is assigned, and format it as [(label1, num_votes), (label2, num_votes), ...]\n",
    "df2 = df.groupby('img')['label'].agg([('label_counts', lambda x: ([(v, x.value_counts()[v]) for v in x.value_counts().keys()]))]).reset_index()\n",
    "\n",
    "# Check which images have more than one label related to them\n",
    "display(df2['label_counts'].map(lambda x: len(x) > 1).value_counts())\n",
    "\n",
    "\n",
    "# Take the most voted label as the best label for the image\n",
    "df2['best_label'] = df2['label_counts'].map(lambda x: max(x, key = lambda y: y[1])[0])\n",
    "# Drop the label counts since we don't need them anymore\n",
    "df2 = df2.drop(['label_counts'], axis = 1)\n",
    "# Add the label of the image as a column to the original dataframe\n",
    "df_labeled = pd.merge(df, df2, on = 'img')"
   ]
  },
  {
   "cell_type": "code",
   "execution_count": 3,
   "id": "0fc1f40c",
   "metadata": {},
   "outputs": [
    {
     "name": "stdout",
     "output_type": "stream",
     "text": [
      "Num images: 98 Num labels: 98\n"
     ]
    }
   ],
   "source": [
    "from sklearn.model_selection import train_test_split\n",
    "images = df_labeled['img'].unique().tolist()\n",
    "labels = []\n",
    "for img in images:\n",
    "    label = df_labeled[df_labeled['img']==img]['best_label'].tolist()[0]\n",
    "    labels.append(label)\n",
    "\n",
    "print('Num images:', len(images), 'Num labels:', len(labels))\n",
    "X, y = images, labels\n",
    "\n",
    "train_size, val_size = 0.8, 0.1 # Specify train, val sizes\n",
    "test_size = round(val_size/(1 - train_size), 1) # Compute how large the test set is from the other sizes\n",
    "\n",
    "# First split into a train split and the rest (i.e. val and test split together)\n",
    "train_X, val_test_X, train_y, val_test_y = train_test_split(X, y, stratify = y, train_size = train_size, random_state = 42)\n",
    "\n",
    "# Split the val-test split into their own splits\n",
    "val_X, test_X, val_y, test_y = train_test_split(val_test_X, val_test_y, stratify = val_test_y, test_size =  test_size, \n",
    "                                                random_state = 42)"
   ]
  },
  {
   "cell_type": "code",
   "execution_count": 4,
   "id": "de9fb5fb",
   "metadata": {},
   "outputs": [],
   "source": [
    "from collections import Counter\n",
    "import numpy as np\n",
    "np.random.seed(42) # set seed for reproducibility\n",
    "\n",
    "# Make a dataset dictionary in a similar format to the other (remote sensing) datasets\n",
    "ilt_dict = {'dataset': 'ILT', 'images': []}\n",
    "\n",
    "# Get a list of all the images (without duplicates)\n",
    "image_paths  = df_labeled['img'].unique().tolist()\n",
    "for abs_image_path in image_paths:\n",
    "    # Convert absolute image path to relative path for some more flexibility \n",
    "    # To do this, we remove all the folders on the path except the thematic folder + image filename\n",
    "    image_path = '\\\\'.join(abs_image_path.split('/')[-2:])\n",
    "    \n",
    "    # Filter for the part of the dataframe where the image path matches the current one\n",
    "    image_df = df_labeled[df_labeled['img'] == abs_image_path]\n",
    "    image_label = image_df['best_label'].tolist()[0]\n",
    "    image_captions = image_df['caption'].tolist()\n",
    "    \n",
    "    # If we have less than 5 captions, randomly pick a few to repeat\n",
    "    # We do try to copy all captions approximately the same about by using random.choice with no replace\n",
    "    repeated_captions = []\n",
    "    while len(image_captions) + len(repeated_captions) < 5:\n",
    "        repeated_captions.extend(np.random.choice(image_captions, len(image_captions), replace = False).tolist())\n",
    "    image_captions.extend(repeated_captions) # Add the repeated captions to our original list of captions\n",
    "    image_captions = image_captions[:5] # Make sure the number of captions is 5\n",
    "    \n",
    "    # Check the image path splits to determine the split of this specific image (based on its path)\n",
    "    split = 'train' if abs_image_path in train_X else 'val' if abs_image_path in val_X else 'test'\n",
    "    \n",
    "    # Keep track of all the relevant information about the image\n",
    "    image_info = {'filename': image_path, 'label': image_label, 'captions': image_captions, 'split': split}\n",
    "\n",
    "    ilt_dict['images'].append(image_info) # Add the image info to the list"
   ]
  },
  {
   "cell_type": "code",
   "execution_count": 5,
   "id": "bffcb7c0",
   "metadata": {},
   "outputs": [],
   "source": [
    "data_info_path = './data/ILT_data/dataset.json'\n",
    "with open(data_info_path, 'w') as f:\n",
    "    json.dump(ilt_dict, f)"
   ]
  },
  {
   "cell_type": "code",
   "execution_count": 6,
   "id": "f6206b81",
   "metadata": {},
   "outputs": [],
   "source": [
    "labels_lst =  sorted(set([c['label'] for c in ilt_dict['images']]))"
   ]
  },
  {
   "cell_type": "code",
   "execution_count": 7,
   "id": "847120f4",
   "metadata": {},
   "outputs": [
    {
     "data": {
      "text/plain": [
       "(Counter({'Eigenwerken/water engineering': 13,\n",
       "          'Sea faring/inland shipping': 21,\n",
       "          'Waste storage/waste processor': 13,\n",
       "          'Airstrip/aviation': 12,\n",
       "          'Miscellaneous': 17,\n",
       "          'Waste transport': 2}),\n",
       " Counter({'Waste storage/waste processor': 2,\n",
       "          'Miscellaneous': 2,\n",
       "          'Sea faring/inland shipping': 3,\n",
       "          'Eigenwerken/water engineering': 2,\n",
       "          'Airstrip/aviation': 1}),\n",
       " Counter({'Sea faring/inland shipping': 3,\n",
       "          'Eigenwerken/water engineering': 1,\n",
       "          'Airstrip/aviation': 2,\n",
       "          'Miscellaneous': 3,\n",
       "          'Waste storage/waste processor': 1}),\n",
       " Counter({'Eigenwerken/water engineering': 16,\n",
       "          'Sea faring/inland shipping': 27,\n",
       "          'Waste storage/waste processor': 16,\n",
       "          'Airstrip/aviation': 15,\n",
       "          'Miscellaneous': 22,\n",
       "          'Waste transport': 2}))"
      ]
     },
     "execution_count": 7,
     "metadata": {},
     "output_type": "execute_result"
    }
   ],
   "source": [
    "from collections import Counter\n",
    "train_labels = [c['label'] for c in ilt_dict['images'] if c['split'] == 'train']\n",
    "val_labels = [c['label'] for c in ilt_dict['images'] if c['split'] == 'val']\n",
    "test_labels = [c['label'] for c in ilt_dict['images'] if c['split'] == 'test']\n",
    "all_labels = [c['label'] for c in ilt_dict['images']]\n",
    "Counter(train_labels), Counter(val_labels), Counter(test_labels), Counter(all_labels)"
   ]
  },
  {
   "cell_type": "code",
   "execution_count": 8,
   "id": "75429c33",
   "metadata": {},
   "outputs": [
    {
     "name": "stdout",
     "output_type": "stream",
     "text": [
      "{'filename': 'eigenwerken\\\\DJI_0060.JPG', 'label': 'Eigenwerken/water engineering', 'captions': ['a construction site around a river and some yellow floating deposit in the river and some boats with an excavator. ', 'construction site of a lock between a canal and the sea', 'construction site of a lock between a canal and the sea', 'a construction site around a river and some yellow floating deposit in the river and some boats with an excavator. ', 'a construction site around a river and some yellow floating deposit in the river and some boats with an excavator. '], 'split': 'train'}\n"
     ]
    }
   ],
   "source": [
    "# Print example \n",
    "for item in ilt_dict['images']:\n",
    "    print(item)\n",
    "    break"
   ]
  }
 ],
 "metadata": {
  "kernelspec": {
   "display_name": "Python 3 (ipykernel)",
   "language": "python",
   "name": "python3"
  },
  "language_info": {
   "codemirror_mode": {
    "name": "ipython",
    "version": 3
   },
   "file_extension": ".py",
   "mimetype": "text/x-python",
   "name": "python",
   "nbconvert_exporter": "python",
   "pygments_lexer": "ipython3",
   "version": "3.9.5"
  }
 },
 "nbformat": 4,
 "nbformat_minor": 5
}
