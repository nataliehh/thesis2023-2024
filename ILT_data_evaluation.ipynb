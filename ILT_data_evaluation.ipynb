{
 "cells": [
  {
   "cell_type": "code",
   "execution_count": null,
   "id": "e2b96e8c",
   "metadata": {},
   "outputs": [],
   "source": [
    "import sys\n",
    "sys.path.append('./scripts')\n",
    "sys.path.append('./probvlm')\n",
    "\n",
    "from tuning_tools import prep_str_args, evaluate_checkpoint, get_evaluation_history, gridsearch, create_base_str_args"
   ]
  },
  {
   "cell_type": "code",
   "execution_count": null,
   "id": "ad030861",
   "metadata": {},
   "outputs": [],
   "source": [
    "history_path = './results/test_eval_ilt.txt'  \n",
    "model_history = get_evaluation_history(history_path) # Get the history of evaluated models\n",
    "eval_file = './results/eval_ilt.txt'\n",
    "split = 'test'\n",
    "\n",
    "base_str_args = create_base_str_args('probvlm', 'ILT', eval_file)\n",
    "print('base str args:', base_str_args)\n",
    "\n",
    "# Dictionary of values to gridsearch for hyperparam tuning\n",
    "gridsearch_dict = {\n",
    "    '--epochs' : [15], #list(range(15,36,5)) if 'active-learning' in base_str_args else [35], #[10,15,20,25,30,35],\n",
    "    '--batch-size' : [4], #[8],\n",
    "    '--al-iter': [10], #list(range(3,17,2)), #list(range(1,6,2)),\n",
    "    '--al-epochs': [5],\n",
    "    '--label-ratio': [0.1, 0.2, 0.4, 0.8], #0.05, \n",
    "    '--lr': [5e-5],\n",
    "    '--test-data': ['ILT'],\n",
    "    '--device': ['cpu'],\n",
    "    '--save-freq' : [-1],\n",
    "#     '--pl-method': ['ot.image']\n",
    "}\n"
   ]
  },
  {
   "cell_type": "code",
   "execution_count": null,
   "id": "91b4bde5",
   "metadata": {
    "scrolled": false
   },
   "outputs": [],
   "source": [
    "gridsearch(base_str_args, gridsearch_dict, model_history, eval_file, split, num_repeats = 1)"
   ]
  },
  {
   "cell_type": "code",
   "execution_count": null,
   "id": "974f9db9",
   "metadata": {},
   "outputs": [],
   "source": []
  }
 ],
 "metadata": {
  "kernelspec": {
   "display_name": "Python 3 (ipykernel)",
   "language": "python",
   "name": "python3"
  },
  "language_info": {
   "codemirror_mode": {
    "name": "ipython",
    "version": 3
   },
   "file_extension": ".py",
   "mimetype": "text/x-python",
   "name": "python",
   "nbconvert_exporter": "python",
   "pygments_lexer": "ipython3",
   "version": "3.9.5"
  }
 },
 "nbformat": 4,
 "nbformat_minor": 5
}
