{
 "cells": [
  {
   "cell_type": "code",
   "execution_count": 1,
   "id": "e2b96e8c",
   "metadata": {},
   "outputs": [],
   "source": [
    "import sys\n",
    "sys.path.append('./scripts')\n",
    "sys.path.append('./probvlm')\n",
    "\n",
    "from tuning_tools import prep_str_args, evaluate_checkpoint, get_evaluation_history, gridsearch, create_base_str_args"
   ]
  },
  {
   "cell_type": "code",
   "execution_count": 2,
   "id": "ad030861",
   "metadata": {},
   "outputs": [
    {
     "name": "stdout",
     "output_type": "stream",
     "text": [
      "base str args:  \n",
      "    --train-data ILT\n",
      "    --val-data ILT\n",
      "    --save-freq 5\n",
      "    --eval-file ./results/eval_ilt.txt\n",
      "    --zeroshot-frequency 5\n",
      "    \n",
      "--method base\n"
     ]
    }
   ],
   "source": [
    "history_path = './results/test_eval_ilt.txt'  \n",
    "model_history = get_evaluation_history(history_path) # Get the history of evaluated models\n",
    "eval_file = './results/eval_ilt.txt'\n",
    "split = 'test'\n",
    "method = 'baseline'\n",
    "base_str_args = create_base_str_args(method, 'ILT', eval_file)\n",
    "print('base str args:', base_str_args)\n",
    "\n",
    "# Dictionary of values to gridsearch for hyperparam tuning\n",
    "gridsearch_dict = {\n",
    "    '--epochs' : [5], #list(range(15,36,5)) if 'active-learning' in base_str_args else [35], #[10,15,20,25,30,35],\n",
    "    '--batch-size' : [4] if method == 'probvlm' else [8] if method == 'baseline' else [16], #[8],\n",
    "    # '--al-iter': [10], #list(range(3,17,2)), #list(range(1,6,2)),\n",
    "    # '--al-epochs': [5],\n",
    "    '--label-ratio': [0.1, 0.2, 0.4, 0.8, 1.0] if method == 'baseline' else [0.1, 0.2, 0.4, 0.8], #0.05, \n",
    "    '--lr': [5e-5],\n",
    "    '--test-data': ['ILT'],\n",
    "    # '--device': ['cpu'],\n",
    "    '--save-freq' : [-1],\n",
    "    # '--pl-method': ['hard.text'],\n",
    "    # '--al-epochs': [15],\n",
    "    # '--al-iter': [5],\n",
    "}\n",
    "\n",
    "# probvlm -> bs = 4, epochs = 10, al-epochs = 10, al-iter = 5, lr = 5e-6\n",
    "# base-al -> bs = 16, epochs = 5, al-epochs = 15, al-iter = 5, lr = 5e-4"
   ]
  },
  {
   "cell_type": "code",
   "execution_count": 3,
   "id": "91b4bde5",
   "metadata": {
    "scrolled": true
   },
   "outputs": [
    {
     "name": "stdout",
     "output_type": "stream",
     "text": [
      "Evaluations per model run: 7\n",
      "Number of configs: 5\n",
      "str args:  \n",
      "    --train-data ILT\n",
      "    --val-data ILT\n",
      "    --save-freq 5\n",
      "    --eval-file ./results/eval_ilt.txt\n",
      "    --zeroshot-frequency 5\n",
      "    \n",
      "--method base\n",
      "--epochs 5\n",
      "--batch-size 8\n",
      "--label-ratio 0.1\n",
      "--lr 5e-05\n",
      "--test-data ILT\n",
      "--save-freq -1\n",
      "['--train-data', 'ILT', '--val-data', 'ILT', '--save-freq', '5', '--eval-file', './results/eval_ilt.txt', '--zeroshot-frequency', '5', '--method', 'base', '--epochs', '5', '--batch-size', '8', '--label-ratio', '0.1', '--lr', '5e-05', '--test-data', 'ILT', '--save-freq', '-1']\n",
      "num_evals already done of this model config: 36\n",
      "Config number 0: 0 repeats\n",
      "str args:  \n",
      "    --train-data ILT\n",
      "    --val-data ILT\n",
      "    --save-freq 5\n",
      "    --eval-file ./results/eval_ilt.txt\n",
      "    --zeroshot-frequency 5\n",
      "    \n",
      "--method base\n",
      "--epochs 5\n",
      "--batch-size 8\n",
      "--label-ratio 0.2\n",
      "--lr 5e-05\n",
      "--test-data ILT\n",
      "--save-freq -1\n",
      "['--train-data', 'ILT', '--val-data', 'ILT', '--save-freq', '5', '--eval-file', './results/eval_ilt.txt', '--zeroshot-frequency', '5', '--method', 'base', '--epochs', '5', '--batch-size', '8', '--label-ratio', '0.2', '--lr', '5e-05', '--test-data', 'ILT', '--save-freq', '-1']\n",
      "num_evals already done of this model config: 35\n",
      "Config number 1: 0 repeats\n",
      "str args:  \n",
      "    --train-data ILT\n",
      "    --val-data ILT\n",
      "    --save-freq 5\n",
      "    --eval-file ./results/eval_ilt.txt\n",
      "    --zeroshot-frequency 5\n",
      "    \n",
      "--method base\n",
      "--epochs 5\n",
      "--batch-size 8\n",
      "--label-ratio 0.4\n",
      "--lr 5e-05\n",
      "--test-data ILT\n",
      "--save-freq -1\n",
      "['--train-data', 'ILT', '--val-data', 'ILT', '--save-freq', '5', '--eval-file', './results/eval_ilt.txt', '--zeroshot-frequency', '5', '--method', 'base', '--epochs', '5', '--batch-size', '8', '--label-ratio', '0.4', '--lr', '5e-05', '--test-data', 'ILT', '--save-freq', '-1']\n",
      "num_evals already done of this model config: 35\n",
      "Config number 2: 0 repeats\n",
      "str args:  \n",
      "    --train-data ILT\n",
      "    --val-data ILT\n",
      "    --save-freq 5\n",
      "    --eval-file ./results/eval_ilt.txt\n",
      "    --zeroshot-frequency 5\n",
      "    \n",
      "--method base\n",
      "--epochs 5\n",
      "--batch-size 8\n",
      "--label-ratio 0.8\n",
      "--lr 5e-05\n",
      "--test-data ILT\n",
      "--save-freq -1\n",
      "['--train-data', 'ILT', '--val-data', 'ILT', '--save-freq', '5', '--eval-file', './results/eval_ilt.txt', '--zeroshot-frequency', '5', '--method', 'base', '--epochs', '5', '--batch-size', '8', '--label-ratio', '0.8', '--lr', '5e-05', '--test-data', 'ILT', '--save-freq', '-1']\n",
      "num_evals already done of this model config: 35\n",
      "Config number 3: 0 repeats\n",
      "str args:  \n",
      "    --train-data ILT\n",
      "    --val-data ILT\n",
      "    --save-freq 5\n",
      "    --eval-file ./results/eval_ilt.txt\n",
      "    --zeroshot-frequency 5\n",
      "    \n",
      "--method base\n",
      "--epochs 5\n",
      "--batch-size 8\n",
      "--label-ratio 1.0\n",
      "--lr 5e-05\n",
      "--test-data ILT\n",
      "--save-freq -1\n",
      "['--train-data', 'ILT', '--val-data', 'ILT', '--save-freq', '5', '--eval-file', './results/eval_ilt.txt', '--zeroshot-frequency', '5', '--method', 'base', '--epochs', '5', '--batch-size', '8', '--label-ratio', '1.0', '--lr', '5e-05', '--test-data', 'ILT', '--save-freq', '-1']\n",
      "num_evals already done of this model config: 35\n",
      "Config number 4: 0 repeats\n",
      "Elapsed time: 0:00:00.397899\n"
     ]
    }
   ],
   "source": [
    "gridsearch(base_str_args, gridsearch_dict, model_history, eval_file, split, num_repeats = 5, change_seed = True)"
   ]
  },
  {
   "cell_type": "code",
   "execution_count": 4,
   "id": "974f9db9",
   "metadata": {},
   "outputs": [],
   "source": [
    "# This runs CLIP on the ILT data, without having trained on it (repeats 5 times)\n",
    "for _ in range(5):\n",
    "    evaluate_checkpoint(checkpoint_path = None, epoch = 0, split = 'test', dataset = 'ILT', eval_file = eval_file)"
   ]
  },
  {
   "cell_type": "code",
   "execution_count": null,
   "id": "43246924-d9d5-4c9c-bb39-a98817912756",
   "metadata": {},
   "outputs": [],
   "source": []
  }
 ],
 "metadata": {
  "kernelspec": {
   "display_name": "Python 3 (ipykernel)",
   "language": "python",
   "name": "python3"
  },
  "language_info": {
   "codemirror_mode": {
    "name": "ipython",
    "version": 3
   },
   "file_extension": ".py",
   "mimetype": "text/x-python",
   "name": "python",
   "nbconvert_exporter": "python",
   "pygments_lexer": "ipython3",
   "version": "3.11.7"
  }
 },
 "nbformat": 4,
 "nbformat_minor": 5
}
