{
 "cells": [
  {
   "cell_type": "code",
   "execution_count": 1,
   "id": "e2b96e8c",
   "metadata": {},
   "outputs": [
    {
     "name": "stderr",
     "output_type": "stream",
     "text": [
      "[nltk_data] Downloading package punkt to C:\\Users\\Laptop of\n",
      "[nltk_data]     Natalie\\AppData\\Roaming\\nltk_data...\n",
      "[nltk_data]   Package punkt is already up-to-date!\n",
      "[nltk_data] Downloading package averaged_perceptron_tagger to\n",
      "[nltk_data]     C:\\Users\\Laptop of\n",
      "[nltk_data]     Natalie\\AppData\\Roaming\\nltk_data...\n",
      "[nltk_data]   Package averaged_perceptron_tagger is already up-to-\n",
      "[nltk_data]       date!\n"
     ]
    }
   ],
   "source": [
    "import sys\n",
    "sys.path.append('/vol/tensusers4/nhollain/thesis2023-2024/s_clip_scripts')\n",
    "sys.path.append('./scripts')\n",
    "sys.path.append('./probvlm')\n",
    "\n",
    "import itertools\n",
    "from collections import Counter\n",
    "from main import main, format_checkpoint\n",
    "from params import parse_args\n",
    "import copy\n",
    "import os\n",
    "from tqdm import tqdm\n",
    "from datetime import datetime\n",
    "\n",
    "from tuning_tools import prep_str_args, evaluate_checkpoint"
   ]
  },
  {
   "cell_type": "code",
   "execution_count": 2,
   "id": "ad030861",
   "metadata": {},
   "outputs": [
    {
     "name": "stdout",
     "output_type": "stream",
     "text": [
      "Number of configs: 5\n"
     ]
    }
   ],
   "source": [
    "########################\n",
    "# Count the models that have been trained and evaluated already, based on their parameters \n",
    "results = []\n",
    "if os.path.exists('./test_eval.txt'):   \n",
    "    with open('./test_eval.txt', 'r') as f:\n",
    "        results = f.readlines()\n",
    "\n",
    "# Remove any non-result lines from the eval file, and split the lines on the tab character\n",
    "# (results have format: model_name\\tdataset_name\\tmetric_name\\tmetric_value)\n",
    "results = [r.replace('\\n','').split('\\t')[0] for r in results if '\\t' in r]\n",
    "model_names = results\n",
    "# Remove the timestamp from the model names, as well as the specific fold - rest of the name contains params\n",
    "model_names = ['-'.join(m.split('-')[2:]).split('-fold')[0] for m in model_names]\n",
    "model_names = dict(Counter(model_names))\n",
    "# print('Model_names', model_names)\n",
    "\n",
    "# Do a grid search on the parameters\n",
    "# NOTE: for active learning, save-freq should be set to 1\n",
    "base_str_args = ''' --train-data ILT\n",
    "--test-data ILT\n",
    "--keyword-path keywords/RS/class-name.txt\n",
    "--zeroshot-frequency 5  \n",
    "--method base\n",
    "--lr 5e-5\n",
    "--device cuda\n",
    "--eval-file ./results/eval_ilt.txt\n",
    "'''\n",
    "# --active-learning\n",
    "# --probvlm\n",
    "#--save-freq 1\n",
    "\n",
    "# Dictionary of values to gridsearch for hyperparam tuning\n",
    "gridsearch_dict = {\n",
    "    '--epochs' : [25], #list(range(15,36,5)) if 'active-learning' in base_str_args else [35], #[10,15,20,25,30,35],\n",
    "    '--batch-size' : [64],\n",
    "    '--al-iter': [5], #list(range(3,17,2)), #list(range(1,6,2)),\n",
    "    '--al-epochs': [10],\n",
    "    '--label-ratio': [0.05, 0.1, 0.2, 0.4, 0.8],\n",
    "    #'--pl-method': ['soft.text'],\n",
    "}\n",
    "\n",
    "# How many times to re-evaluate the model on the test set (to get an average and std of the results)\n",
    "num_repeats = 5\n",
    "num_evals = 20 # How many evaluations are done with evaluate_checkpoint(...) - KEEP THIS FIXED\n",
    "\n",
    "gridsearch_values = list(gridsearch_dict.values())\n",
    "gridsearch_keys = list(gridsearch_dict.keys())\n",
    "configs = list(itertools.product(*gridsearch_values))\n",
    "print('Number of configs:', len(configs))"
   ]
  },
  {
   "cell_type": "code",
   "execution_count": 3,
   "id": "91b4bde5",
   "metadata": {},
   "outputs": [
    {
     "name": "stdout",
     "output_type": "stream",
     "text": [
      "['--train-data', 'ILT', '--test-data', 'ILT', '--keyword-path', 'keywords/RS/class-name.txt', '--zeroshot-frequency', '5', '--method', 'base', '--lr', '5e-5', '--device', 'cuda', '--eval-file', 'eval_ilt.txt', '--epochs', '25', '--batch-size', '64', '--al-iter', '5', '--al-epochs', '10', '--label-ratio', '0.05']\n",
      "Config number 0: 5 repeats\n"
     ]
    },
    {
     "name": "stderr",
     "output_type": "stream",
     "text": [
      "100%|██████████████████████████████████████████████████████████████████████████████████| 25/25 [00:02<00:00, 10.87it/s]\n",
      "100%|██████████████████████████████████████████████████████████████████████████████████| 64/64 [00:40<00:00,  1.57it/s]\n",
      "100%|██████████████████████████████████████████████████████████████████████████████████| 25/25 [00:02<00:00, 11.55it/s]\n",
      "100%|██████████████████████████████████████████████████████████████████████████████████| 64/64 [00:31<00:00,  2.02it/s]\n",
      "100%|██████████████████████████████████████████████████████████████████████████████████| 25/25 [00:02<00:00, 11.04it/s]\n",
      "100%|██████████████████████████████████████████████████████████████████████████████████| 64/64 [00:32<00:00,  1.98it/s]\n",
      "100%|██████████████████████████████████████████████████████████████████████████████████| 25/25 [00:02<00:00, 12.30it/s]\n",
      "100%|██████████████████████████████████████████████████████████████████████████████████| 64/64 [00:31<00:00,  2.05it/s]\n",
      "100%|██████████████████████████████████████████████████████████████████████████████████| 25/25 [00:02<00:00, 11.64it/s]\n",
      "100%|██████████████████████████████████████████████████████████████████████████████████| 64/64 [00:31<00:00,  2.04it/s]\n"
     ]
    },
    {
     "name": "stdout",
     "output_type": "stream",
     "text": [
      "['--train-data', 'ILT', '--test-data', 'ILT', '--keyword-path', 'keywords/RS/class-name.txt', '--zeroshot-frequency', '5', '--method', 'base', '--lr', '5e-5', '--device', 'cuda', '--eval-file', 'eval_ilt.txt', '--epochs', '25', '--batch-size', '64', '--al-iter', '5', '--al-epochs', '10', '--label-ratio', '0.1']\n",
      "Config number 1: 5 repeats\n"
     ]
    },
    {
     "name": "stderr",
     "output_type": "stream",
     "text": [
      "100%|██████████████████████████████████████████████████████████████████████████████████| 25/25 [00:01<00:00, 13.22it/s]\n",
      "100%|██████████████████████████████████████████████████████████████████████████████████| 64/64 [00:33<00:00,  1.92it/s]\n",
      "100%|██████████████████████████████████████████████████████████████████████████████████| 25/25 [00:02<00:00, 10.32it/s]\n",
      "100%|██████████████████████████████████████████████████████████████████████████████████| 64/64 [00:33<00:00,  1.93it/s]\n",
      "100%|██████████████████████████████████████████████████████████████████████████████████| 25/25 [00:02<00:00,  9.67it/s]\n",
      "100%|██████████████████████████████████████████████████████████████████████████████████| 64/64 [00:35<00:00,  1.81it/s]\n",
      "100%|██████████████████████████████████████████████████████████████████████████████████| 25/25 [00:02<00:00, 10.21it/s]\n",
      "100%|██████████████████████████████████████████████████████████████████████████████████| 64/64 [00:35<00:00,  1.83it/s]\n",
      "100%|██████████████████████████████████████████████████████████████████████████████████| 25/25 [00:01<00:00, 13.18it/s]\n",
      "100%|██████████████████████████████████████████████████████████████████████████████████| 64/64 [00:35<00:00,  1.82it/s]\n"
     ]
    },
    {
     "name": "stdout",
     "output_type": "stream",
     "text": [
      "['--train-data', 'ILT', '--test-data', 'ILT', '--keyword-path', 'keywords/RS/class-name.txt', '--zeroshot-frequency', '5', '--method', 'base', '--lr', '5e-5', '--device', 'cuda', '--eval-file', 'eval_ilt.txt', '--epochs', '25', '--batch-size', '64', '--al-iter', '5', '--al-epochs', '10', '--label-ratio', '0.2']\n",
      "Config number 2: 5 repeats\n"
     ]
    },
    {
     "name": "stderr",
     "output_type": "stream",
     "text": [
      "100%|██████████████████████████████████████████████████████████████████████████████████| 25/25 [00:02<00:00, 10.68it/s]\n",
      "100%|██████████████████████████████████████████████████████████████████████████████████| 64/64 [00:35<00:00,  1.83it/s]\n",
      "100%|██████████████████████████████████████████████████████████████████████████████████| 25/25 [00:02<00:00, 11.54it/s]\n",
      "100%|██████████████████████████████████████████████████████████████████████████████████| 64/64 [00:35<00:00,  1.82it/s]\n",
      "100%|██████████████████████████████████████████████████████████████████████████████████| 25/25 [00:02<00:00, 11.78it/s]\n",
      "100%|██████████████████████████████████████████████████████████████████████████████████| 64/64 [00:34<00:00,  1.83it/s]\n",
      "100%|██████████████████████████████████████████████████████████████████████████████████| 25/25 [00:02<00:00, 10.22it/s]\n",
      "100%|██████████████████████████████████████████████████████████████████████████████████| 64/64 [00:37<00:00,  1.69it/s]\n",
      "100%|██████████████████████████████████████████████████████████████████████████████████| 25/25 [00:04<00:00,  5.59it/s]\n",
      "100%|██████████████████████████████████████████████████████████████████████████████████| 64/64 [00:36<00:00,  1.74it/s]\n"
     ]
    },
    {
     "name": "stdout",
     "output_type": "stream",
     "text": [
      "['--train-data', 'ILT', '--test-data', 'ILT', '--keyword-path', 'keywords/RS/class-name.txt', '--zeroshot-frequency', '5', '--method', 'base', '--lr', '5e-5', '--device', 'cuda', '--eval-file', 'eval_ilt.txt', '--epochs', '25', '--batch-size', '64', '--al-iter', '5', '--al-epochs', '10', '--label-ratio', '0.4']\n",
      "Config number 3: 5 repeats\n"
     ]
    },
    {
     "name": "stderr",
     "output_type": "stream",
     "text": [
      "100%|██████████████████████████████████████████████████████████████████████████████████| 25/25 [00:02<00:00, 11.71it/s]\n",
      "100%|██████████████████████████████████████████████████████████████████████████████████| 64/64 [00:33<00:00,  1.92it/s]\n",
      "100%|██████████████████████████████████████████████████████████████████████████████████| 25/25 [00:01<00:00, 13.17it/s]\n",
      "100%|██████████████████████████████████████████████████████████████████████████████████| 64/64 [00:35<00:00,  1.82it/s]\n",
      "100%|██████████████████████████████████████████████████████████████████████████████████| 25/25 [00:01<00:00, 13.72it/s]\n",
      "100%|██████████████████████████████████████████████████████████████████████████████████| 64/64 [00:33<00:00,  1.91it/s]\n",
      "100%|██████████████████████████████████████████████████████████████████████████████████| 25/25 [00:02<00:00, 12.34it/s]\n",
      "100%|██████████████████████████████████████████████████████████████████████████████████| 64/64 [00:30<00:00,  2.12it/s]\n",
      "100%|██████████████████████████████████████████████████████████████████████████████████| 25/25 [00:01<00:00, 12.54it/s]\n",
      "100%|██████████████████████████████████████████████████████████████████████████████████| 64/64 [00:32<00:00,  2.00it/s]\n"
     ]
    },
    {
     "name": "stdout",
     "output_type": "stream",
     "text": [
      "['--train-data', 'ILT', '--test-data', 'ILT', '--keyword-path', 'keywords/RS/class-name.txt', '--zeroshot-frequency', '5', '--method', 'base', '--lr', '5e-5', '--device', 'cuda', '--eval-file', 'eval_ilt.txt', '--epochs', '25', '--batch-size', '64', '--al-iter', '5', '--al-epochs', '10', '--label-ratio', '0.8']\n",
      "Config number 4: 5 repeats\n"
     ]
    },
    {
     "name": "stderr",
     "output_type": "stream",
     "text": [
      "100%|██████████████████████████████████████████████████████████████████████████████████| 25/25 [00:02<00:00, 12.06it/s]\n",
      "100%|██████████████████████████████████████████████████████████████████████████████████| 64/64 [00:45<00:00,  1.39it/s]\n",
      "100%|██████████████████████████████████████████████████████████████████████████████████| 25/25 [00:01<00:00, 13.11it/s]\n",
      "100%|██████████████████████████████████████████████████████████████████████████████████| 64/64 [00:33<00:00,  1.93it/s]\n",
      "100%|██████████████████████████████████████████████████████████████████████████████████| 25/25 [00:02<00:00, 11.79it/s]\n",
      "100%|██████████████████████████████████████████████████████████████████████████████████| 64/64 [00:23<00:00,  2.69it/s]\n",
      "100%|██████████████████████████████████████████████████████████████████████████████████| 25/25 [00:01<00:00, 12.73it/s]\n",
      "100%|██████████████████████████████████████████████████████████████████████████████████| 64/64 [00:22<00:00,  2.86it/s]\n",
      "100%|██████████████████████████████████████████████████████████████████████████████████| 25/25 [00:01<00:00, 13.33it/s]\n",
      "100%|██████████████████████████████████████████████████████████████████████████████████| 64/64 [02:00<00:00,  1.88s/it]\n"
     ]
    },
    {
     "name": "stdout",
     "output_type": "stream",
     "text": [
      "Elapsed time: 0:37:37.600617\n"
     ]
    }
   ],
   "source": [
    "t_start = datetime.now() \n",
    "for c, config in enumerate(configs): # Gridsearch\n",
    "    str_args = copy.deepcopy(base_str_args)\n",
    "    # Add the gridsearch parameters to the arguments\n",
    "    for i, param in enumerate(config):\n",
    "        param_name = gridsearch_keys[i]\n",
    "        str_args += '\\n{} {}'.format(param_name, param)\n",
    "        \n",
    "    str_args = prep_str_args(str_args)\n",
    "    print(str_args)\n",
    "    args = parse_args(str_args)\n",
    "    checkpoint_hypothetical = format_checkpoint(args)\n",
    "    # Remove the timestamp from the hypothetical checkpoint, so we can compare to the params of other checkpoints\n",
    "    checkpoint_params = '-'.join(checkpoint_hypothetical.split('-')[2:]).split('-fold')[0]\n",
    "\n",
    "    # Check if we've already trained the exact same model, correct the number of training iterations we still need to do\n",
    "    if checkpoint_params in model_names:\n",
    "        # The number of times to repeat depends on how often the model's been evaluated already\n",
    "        start_repeat = int(model_names[checkpoint_params]/num_evals)\n",
    "    else: # If we've never trained + evaluated the model before, just use num_repeats\n",
    "        start_repeat = 0\n",
    "    print(f'Config number {c}: {max(0,num_repeats-start_repeat)} repeats')\n",
    "    for i in range(start_repeat, num_repeats):\n",
    "        args = parse_args(str_args)\n",
    "        args.seed = i\n",
    "        # We compute here for which epochs we need to evaluate (based on for which epochs we checkpoint)\n",
    "        epoch_freq = args.save_freq\n",
    "        epochs = list(range(epoch_freq,args.epochs+1,epoch_freq))\n",
    "        \n",
    "        checkpoint_path = main(args) # Calls the main.py function of S-CLIP\n",
    "        for epoch in epochs:\n",
    "            evaluate_checkpoint(checkpoint_path, epoch = epoch, split = 'test', eval_file = './results/eval_ilt.txt')\n",
    "        # Remove the checkpoint after evaluating, to save space\n",
    "        os.system(f\"rm -r {checkpoint_path}\")  \n",
    "\n",
    "t_delta = datetime.now() - t_start   \n",
    "print(f'Elapsed time: {t_delta}')"
   ]
  },
  {
   "cell_type": "code",
   "execution_count": null,
   "id": "974f9db9",
   "metadata": {},
   "outputs": [],
   "source": []
  }
 ],
 "metadata": {
  "kernelspec": {
   "display_name": "Python 3 (ipykernel)",
   "language": "python",
   "name": "python3"
  },
  "language_info": {
   "codemirror_mode": {
    "name": "ipython",
    "version": 3
   },
   "file_extension": ".py",
   "mimetype": "text/x-python",
   "name": "python",
   "nbconvert_exporter": "python",
   "pygments_lexer": "ipython3",
   "version": "3.9.5"
  }
 },
 "nbformat": 4,
 "nbformat_minor": 5
}
