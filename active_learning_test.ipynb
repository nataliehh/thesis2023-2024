{
 "cells": [
  {
   "cell_type": "code",
   "execution_count": 1,
   "id": "4b02fb99-91d8-49f0-ab5f-0faa961323ce",
   "metadata": {},
   "outputs": [
    {
     "name": "stdout",
     "output_type": "stream",
     "text": [
      "[[0.95618289 0.97463185 0.9258201 ]\n",
      " [0.86640023 1.         0.98692754]\n",
      " [0.83480969 0.99819089 0.99483201]\n",
      " [0.07909216 0.53654673 0.65404015]\n",
      " [0.78873821 0.99032815 0.9997429 ]]\n",
      "[0.97463185 1.         0.99819089 0.65404015 0.9997429 ]\n"
     ]
    },
    {
     "data": {
      "text/plain": [
       "array([3, 0, 2])"
      ]
     },
     "execution_count": 1,
     "metadata": {},
     "output_type": "execute_result"
    }
   ],
   "source": [
    "import numpy as np\n",
    "from scipy.spatial.distance import cdist\n",
    "from sklearn.metrics.pairwise import cosine_similarity\n",
    "a = np.array([[1,2,3], [4,5,6], [7,8,9], [208,21,8], [35,36,37]])\n",
    "b = np.array([[0,1,2], [4,5,6], [5,5,5]])\n",
    "sim  = 1- cdist(a, b, metric = 'cosine')\n",
    "print(sim)\n",
    "max_sim = np.max(sim, axis = 1)\n",
    "print(max_sim)\n",
    "bottom_N = max_sim.argsort()\n",
    "bottom_N[:3]"
   ]
  },
  {
   "cell_type": "code",
   "execution_count": 2,
   "id": "4b307d41-02b6-4866-b360-f0875d647b26",
   "metadata": {},
   "outputs": [
    {
     "name": "stdout",
     "output_type": "stream",
     "text": [
      "[0.96987555 0.93117361 0.99175944 0.94328947 0.94435571 0.95077862\n",
      " 0.98731626 0.95820886 0.98253808 0.95508419 0.95820886 0.97900068\n",
      " 0.97631643 0.9662245  0.9409062  0.93504933 0.95508419 0.97900068\n",
      " 0.99175944 0.98731626]\n"
     ]
    },
    {
     "data": {
      "text/plain": [
       "array([0.93117361, 0.93504933, 0.9409062 , 0.94328947, 0.94435571,\n",
       "       0.95077862, 0.95508419, 0.95508419, 0.95820886, 0.95820886,\n",
       "       0.9662245 , 0.96987555, 0.97631643, 0.97900068, 0.97900068,\n",
       "       0.98253808, 0.98731626, 0.98731626, 0.99175944, 0.99175944])"
      ]
     },
     "execution_count": 2,
     "metadata": {},
     "output_type": "execute_result"
    }
   ],
   "source": [
    "arr1 = np.random.rand(20,5)\n",
    "arr = 1-cdist(arr1, arr1, metric = 'cosine')\n",
    "# print(arr)\n",
    "mask = np.zeros(arr.shape, dtype=bool)\n",
    "np.fill_diagonal(arr, 0)\n",
    "max = np.max(arr, axis = 0)\n",
    "print(max)\n",
    "m = max.argsort()\n",
    "max[m]"
   ]
  },
  {
   "cell_type": "code",
   "execution_count": 3,
   "id": "42a94cfe-8ef9-4278-b85b-e1b9450d7afd",
   "metadata": {},
   "outputs": [],
   "source": [
    "c = np.random.rand(300, 3)\n",
    "d = np.random.rand(100, 3)"
   ]
  },
  {
   "cell_type": "code",
   "execution_count": 4,
   "id": "0c2d5e6d-b705-40bd-9a98-666338d5e2a8",
   "metadata": {},
   "outputs": [
    {
     "name": "stdout",
     "output_type": "stream",
     "text": [
      "655 µs ± 27 µs per loop (mean ± std. dev. of 7 runs, 1,000 loops each)\n",
      "245 µs ± 1.4 µs per loop (mean ± std. dev. of 7 runs, 1,000 loops each)\n"
     ]
    }
   ],
   "source": [
    "%timeit cosine_similarity(c,d)\n",
    "%timeit 1- cdist(c,d, metric = 'cosine')"
   ]
  },
  {
   "cell_type": "code",
   "execution_count": null,
   "id": "2b2029aa-bdc4-4f14-b38c-c1666721ccd5",
   "metadata": {},
   "outputs": [],
   "source": []
  }
 ],
 "metadata": {
  "kernelspec": {
   "display_name": "Python 3 (ipykernel)",
   "language": "python",
   "name": "python3"
  },
  "language_info": {
   "codemirror_mode": {
    "name": "ipython",
    "version": 3
   },
   "file_extension": ".py",
   "mimetype": "text/x-python",
   "name": "python",
   "nbconvert_exporter": "python",
   "pygments_lexer": "ipython3",
   "version": "3.10.12"
  }
 },
 "nbformat": 4,
 "nbformat_minor": 5
}
