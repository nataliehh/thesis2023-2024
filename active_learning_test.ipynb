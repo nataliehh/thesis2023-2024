{
 "cells": [
  {
   "cell_type": "code",
   "execution_count": 9,
   "id": "4b02fb99-91d8-49f0-ab5f-0faa961323ce",
   "metadata": {},
   "outputs": [
    {
     "name": "stdout",
     "output_type": "stream",
     "text": [
      "[[0.95618289 0.97463185 0.9258201 ]\n",
      " [0.86640023 1.         0.98692754]\n",
      " [0.83480969 0.99819089 0.99483201]\n",
      " [0.07909216 0.53654673 0.65404015]\n",
      " [0.78873821 0.99032815 0.9997429 ]]\n",
      "[0.97463185 1.         0.99819089 0.65404015 0.9997429 ]\n"
     ]
    },
    {
     "data": {
      "text/plain": [
       "array([3, 0, 2])"
      ]
     },
     "execution_count": 9,
     "metadata": {},
     "output_type": "execute_result"
    }
   ],
   "source": [
    "import numpy as np\n",
    "from scipy.spatial.distance import cdist\n",
    "from sklearn.metrics.pairwise import cosine_similarity\n",
    "a = np.array([[1,2,3], [4,5,6], [7,8,9], [208,21,8], [35,36,37]])\n",
    "b = np.array([[0,1,2], [4,5,6], [5,5,5]])\n",
    "sim  = 1- cdist(a, b, metric = 'cosine')\n",
    "print(sim)\n",
    "max_sim = np.max(sim, axis = 1)\n",
    "print(max_sim)\n",
    "bottom_N = max_sim.argsort()\n",
    "bottom_N[:3]"
   ]
  },
  {
   "cell_type": "code",
   "execution_count": 22,
   "id": "9efca415-603f-45d6-bd4d-eb84140f58d8",
   "metadata": {},
   "outputs": [
    {
     "data": {
      "text/plain": [
       "array([[ 35,  36,  37],\n",
       "       [208,  21,   8],\n",
       "       [  7,   8,   9],\n",
       "       [  4,   5,   6],\n",
       "       [  1,   2,   3]])"
      ]
     },
     "execution_count": 22,
     "metadata": {},
     "output_type": "execute_result"
    }
   ],
   "source": [
    "np.flip(a, axis = 0)"
   ]
  },
  {
   "cell_type": "code",
   "execution_count": 17,
   "id": "35e4d89e-ade0-4672-94d3-4f4fab6bda89",
   "metadata": {},
   "outputs": [
    {
     "name": "stdout",
     "output_type": "stream",
     "text": [
      "[[0.         0.95941195]\n",
      " [0.97463185 0.99819089]\n",
      " [0.95941195 0.        ]\n",
      " [0.35002836 0.58202504]\n",
      " [0.93415227 0.99687849]]\n",
      "[0.95941195 0.99819089 0.95941195 0.58202504 0.99687849]\n",
      "[3 0 2 4 1]\n"
     ]
    }
   ],
   "source": [
    "sim  = 1- cdist(a, a, metric = 'cosine')\n",
    "np.fill_diagonal(sim, 0)\n",
    "s = sim[:,[0,2]]\n",
    "\n",
    "print(s)\n",
    "max_sim = np.max(s, axis = 1)\n",
    "print(max_sim)\n",
    "bottom_N = max_sim.argsort()\n",
    "print(bottom_N)"
   ]
  },
  {
   "cell_type": "code",
   "execution_count": 6,
   "id": "751f6e30-f469-4be3-bdac-3260cd025d05",
   "metadata": {},
   "outputs": [
    {
     "name": "stdout",
     "output_type": "stream",
     "text": [
      "[[0.99146013 0.54518697 0.63249569 0.94491118 0.9258201 ]\n",
      " [0.94499299 0.71589733 0.67038986 0.88640526 0.98692754]\n",
      " [0.92436076 0.75558234 0.6747882  0.86304424 0.99483201]\n",
      " [0.2941414  0.96208469 0.1818534  0.29404984 0.65404015]\n",
      " [0.89218667 0.80354037 0.67685442 0.82762397 0.9997429 ]]\n"
     ]
    },
    {
     "data": {
      "text/plain": [
       "array([0.99146013, 0.71589733, 0.6747882 , 0.29404984, 0.9997429 ])"
      ]
     },
     "execution_count": 6,
     "metadata": {},
     "output_type": "execute_result"
    }
   ],
   "source": [
    "a1 = np.array([[1,2,3], [4,5,6], [7,8,9], [208,21,8], [35,36,37]])\n",
    "a2 = np.array([[1,2,4], [40,15,6], [7,88,9], [2,2,8], [3,3,3]])\n",
    "sim  = 1- cdist(a1, a2, metric = 'cosine')\n",
    "print(sim)\n",
    "sim.diagonal()"
   ]
  },
  {
   "cell_type": "code",
   "execution_count": 26,
   "id": "022a7c53-23b5-454a-bd49-a43e92c57e0e",
   "metadata": {},
   "outputs": [
    {
     "data": {
      "text/plain": [
       "array([[  1,   2,   3],\n",
       "       [  4,   5,   6],\n",
       "       [  7,   8,   9],\n",
       "       [208,  21,   8],\n",
       "       [ 35,  36,  37],\n",
       "       [  1,   2,   4],\n",
       "       [ 40,  15,   6],\n",
       "       [  7,  88,   9],\n",
       "       [  2,   2,   8],\n",
       "       [  3,   3,   3]])"
      ]
     },
     "execution_count": 26,
     "metadata": {},
     "output_type": "execute_result"
    }
   ],
   "source": [
    "a3 = np.append(a1,a2, axis = 0)\n",
    "a3"
   ]
  },
  {
   "cell_type": "code",
   "execution_count": 2,
   "id": "4b307d41-02b6-4866-b360-f0875d647b26",
   "metadata": {},
   "outputs": [
    {
     "name": "stdout",
     "output_type": "stream",
     "text": [
      "[0.96987555 0.93117361 0.99175944 0.94328947 0.94435571 0.95077862\n",
      " 0.98731626 0.95820886 0.98253808 0.95508419 0.95820886 0.97900068\n",
      " 0.97631643 0.9662245  0.9409062  0.93504933 0.95508419 0.97900068\n",
      " 0.99175944 0.98731626]\n"
     ]
    },
    {
     "data": {
      "text/plain": [
       "array([0.93117361, 0.93504933, 0.9409062 , 0.94328947, 0.94435571,\n",
       "       0.95077862, 0.95508419, 0.95508419, 0.95820886, 0.95820886,\n",
       "       0.9662245 , 0.96987555, 0.97631643, 0.97900068, 0.97900068,\n",
       "       0.98253808, 0.98731626, 0.98731626, 0.99175944, 0.99175944])"
      ]
     },
     "execution_count": 2,
     "metadata": {},
     "output_type": "execute_result"
    }
   ],
   "source": [
    "arr1 = np.random.rand(20,5)\n",
    "arr = 1-cdist(arr1, arr1, metric = 'cosine')\n",
    "# print(arr)\n",
    "mask = np.zeros(arr.shape, dtype=bool)\n",
    "np.fill_diagonal(arr, 0)\n",
    "max = np.max(arr, axis = 0)\n",
    "print(max)\n",
    "m = max.argsort()\n",
    "max[m]"
   ]
  },
  {
   "cell_type": "code",
   "execution_count": 3,
   "id": "42a94cfe-8ef9-4278-b85b-e1b9450d7afd",
   "metadata": {},
   "outputs": [],
   "source": [
    "c = np.random.rand(300, 3)\n",
    "d = np.random.rand(100, 3)"
   ]
  },
  {
   "cell_type": "code",
   "execution_count": 4,
   "id": "0c2d5e6d-b705-40bd-9a98-666338d5e2a8",
   "metadata": {},
   "outputs": [
    {
     "name": "stdout",
     "output_type": "stream",
     "text": [
      "655 µs ± 27 µs per loop (mean ± std. dev. of 7 runs, 1,000 loops each)\n",
      "245 µs ± 1.4 µs per loop (mean ± std. dev. of 7 runs, 1,000 loops each)\n"
     ]
    }
   ],
   "source": [
    "%timeit cosine_similarity(c,d)\n",
    "%timeit 1- cdist(c,d, metric = 'cosine')"
   ]
  },
  {
   "cell_type": "code",
   "execution_count": null,
   "id": "2b2029aa-bdc4-4f14-b38c-c1666721ccd5",
   "metadata": {},
   "outputs": [],
   "source": []
  }
 ],
 "metadata": {
  "kernelspec": {
   "display_name": "Python 3 (ipykernel)",
   "language": "python",
   "name": "python3"
  },
  "language_info": {
   "codemirror_mode": {
    "name": "ipython",
    "version": 3
   },
   "file_extension": ".py",
   "mimetype": "text/x-python",
   "name": "python",
   "nbconvert_exporter": "python",
   "pygments_lexer": "ipython3",
   "version": "3.10.12"
  }
 },
 "nbformat": 4,
 "nbformat_minor": 5
}
