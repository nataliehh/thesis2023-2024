{
 "cells": [
  {
   "cell_type": "code",
   "execution_count": 21,
   "id": "4b02fb99-91d8-49f0-ab5f-0faa961323ce",
   "metadata": {},
   "outputs": [
    {
     "name": "stdout",
     "output_type": "stream",
     "text": [
      "[[0.95618289 0.97463185 0.85360869]\n",
      " [0.86640023 1.         0.74156667]\n",
      " [0.83480969 0.99819089 0.70507303]\n",
      " [0.07909216 0.53654673 0.0579271 ]\n",
      " [0.78873821 0.99032815 0.65327633]]\n",
      "[0.97463185 1.         0.99819089 0.53654673 0.99032815]\n"
     ]
    },
    {
     "data": {
      "text/plain": [
       "array([3, 0, 4])"
      ]
     },
     "execution_count": 21,
     "metadata": {},
     "output_type": "execute_result"
    }
   ],
   "source": [
    "import numpy as np\n",
    "from scipy.spatial.distance import cdist\n",
    "from sklearn.metrics.pairwise import cosine_similarity\n",
    "a = np.array([[1,2,3], [4,5,6], [7,8,9], [208,21,8], [35,36,37]])\n",
    "b = np.array([[0,1,2], [4,5,6], [5,50,500]])\n",
    "sim  = 1- cdist(a, b, metric = 'cosine')\n",
    "print(sim)\n",
    "max_sim = np.max(sim, axis = 1)\n",
    "print(max_sim)\n",
    "bottom_N = max_sim.argsort()\n",
    "bottom_N[:3]"
   ]
  },
  {
   "cell_type": "code",
   "execution_count": 35,
   "id": "ceedf5b0-4c4a-4937-926e-408c026a3ecb",
   "metadata": {},
   "outputs": [
    {
     "name": "stdout",
     "output_type": "stream",
     "text": [
      "[[0.95618289 0.97463185 0.85360869]\n",
      " [0.86640023 1.         0.74156667]\n",
      " [0.83480969 0.99819089 0.70507303]\n",
      " [0.07909216 0.53654673 0.0579271 ]\n",
      " [0.78873821 0.99032815 0.65327633]]\n",
      "[[0.34340427 0.35003004 0.30656569]\n",
      " [0.33221289 0.38344045 0.28434666]\n",
      " [0.32891469 0.39328682 0.27779849]\n",
      " [0.11742302 0.79657634 0.08600063]\n",
      " [0.32427101 0.40714993 0.26857907]]\n",
      "[[-0.36704659 -0.36743924 -0.36245974]\n",
      " [-0.36609172 -0.36755488 -0.35758331]\n",
      " [-0.36573895 -0.3670216  -0.35582078]\n",
      " [-0.25151686 -0.18116719 -0.210994  ]\n",
      " [-0.36518612 -0.36585425 -0.35307671]]\n",
      "[1.09694556 1.09122991 1.08858132 0.64367806 1.08411708]\n",
      "[0 1 2 4 3]\n"
     ]
    }
   ],
   "source": [
    "sim  = 1- cdist(a, b, metric = 'cosine')\n",
    "print(sim)\n",
    "sim = sim/sim.sum(axis=1)[:,None]\n",
    "print(sim)\n",
    "entropy = np.inner(sim,np.log(sim))\n",
    "entropy = np.zeros(sim.shape)\n",
    "for i in range(sim.shape[0]):\n",
    "    for j in range(sim.shape[1]):\n",
    "        entropy[i,j] = (sim[i,j]*np.log(sim[i,j]))\n",
    "print(entropy)\n",
    "uncertainty = np.sum(-1*entropy, axis = 1)\n",
    "score = np.flip(uncertainty.argsort())\n",
    "print(uncertainty)\n",
    "print(score)"
   ]
  },
  {
   "cell_type": "code",
   "execution_count": 38,
   "id": "5e290ede-693c-40d9-af7b-77513dc76df6",
   "metadata": {},
   "outputs": [
    {
     "data": {
      "text/plain": [
       "array([[     0,      1,      4],\n",
       "       [    16,     25,     36],\n",
       "       [    25,   2500, 250000]])"
      ]
     },
     "execution_count": 38,
     "metadata": {},
     "output_type": "execute_result"
    }
   ],
   "source": [
    "np.multiply(b, b)\n"
   ]
  },
  {
   "cell_type": "code",
   "execution_count": 39,
   "id": "f8a2eeaf-f71c-4d2a-b232-6f98279b959a",
   "metadata": {},
   "outputs": [
    {
     "name": "stdout",
     "output_type": "stream",
     "text": [
      "[[0.95618289 0.97463185 0.85360869]\n",
      " [0.86640023 1.         0.74156667]\n",
      " [0.83480969 0.99819089 0.70507303]\n",
      " [0.07909216 0.53654673 0.0579271 ]\n",
      " [0.78873821 0.99032815 0.65327633]]\n",
      "[[0.34340427 0.35003004 0.30656569]\n",
      " [0.33221289 0.38344045 0.28434666]\n",
      " [0.32891469 0.39328682 0.27779849]\n",
      " [0.11742302 0.79657634 0.08600063]\n",
      " [0.32427101 0.40714993 0.26857907]]\n",
      "[[-0.36704659 -0.36743924 -0.36245974]\n",
      " [-0.36609172 -0.36755488 -0.35758331]\n",
      " [-0.36573895 -0.3670216  -0.35582078]\n",
      " [-0.25151686 -0.18116719 -0.210994  ]\n",
      " [-0.36518612 -0.36585425 -0.35307671]]\n",
      "[1.09694556 1.09122991 1.08858132 0.64367806 1.08411708]\n",
      "[0 1 2 4 3]\n"
     ]
    }
   ],
   "source": [
    "sim  = 1- cdist(a, b, metric = 'cosine')\n",
    "print(sim)\n",
    "sim = sim/sim.sum(axis=1)[:,None]\n",
    "print(sim)\n",
    "entropy = np.multiply(sim,np.log(sim))\n",
    "print(entropy)\n",
    "uncertainty = np.sum(-1*entropy, axis = 1)\n",
    "score = np.flip(uncertainty.argsort())\n",
    "print(uncertainty)\n",
    "print(score)"
   ]
  },
  {
   "cell_type": "code",
   "execution_count": 33,
   "id": "69309f8a-029e-4f1f-9b32-631e92dda110",
   "metadata": {},
   "outputs": [
    {
     "data": {
      "text/plain": [
       "array([[-1.0688469 , -1.0497363 , -1.18232322],\n",
       "       [-1.10197927, -0.95857095, -1.25756116],\n",
       "       [-1.11195687, -0.93321612, -1.28085927],\n",
       "       [-2.14197228, -0.2274323 , -2.45340064],\n",
       "       [-1.12617567, -0.89857379, -1.31460994]])"
      ]
     },
     "execution_count": 33,
     "metadata": {},
     "output_type": "execute_result"
    }
   ],
   "source": [
    "np.log(sim)"
   ]
  },
  {
   "cell_type": "code",
   "execution_count": 31,
   "id": "e7a3fe89-ed69-403d-8b36-6b23cbb02c36",
   "metadata": {},
   "outputs": [
    {
     "data": {
      "text/plain": [
       "array([[-1.09694556, -1.09947812, -1.10117192, -1.56729902, -1.10427566],\n",
       "       [-1.09378573, -1.09122991, -1.09144727, -1.49641382, -1.09248456],\n",
       "       [-1.0928545 , -1.08879908, -1.08858132, -1.47552327, -1.08900961],\n",
       "       [-1.06338288, -1.00112374, -0.98410193, -0.64367806, -0.96107886],\n",
       "       [-1.09154338, -1.08537662, -1.08454623, -1.4461106 , -1.08411708]])"
      ]
     },
     "execution_count": 31,
     "metadata": {},
     "output_type": "execute_result"
    }
   ],
   "source": [
    "entropy"
   ]
  },
  {
   "cell_type": "code",
   "execution_count": 30,
   "id": "02759c73-01c7-4e68-b9ce-8dc2dc4d31bc",
   "metadata": {},
   "outputs": [
    {
     "name": "stdout",
     "output_type": "stream",
     "text": [
      "-0.3670465879397818\n",
      "-0.36743923899431324\n",
      "-0.3624597350766718\n",
      "-0.36609172181705896\n",
      "-0.367554876614156\n",
      "-0.35758331231468216\n",
      "-0.3657389465382279\n",
      "-0.36702159700652437\n",
      "-0.3558207764644702\n",
      "-0.25151686148919083\n",
      "-0.18116719329996847\n",
      "-0.21099400433766677\n",
      "-0.3651861190797651\n",
      "-0.3658542531182911\n",
      "-0.3530767084026482\n"
     ]
    }
   ],
   "source": [
    "for i in range(sim.shape[0]):\n",
    "    for j in range(sim.shape[1]):\n",
    "        print(sim[i,j]*np.log(sim[i,j]))"
   ]
  },
  {
   "cell_type": "code",
   "execution_count": 5,
   "id": "cc974d1e-8f10-4581-abf9-3abe8d2e2ce3",
   "metadata": {},
   "outputs": [
    {
     "data": {
      "text/plain": [
       "['an aerial photograph of a.',\n",
       " 'an aerial photograph of b.',\n",
       " 'an aerial photograph of c.']"
      ]
     },
     "execution_count": 5,
     "metadata": {},
     "output_type": "execute_result"
    }
   ],
   "source": [
    "templates = [lambda c: f\"an aerial photograph of {c}.\"]\n",
    "classnames = ['a', 'b', 'c']\n",
    "texts = []\n",
    "for classname in classnames:\n",
    "    texts += [template(classname) for template in templates]\n",
    "texts"
   ]
  },
  {
   "cell_type": "code",
   "execution_count": 22,
   "id": "9efca415-603f-45d6-bd4d-eb84140f58d8",
   "metadata": {},
   "outputs": [
    {
     "data": {
      "text/plain": [
       "array([[ 35,  36,  37],\n",
       "       [208,  21,   8],\n",
       "       [  7,   8,   9],\n",
       "       [  4,   5,   6],\n",
       "       [  1,   2,   3]])"
      ]
     },
     "execution_count": 22,
     "metadata": {},
     "output_type": "execute_result"
    }
   ],
   "source": [
    "np.flip(a, axis = 0)"
   ]
  },
  {
   "cell_type": "code",
   "execution_count": 17,
   "id": "35e4d89e-ade0-4672-94d3-4f4fab6bda89",
   "metadata": {},
   "outputs": [
    {
     "name": "stdout",
     "output_type": "stream",
     "text": [
      "[[0.         0.95941195]\n",
      " [0.97463185 0.99819089]\n",
      " [0.95941195 0.        ]\n",
      " [0.35002836 0.58202504]\n",
      " [0.93415227 0.99687849]]\n",
      "[0.95941195 0.99819089 0.95941195 0.58202504 0.99687849]\n",
      "[3 0 2 4 1]\n"
     ]
    }
   ],
   "source": [
    "sim  = 1- cdist(a, a, metric = 'cosine')\n",
    "np.fill_diagonal(sim, 0)\n",
    "s = sim[:,[0,2]]\n",
    "\n",
    "print(s)\n",
    "max_sim = np.max(s, axis = 1)\n",
    "print(max_sim)\n",
    "bottom_N = max_sim.argsort()\n",
    "print(bottom_N)"
   ]
  },
  {
   "cell_type": "code",
   "execution_count": 6,
   "id": "751f6e30-f469-4be3-bdac-3260cd025d05",
   "metadata": {},
   "outputs": [
    {
     "name": "stdout",
     "output_type": "stream",
     "text": [
      "[[0.99146013 0.54518697 0.63249569 0.94491118 0.9258201 ]\n",
      " [0.94499299 0.71589733 0.67038986 0.88640526 0.98692754]\n",
      " [0.92436076 0.75558234 0.6747882  0.86304424 0.99483201]\n",
      " [0.2941414  0.96208469 0.1818534  0.29404984 0.65404015]\n",
      " [0.89218667 0.80354037 0.67685442 0.82762397 0.9997429 ]]\n"
     ]
    },
    {
     "data": {
      "text/plain": [
       "array([0.99146013, 0.71589733, 0.6747882 , 0.29404984, 0.9997429 ])"
      ]
     },
     "execution_count": 6,
     "metadata": {},
     "output_type": "execute_result"
    }
   ],
   "source": [
    "a1 = np.array([[1,2,3], [4,5,6], [7,8,9], [208,21,8], [35,36,37]])\n",
    "a2 = np.array([[1,2,4], [40,15,6], [7,88,9], [2,2,8], [3,3,3]])\n",
    "sim  = 1- cdist(a1, a2, metric = 'cosine')\n",
    "print(sim)\n",
    "sim.diagonal()"
   ]
  },
  {
   "cell_type": "code",
   "execution_count": 26,
   "id": "022a7c53-23b5-454a-bd49-a43e92c57e0e",
   "metadata": {},
   "outputs": [
    {
     "data": {
      "text/plain": [
       "array([[  1,   2,   3],\n",
       "       [  4,   5,   6],\n",
       "       [  7,   8,   9],\n",
       "       [208,  21,   8],\n",
       "       [ 35,  36,  37],\n",
       "       [  1,   2,   4],\n",
       "       [ 40,  15,   6],\n",
       "       [  7,  88,   9],\n",
       "       [  2,   2,   8],\n",
       "       [  3,   3,   3]])"
      ]
     },
     "execution_count": 26,
     "metadata": {},
     "output_type": "execute_result"
    }
   ],
   "source": [
    "a3 = np.append(a1,a2, axis = 0)\n",
    "a3"
   ]
  },
  {
   "cell_type": "code",
   "execution_count": 2,
   "id": "4b307d41-02b6-4866-b360-f0875d647b26",
   "metadata": {},
   "outputs": [
    {
     "name": "stdout",
     "output_type": "stream",
     "text": [
      "[0.96987555 0.93117361 0.99175944 0.94328947 0.94435571 0.95077862\n",
      " 0.98731626 0.95820886 0.98253808 0.95508419 0.95820886 0.97900068\n",
      " 0.97631643 0.9662245  0.9409062  0.93504933 0.95508419 0.97900068\n",
      " 0.99175944 0.98731626]\n"
     ]
    },
    {
     "data": {
      "text/plain": [
       "array([0.93117361, 0.93504933, 0.9409062 , 0.94328947, 0.94435571,\n",
       "       0.95077862, 0.95508419, 0.95508419, 0.95820886, 0.95820886,\n",
       "       0.9662245 , 0.96987555, 0.97631643, 0.97900068, 0.97900068,\n",
       "       0.98253808, 0.98731626, 0.98731626, 0.99175944, 0.99175944])"
      ]
     },
     "execution_count": 2,
     "metadata": {},
     "output_type": "execute_result"
    }
   ],
   "source": [
    "arr1 = np.random.rand(20,5)\n",
    "arr = 1-cdist(arr1, arr1, metric = 'cosine')\n",
    "# print(arr)\n",
    "mask = np.zeros(arr.shape, dtype=bool)\n",
    "np.fill_diagonal(arr, 0)\n",
    "max = np.max(arr, axis = 0)\n",
    "print(max)\n",
    "m = max.argsort()\n",
    "max[m]"
   ]
  },
  {
   "cell_type": "code",
   "execution_count": 3,
   "id": "42a94cfe-8ef9-4278-b85b-e1b9450d7afd",
   "metadata": {},
   "outputs": [],
   "source": [
    "c = np.random.rand(300, 3)\n",
    "d = np.random.rand(100, 3)"
   ]
  },
  {
   "cell_type": "code",
   "execution_count": 4,
   "id": "0c2d5e6d-b705-40bd-9a98-666338d5e2a8",
   "metadata": {},
   "outputs": [
    {
     "name": "stdout",
     "output_type": "stream",
     "text": [
      "655 µs ± 27 µs per loop (mean ± std. dev. of 7 runs, 1,000 loops each)\n",
      "245 µs ± 1.4 µs per loop (mean ± std. dev. of 7 runs, 1,000 loops each)\n"
     ]
    }
   ],
   "source": [
    "%timeit cosine_similarity(c,d)\n",
    "%timeit 1- cdist(c,d, metric = 'cosine')"
   ]
  },
  {
   "cell_type": "code",
   "execution_count": null,
   "id": "2b2029aa-bdc4-4f14-b38c-c1666721ccd5",
   "metadata": {},
   "outputs": [],
   "source": []
  }
 ],
 "metadata": {
  "kernelspec": {
   "display_name": "Python 3 (ipykernel)",
   "language": "python",
   "name": "python3"
  },
  "language_info": {
   "codemirror_mode": {
    "name": "ipython",
    "version": 3
   },
   "file_extension": ".py",
   "mimetype": "text/x-python",
   "name": "python",
   "nbconvert_exporter": "python",
   "pygments_lexer": "ipython3",
   "version": "3.10.12"
  }
 },
 "nbformat": 4,
 "nbformat_minor": 5
}
