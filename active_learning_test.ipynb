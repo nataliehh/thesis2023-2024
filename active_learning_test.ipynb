{
 "cells": [
  {
   "cell_type": "code",
   "execution_count": 25,
   "id": "4b02fb99-91d8-49f0-ab5f-0faa961323ce",
   "metadata": {},
   "outputs": [
    {
     "name": "stdout",
     "output_type": "stream",
     "text": [
      "[[0.95618289 0.97463185 0.9258201 ]\n",
      " [0.86640023 1.         0.98692754]\n",
      " [0.83480969 0.99819089 0.99483201]\n",
      " [0.07909216 0.53654673 0.65404015]\n",
      " [0.78873821 0.99032815 0.9997429 ]]\n",
      "[0.97463185 1.         0.99819089 0.65404015 0.9997429 ]\n"
     ]
    },
    {
     "data": {
      "text/plain": [
       "array([3, 0, 2])"
      ]
     },
     "execution_count": 25,
     "metadata": {},
     "output_type": "execute_result"
    }
   ],
   "source": [
    "import numpy as np\n",
    "from scipy.spatial.distance import cdist\n",
    "a = np.array([[1,2,3], [4,5,6], [7,8,9], [208,21,8], [35,36,37]])\n",
    "b = np.array([[0,1,2], [4,5,6], [5,5,5]])\n",
    "sim  = 1- cdist(a, b, metric = 'cosine')\n",
    "print(sim)\n",
    "max_sim = np.max(sim, axis = 1)\n",
    "print(max_sim)\n",
    "bottom_N = max_sim.argsort()\n",
    "bottom_N[:3]"
   ]
  },
  {
   "cell_type": "code",
   "execution_count": 6,
   "id": "b4f9f275-af93-4cc1-8d29-e19d61074890",
   "metadata": {},
   "outputs": [
    {
     "data": {
      "text/plain": [
       "array([[0.95618289, 0.97612933],\n",
       "       [0.86640023, 0.99996596]])"
      ]
     },
     "execution_count": 6,
     "metadata": {},
     "output_type": "execute_result"
    }
   ],
   "source": [
    "from sklearn.metrics.pairwise import cosine_similarity\n",
    "cosine_similarity(a,b)"
   ]
  },
  {
   "cell_type": "code",
   "execution_count": 7,
   "id": "752e66cc-a3ac-4c25-a6d5-c6ca333a8137",
   "metadata": {},
   "outputs": [
    {
     "data": {
      "text/plain": [
       "(2, 3)"
      ]
     },
     "execution_count": 7,
     "metadata": {},
     "output_type": "execute_result"
    }
   ],
   "source": [
    "a.shape"
   ]
  },
  {
   "cell_type": "code",
   "execution_count": 9,
   "id": "42a94cfe-8ef9-4278-b85b-e1b9450d7afd",
   "metadata": {},
   "outputs": [],
   "source": [
    "c = np.random.rand(300, 3)\n",
    "d = np.random.rand(100, 3)"
   ]
  },
  {
   "cell_type": "code",
   "execution_count": 20,
   "id": "0c2d5e6d-b705-40bd-9a98-666338d5e2a8",
   "metadata": {},
   "outputs": [
    {
     "name": "stdout",
     "output_type": "stream",
     "text": [
      "311 µs ± 696 ns per loop (mean ± std. dev. of 7 runs, 1,000 loops each)\n",
      "111 µs ± 112 ns per loop (mean ± std. dev. of 7 runs, 10,000 loops each)\n"
     ]
    }
   ],
   "source": [
    "%timeit cosine_similarity(c,d)\n",
    "%timeit 1- cdist(c,d, metric = 'cosine')"
   ]
  },
  {
   "cell_type": "code",
   "execution_count": 14,
   "id": "93ba31e9-d329-4e36-a13a-b547afa3b078",
   "metadata": {},
   "outputs": [
    {
     "name": "stdout",
     "output_type": "stream",
     "text": [
      "CPU times: user 373 µs, sys: 312 µs, total: 685 µs\n",
      "Wall time: 499 µs\n"
     ]
    },
    {
     "data": {
      "text/plain": [
       "array([[0.96857469, 0.89196447, 0.81996217, ..., 0.94030458, 0.94218486,\n",
       "        0.91037244],\n",
       "       [0.79040324, 0.91820775, 0.99658649, ..., 0.94224561, 0.70795146,\n",
       "        0.57297207],\n",
       "       [0.78168442, 0.76796381, 0.89689578, ..., 0.8452626 , 0.71791316,\n",
       "        0.73290649],\n",
       "       ...,\n",
       "       [0.8085224 , 0.97010227, 0.85249184, ..., 0.93128992, 0.75340127,\n",
       "        0.49915316],\n",
       "       [0.92723695, 0.75770649, 0.43657278, ..., 0.76114267, 0.96525924,\n",
       "        0.9080158 ],\n",
       "       [0.7394572 , 0.92975909, 0.97698808, ..., 0.9251869 , 0.65337341,\n",
       "        0.45207162]])"
      ]
     },
     "execution_count": 14,
     "metadata": {},
     "output_type": "execute_result"
    }
   ],
   "source": [
    "%%time\n",
    "1- cdist(c,d, metric = 'cosine')"
   ]
  },
  {
   "cell_type": "code",
   "execution_count": null,
   "id": "2b2029aa-bdc4-4f14-b38c-c1666721ccd5",
   "metadata": {},
   "outputs": [],
   "source": []
  }
 ],
 "metadata": {
  "kernelspec": {
   "display_name": "Python 3 (ipykernel)",
   "language": "python",
   "name": "python3"
  },
  "language_info": {
   "codemirror_mode": {
    "name": "ipython",
    "version": 3
   },
   "file_extension": ".py",
   "mimetype": "text/x-python",
   "name": "python",
   "nbconvert_exporter": "python",
   "pygments_lexer": "ipython3",
   "version": "3.10.12"
  }
 },
 "nbformat": 4,
 "nbformat_minor": 5
}
