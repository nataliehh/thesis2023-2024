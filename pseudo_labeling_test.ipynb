{
 "cells": [
  {
   "cell_type": "code",
   "execution_count": 1,
   "id": "354a0fd6-cd04-4a6d-aeea-10362fa90b94",
   "metadata": {},
   "outputs": [],
   "source": [
    "import numpy as np\n",
    "import cv2\n",
    "# Based on : https://gist.github.com/soruly/bd02a218690fe4e19295de3f5bede242\n",
    "def compare(img1_path, img2_path):\n",
    "    # Read in images\n",
    "    img1, img2 = cv2.imread(img1_path), cv2.imread(img2_path)                \n",
    "    # https://stackoverflow.com/questions/65541488/dead-kernel-sift-detectgray-none-the-kernel-appears-to-have-died-it-will-re\n",
    "    # Using cv2.SIFT_create() to avoid kernel dying, like it does with cv2.SIFT()\n",
    "    sift = cv2.SIFT_create() # Initializing SIFT\n",
    "\n",
    "    # Detect keypoints and descriptors\n",
    "    kp1, des1 = sift.detectAndCompute(img1, None)\n",
    "    kp2, des2 = sift.detectAndCompute(img2, None)\n",
    "\n",
    "    # Match features between the two images\n",
    "    bf = cv2.BFMatcher()\n",
    "    matches = bf.match(des1,des2)\n",
    "    return matches"
   ]
  },
  {
   "cell_type": "code",
   "execution_count": 2,
   "id": "6f78227b-7eea-4817-92d6-597380f01aaa",
   "metadata": {},
   "outputs": [
    {
     "data": {
      "text/plain": [
       "1754"
      ]
     },
     "execution_count": 2,
     "metadata": {},
     "output_type": "execute_result"
    }
   ],
   "source": [
    "matches = compare('./data/test/dog1.jpg', './data/test/dog2.jpg')\n",
    "len(matches)"
   ]
  },
  {
   "cell_type": "code",
   "execution_count": 3,
   "id": "71a0751c-5cbf-4b6b-a25d-fd13cc7f5e39",
   "metadata": {},
   "outputs": [
    {
     "data": {
      "text/plain": [
       "106303"
      ]
     },
     "execution_count": 3,
     "metadata": {},
     "output_type": "execute_result"
    }
   ],
   "source": [
    "matches = compare('./data/test/cat1.jpg', './data/test/dog2.jpg')\n",
    "len(matches)"
   ]
  },
  {
   "cell_type": "code",
   "execution_count": 4,
   "id": "1e0e52be-77e4-43c5-a9ed-e8973a80ec6d",
   "metadata": {},
   "outputs": [
    {
     "data": {
      "text/plain": [
       "106303"
      ]
     },
     "execution_count": 4,
     "metadata": {},
     "output_type": "execute_result"
    }
   ],
   "source": [
    "matches = compare('./data/test/cat1.jpg', './data/test/dog1.jpg')\n",
    "len(matches)"
   ]
  },
  {
   "cell_type": "code",
   "execution_count": null,
   "id": "c87b372c-6574-4cf2-a0ee-9bfb6bab681a",
   "metadata": {},
   "outputs": [],
   "source": []
  }
 ],
 "metadata": {
  "kernelspec": {
   "display_name": "Python 3 (ipykernel)",
   "language": "python",
   "name": "python3"
  },
  "language_info": {
   "codemirror_mode": {
    "name": "ipython",
    "version": 3
   },
   "file_extension": ".py",
   "mimetype": "text/x-python",
   "name": "python",
   "nbconvert_exporter": "python",
   "pygments_lexer": "ipython3",
   "version": "3.10.12"
  }
 },
 "nbformat": 4,
 "nbformat_minor": 5
}
