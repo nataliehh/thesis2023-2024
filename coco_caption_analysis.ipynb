{
 "cells": [
  {
   "cell_type": "code",
   "execution_count": 2,
   "id": "044db30f",
   "metadata": {},
   "outputs": [],
   "source": [
    "import json\n",
    "import os \n",
    "\n",
    "root = r'D:\\Downloads\\annotations_trainval2014\\annotations'\n",
    "json_file = 'captions_val2014.json'\n",
    "with open(os.path.join(root,json_file)) as json_data:\n",
    "    data = json.load(json_data)\n",
    "captions = [img['caption'] for img in data['annotations']]"
   ]
  },
  {
   "cell_type": "code",
   "execution_count": 6,
   "id": "03c99c53",
   "metadata": {},
   "outputs": [
    {
     "data": {
      "text/plain": [
       "202654"
      ]
     },
     "execution_count": 6,
     "metadata": {},
     "output_type": "execute_result"
    }
   ],
   "source": [
    "\n",
    "\n",
    "len(captions)"
   ]
  },
  {
   "cell_type": "code",
   "execution_count": null,
   "id": "2551bf0d",
   "metadata": {},
   "outputs": [],
   "source": []
  }
 ],
 "metadata": {
  "kernelspec": {
   "display_name": "Python 3 (ipykernel)",
   "language": "python",
   "name": "python3"
  },
  "language_info": {
   "codemirror_mode": {
    "name": "ipython",
    "version": 3
   },
   "file_extension": ".py",
   "mimetype": "text/x-python",
   "name": "python",
   "nbconvert_exporter": "python",
   "pygments_lexer": "ipython3",
   "version": "3.9.5"
  }
 },
 "nbformat": 4,
 "nbformat_minor": 5
}
